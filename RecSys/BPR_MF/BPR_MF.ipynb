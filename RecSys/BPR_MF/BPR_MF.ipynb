{
 "cells": [
  {
   "cell_type": "code",
   "execution_count": 1,
   "metadata": {},
   "outputs": [],
   "source": [
    "import os\n",
    "import random\n",
    "import pandas as pd\n",
    "import numpy as np\n",
    "from box import Box\n",
    "\n",
    "from sklearn.preprocessing import LabelEncoder\n",
    "\n",
    "import torch\n",
    "from torch import nn\n",
    "from torch.utils.data import Dataset\n",
    "from torch.utils.data import DataLoader\n",
    "import copy\n",
    "\n",
    "from typing import Tuple\n",
    "from matplotlib import pyplot as plt\n",
    "from tqdm import tqdm"
   ]
  },
  {
   "cell_type": "code",
   "execution_count": 2,
   "metadata": {},
   "outputs": [],
   "source": [
    "def setSeed(seed):\n",
    "    random.seed(seed)\n",
    "    np.random.seed(seed)\n",
    "    torch.manual_seed(seed)\n",
    "    if torch.cuda.is_available():\n",
    "        torch.cuda.manual_seed_all(seed)\n",
    "        torch.backends.cudnn.deterministic = True"
   ]
  },
  {
   "cell_type": "code",
   "execution_count": 3,
   "metadata": {},
   "outputs": [],
   "source": [
    "dir_base = os.path.join(os.path.join('/opt','ml','paper','RecSys'))\n",
    "dir_data = os.path.join(dir_base, 'Data', 'ml-latest-small')\n",
    "path_rating = os.path.join(dir_data, 'ratings.csv')\n",
    "dir_file_path = {\n",
    "    'dir_base': dir_base,\n",
    "    'dir_data': dir_data,\n",
    "    'path_rating': path_rating,\n",
    "}\n",
    "\n",
    "dir_file_path = Box(dir_file_path)"
   ]
  },
  {
   "cell_type": "code",
   "execution_count": 4,
   "metadata": {},
   "outputs": [],
   "source": [
    "class DataInfo():\n",
    "    def __init__(self, file_path: str) -> None:\n",
    "        self.df = pd.read_csv(file_path)\n",
    "        self.user_encoder, self.movie_encoder = self._encode()\n",
    "\n",
    "        self.set_users = set(self.df['userId'].unique())\n",
    "        self.num_users = len(self.set_users)\n",
    "        self.set_movies = set(self.df['movieId'].unique())\n",
    "        self.num_movies = len(self.set_movies)\n",
    "\n",
    "    def _encode(self) -> Tuple[pd.DataFrame, LabelEncoder, LabelEncoder]:\n",
    "        userId_label_encoder = LabelEncoder()\n",
    "        movieId_label_encoder = LabelEncoder()\n",
    "\n",
    "        self.df['userId'] = userId_label_encoder.fit_transform(self.df['userId'].values)\n",
    "        self.df['movieId'] = movieId_label_encoder.fit_transform(self.df['movieId'].values)\n",
    "\n",
    "        # encoder.inverse_transform() 으로 decode\n",
    "        return userId_label_encoder, movieId_label_encoder"
   ]
  },
  {
   "cell_type": "code",
   "execution_count": 5,
   "metadata": {},
   "outputs": [],
   "source": [
    "class MFDataSet(Dataset):\n",
    "    def __init__(self, df):\n",
    "        self.df = df\n",
    "\n",
    "    def __len__(self):\n",
    "        return self.df.shape[0]\n",
    "\n",
    "    def __getitem__(self, idx):\n",
    "\n",
    "        # nn.Embedding은 input 타입이 정수이어야 한다.\n",
    "        user = torch.tensor(self.df.iloc[idx]['userId']).to(torch.int64)\n",
    "        item = torch.tensor(self.df.iloc[idx]['movieId']).to(torch.int64)\n",
    "        rating = torch.tensor(self.df.iloc[idx]['rating']).float()\n",
    "\n",
    "        return user, item, rating, torch.Tensor(0)"
   ]
  },
  {
   "cell_type": "code",
   "execution_count": 6,
   "metadata": {},
   "outputs": [],
   "source": [
    "class BPRDataSet(Dataset):\n",
    "    def __init__(self, data):\n",
    "        self.df = data.df\n",
    "        self.items = data.set_movies\n",
    "\n",
    "    def __len__(self):\n",
    "        return self.df.shape[0]\n",
    "\n",
    "    def __getitem__(self, idx):\n",
    "        user = torch.tensor(self.df.iloc[idx]['userId']).to(torch.int64)\n",
    "        item = torch.tensor(self.df.iloc[idx]['movieId']).to(torch.int64) # self.df.iloc[idx]['movieId']\n",
    "        rating = torch.tensor(self.df.iloc[idx]['rating']).float()\n",
    "\n",
    "        neg_item = self._choiceRandomItem(user, item, rating)\n",
    "        neg_item = torch.tensor(neg_item).to(torch.int64)\n",
    "\n",
    "        return user, item, rating, neg_item\n",
    "    \n",
    "    def _choiceRandomItem(self, user, item, rating):\n",
    "        user = int(user.detach().cpu().numpy())\n",
    "        item = int(item.detach().cpu().numpy())\n",
    "        rating = float(rating.detach().cpu().numpy())\n",
    "        \n",
    "        candi_item = list(self.items - set([item]))\n",
    "        choice_item = int(random.sample(candi_item, 1)[0])\n",
    "\n",
    "        choice_rating = self.df[(self.df['userId'] == user) & (self.df['movieId'] == choice_item)]['rating']\n",
    "        \n",
    "        while (not choice_rating.empty) and (rating <= choice_rating.values):\n",
    "            choice_item = int(random.sample(candi_item, 1)[0])\n",
    "            choice_rating = self.df[(self.df['userId'] == user) & (self.df['movieId'] == choice_item)]['rating']\n",
    "        \n",
    "        return choice_item"
   ]
  },
  {
   "cell_type": "code",
   "execution_count": 7,
   "metadata": {},
   "outputs": [],
   "source": [
    "class MF(nn.Module):\n",
    "    def __init__(self, num_users, num_items, latent_dim, global_mean):\n",
    "        super(MF, self).__init__()\n",
    "        self.user_embedding = nn.Embedding(num_users, latent_dim)\n",
    "        self.item_embedding = nn.Embedding(num_items, latent_dim)\n",
    "        self.user_bias_embedding = nn.Embedding(num_users, 1)\n",
    "        self.item_bias_embedding = nn.Embedding(num_items, 1)\n",
    "        self.global_mean = global_mean\n",
    "\n",
    "        self._init_weights()   \n",
    "\n",
    "    def _init_weights(self):\n",
    "        nn.init.xavier_uniform_(self.user_embedding.weight)\n",
    "        nn.init.xavier_uniform_(self.item_embedding.weight)\n",
    "        self.user_bias_embedding.weight.data.fill_(1)\n",
    "        self.item_bias_embedding.weight.data.fill_(1)\n",
    "    \n",
    "    def forward(self, indices_user, indices_item):\n",
    "        user_latent = self.user_embedding(indices_user)\n",
    "        item_latent = self.item_embedding(indices_item)\n",
    "\n",
    "        product = torch.sum(user_latent * item_latent, axis=1)\n",
    "\n",
    "        user_bias = self.user_bias_embedding(indices_user).squeeze()\n",
    "        item_bias = self.item_bias_embedding(indices_item).squeeze()\n",
    "\n",
    "\n",
    "        output = self.global_mean + user_bias + item_bias + product\n",
    "        return output"
   ]
  },
  {
   "cell_type": "code",
   "execution_count": 8,
   "metadata": {},
   "outputs": [],
   "source": [
    "class BPRLoss(nn.Module):\n",
    "    def __init__(self):\n",
    "        super(BPRLoss, self).__init__()\n",
    "        self.logsigmoid = nn.LogSigmoid()\n",
    "    \n",
    "    def forward(self, positive, negative):\n",
    "        distances = positive - negative\n",
    "        loss = -torch.mean(self.logsigmoid(distances))\n",
    "        return loss"
   ]
  },
  {
   "cell_type": "code",
   "execution_count": 9,
   "metadata": {},
   "outputs": [],
   "source": [
    "def train(model, data_loader, criterion, optimizer, epochs, device):\n",
    "    model.to(device)\n",
    "    model.train()\n",
    "    \n",
    "    loss_list = list()\n",
    "    size = len(data_loader)\n",
    "\n",
    "    # 훈련 시간 측정\n",
    "    epoch_start = torch.cuda.Event(enable_timing=True)\n",
    "    epoch_end = torch.cuda.Event(enable_timing=True)\n",
    "\n",
    "    for epoch in range(epochs):\n",
    "        epoch_loss = 0\n",
    "\n",
    "        # 시작 시간 기록\n",
    "        epoch_start.record()\n",
    "\n",
    "        for user, item, rating, neg_item in tqdm(data_loader):\n",
    "            user = user.to(device)\n",
    "            item = item.to(device)\n",
    "            rating = rating.to(device)\n",
    "\n",
    "            optimizer.zero_grad()\n",
    "            \n",
    "            if neg_item.nelement() == 0:\n",
    "                # MF\n",
    "                pred = model(user, item)\n",
    "                loss = criterion(pred, rating)\n",
    "            else:\n",
    "                # BPR\n",
    "                neg_item = neg_item.to(device)\n",
    "                pos = model(user, item)\n",
    "                neg = model(user, neg_item)\n",
    "                loss = criterion(pos, neg)\n",
    "            \n",
    "            loss.backward()\n",
    "            optimizer.step()\n",
    "\n",
    "            epoch_loss += loss.item()\n",
    "        \n",
    "        epoch_end.record()\n",
    "        torch.cuda.synchronize()\n",
    "\n",
    "        avg_loss = epoch_loss / size\n",
    "        loss_list.append(avg_loss)\n",
    "\n",
    "        print(\n",
    "            f'Epoch[{epoch+1}/{epochs}]\\ttrain_loss: {avg_loss:.4f}' +\n",
    "            f'\\t훈련시간: {epoch_start.elapsed_time(epoch_end)/1000:.2f} sec'\n",
    "        )\n",
    "\n",
    "    return loss_list"
   ]
  },
  {
   "cell_type": "code",
   "execution_count": 10,
   "metadata": {},
   "outputs": [],
   "source": [
    "setSeed(42)\n",
    "data = DataInfo(dir_file_path.path_rating)"
   ]
  },
  {
   "cell_type": "code",
   "execution_count": 11,
   "metadata": {},
   "outputs": [],
   "source": [
    "hyper = {\n",
    "    'latent_dim': 20,\n",
    "    'learning_rate': 0.01,\n",
    "    'epochs': 10,\n",
    "    'batch_size': 128,\n",
    "}\n",
    "\n",
    "hyper = Box(hyper)"
   ]
  },
  {
   "cell_type": "code",
   "execution_count": 12,
   "metadata": {},
   "outputs": [],
   "source": [
    "config = {\n",
    "    'gpu_idx': 0,\n",
    "    'criterion': 'adam',\n",
    "}\n",
    "\n",
    "config = Box(config)\n",
    "\n",
    "device = torch.device(f\"cuda:{config.gpu_idx}\" if torch.cuda.is_available() else \"cpu\")\n",
    "global_mean = data.df['rating'].mean()\n",
    "\n",
    "model_mf = MF(data.num_users, data.num_movies, hyper.latent_dim, global_mean)\n",
    "model_bpr = copy.deepcopy(model_mf) # BPR_MF(data.num_users, data.num_movies, hyper.latent_dim, global_mean)"
   ]
  },
  {
   "cell_type": "code",
   "execution_count": 13,
   "metadata": {},
   "outputs": [],
   "source": [
    "dataset_mf = MFDataSet(df=data.df)\n",
    "data_loader_mf = DataLoader(dataset_mf, batch_size=hyper.batch_size, shuffle=True)\n",
    "optimizer_mf = torch.optim.Adam(model_mf.parameters(), lr=hyper.learning_rate, amsgrad=True) # weight_decay = 0.2를 하면 학습이 안 된다....\n",
    "criterion_mf = nn.MSELoss()"
   ]
  },
  {
   "cell_type": "code",
   "execution_count": 14,
   "metadata": {},
   "outputs": [],
   "source": [
    "dataset_bpr = BPRDataSet(data=data)\n",
    "data_loader_bpr = DataLoader(dataset_bpr, batch_size=hyper.batch_size, shuffle=True)\n",
    "optimizer_bpr = torch.optim.Adam(model_bpr.parameters(), lr=hyper.learning_rate, amsgrad=True) # weight_decay = 0.2를 하면 학습이 안 된다....\n",
    "criterion_bpr = BPRLoss()"
   ]
  },
  {
   "cell_type": "code",
   "execution_count": 15,
   "metadata": {},
   "outputs": [
    {
     "name": "stderr",
     "output_type": "stream",
     "text": [
      "100%|██████████| 788/788 [00:39<00:00, 20.12it/s]\n",
      "  0%|          | 2/788 [00:00<00:46, 16.92it/s]"
     ]
    },
    {
     "name": "stdout",
     "output_type": "stream",
     "text": [
      "Epoch[1/10]\ttrain_loss: 1.4922\t훈련시간: 39.17 sec\n"
     ]
    },
    {
     "name": "stderr",
     "output_type": "stream",
     "text": [
      "100%|██████████| 788/788 [00:38<00:00, 20.42it/s]\n",
      "  0%|          | 2/788 [00:00<00:56, 13.79it/s]"
     ]
    },
    {
     "name": "stdout",
     "output_type": "stream",
     "text": [
      "Epoch[2/10]\ttrain_loss: 0.6622\t훈련시간: 38.59 sec\n"
     ]
    },
    {
     "name": "stderr",
     "output_type": "stream",
     "text": [
      "100%|██████████| 788/788 [00:38<00:00, 20.38it/s]\n",
      "  0%|          | 2/788 [00:00<00:49, 15.94it/s]"
     ]
    },
    {
     "name": "stdout",
     "output_type": "stream",
     "text": [
      "Epoch[3/10]\ttrain_loss: 0.4588\t훈련시간: 38.66 sec\n"
     ]
    },
    {
     "name": "stderr",
     "output_type": "stream",
     "text": [
      "100%|██████████| 788/788 [00:38<00:00, 20.33it/s]\n",
      "  0%|          | 1/788 [00:00<01:44,  7.56it/s]"
     ]
    },
    {
     "name": "stdout",
     "output_type": "stream",
     "text": [
      "Epoch[4/10]\ttrain_loss: 0.3719\t훈련시간: 38.76 sec\n"
     ]
    },
    {
     "name": "stderr",
     "output_type": "stream",
     "text": [
      "100%|██████████| 788/788 [00:38<00:00, 20.27it/s]\n",
      "  0%|          | 1/788 [00:00<01:20,  9.76it/s]"
     ]
    },
    {
     "name": "stdout",
     "output_type": "stream",
     "text": [
      "Epoch[5/10]\ttrain_loss: 0.3265\t훈련시간: 38.88 sec\n"
     ]
    },
    {
     "name": "stderr",
     "output_type": "stream",
     "text": [
      "100%|██████████| 788/788 [00:38<00:00, 20.31it/s]\n",
      "  0%|          | 2/788 [00:00<01:01, 12.79it/s]"
     ]
    },
    {
     "name": "stdout",
     "output_type": "stream",
     "text": [
      "Epoch[6/10]\ttrain_loss: 0.2999\t훈련시간: 38.81 sec\n"
     ]
    },
    {
     "name": "stderr",
     "output_type": "stream",
     "text": [
      "100%|██████████| 788/788 [00:39<00:00, 20.14it/s]\n",
      "  0%|          | 2/788 [00:00<00:50, 15.67it/s]"
     ]
    },
    {
     "name": "stdout",
     "output_type": "stream",
     "text": [
      "Epoch[7/10]\ttrain_loss: 0.2788\t훈련시간: 39.12 sec\n"
     ]
    },
    {
     "name": "stderr",
     "output_type": "stream",
     "text": [
      "100%|██████████| 788/788 [00:38<00:00, 20.41it/s]\n",
      "  0%|          | 2/788 [00:00<00:42, 18.39it/s]"
     ]
    },
    {
     "name": "stdout",
     "output_type": "stream",
     "text": [
      "Epoch[8/10]\ttrain_loss: 0.2652\t훈련시간: 38.61 sec\n"
     ]
    },
    {
     "name": "stderr",
     "output_type": "stream",
     "text": [
      "100%|██████████| 788/788 [00:38<00:00, 20.33it/s]\n",
      "  0%|          | 2/788 [00:00<00:42, 18.54it/s]"
     ]
    },
    {
     "name": "stdout",
     "output_type": "stream",
     "text": [
      "Epoch[9/10]\ttrain_loss: 0.2536\t훈련시간: 38.76 sec\n"
     ]
    },
    {
     "name": "stderr",
     "output_type": "stream",
     "text": [
      "100%|██████████| 788/788 [00:38<00:00, 20.22it/s]"
     ]
    },
    {
     "name": "stdout",
     "output_type": "stream",
     "text": [
      "Epoch[10/10]\ttrain_loss: 0.2453\t훈련시간: 38.97 sec\n"
     ]
    },
    {
     "name": "stderr",
     "output_type": "stream",
     "text": [
      "\n"
     ]
    }
   ],
   "source": [
    "mf_loss = train(model_mf, data_loader_mf, criterion_mf, optimizer_mf, hyper.epochs, device)"
   ]
  },
  {
   "cell_type": "code",
   "execution_count": 16,
   "metadata": {},
   "outputs": [
    {
     "name": "stderr",
     "output_type": "stream",
     "text": [
      "100%|██████████| 788/788 [02:33<00:00,  5.12it/s]\n",
      "  0%|          | 0/788 [00:00<?, ?it/s]"
     ]
    },
    {
     "name": "stdout",
     "output_type": "stream",
     "text": [
      "Epoch[1/10]\ttrain_loss: 0.4094\t훈련시간: 153.85 sec\n"
     ]
    },
    {
     "name": "stderr",
     "output_type": "stream",
     "text": [
      "100%|██████████| 788/788 [02:27<00:00,  5.34it/s]\n",
      "  0%|          | 0/788 [00:00<?, ?it/s]"
     ]
    },
    {
     "name": "stdout",
     "output_type": "stream",
     "text": [
      "Epoch[2/10]\ttrain_loss: 0.2382\t훈련시간: 147.49 sec\n"
     ]
    },
    {
     "name": "stderr",
     "output_type": "stream",
     "text": [
      "100%|██████████| 788/788 [02:23<00:00,  5.48it/s]\n",
      "  0%|          | 0/788 [00:00<?, ?it/s]"
     ]
    },
    {
     "name": "stdout",
     "output_type": "stream",
     "text": [
      "Epoch[3/10]\ttrain_loss: 0.1774\t훈련시간: 143.80 sec\n"
     ]
    },
    {
     "name": "stderr",
     "output_type": "stream",
     "text": [
      "100%|██████████| 788/788 [02:37<00:00,  5.01it/s]\n",
      "  0%|          | 0/788 [00:00<?, ?it/s]"
     ]
    },
    {
     "name": "stdout",
     "output_type": "stream",
     "text": [
      "Epoch[4/10]\ttrain_loss: 0.1488\t훈련시간: 157.36 sec\n"
     ]
    },
    {
     "name": "stderr",
     "output_type": "stream",
     "text": [
      "100%|██████████| 788/788 [02:32<00:00,  5.18it/s]\n",
      "  0%|          | 0/788 [00:00<?, ?it/s]"
     ]
    },
    {
     "name": "stdout",
     "output_type": "stream",
     "text": [
      "Epoch[5/10]\ttrain_loss: 0.1320\t훈련시간: 152.14 sec\n"
     ]
    },
    {
     "name": "stderr",
     "output_type": "stream",
     "text": [
      "100%|██████████| 788/788 [02:32<00:00,  5.16it/s]\n",
      "  0%|          | 0/788 [00:00<?, ?it/s]"
     ]
    },
    {
     "name": "stdout",
     "output_type": "stream",
     "text": [
      "Epoch[6/10]\ttrain_loss: 0.1204\t훈련시간: 152.60 sec\n"
     ]
    },
    {
     "name": "stderr",
     "output_type": "stream",
     "text": [
      "100%|██████████| 788/788 [02:31<00:00,  5.19it/s]\n",
      "  0%|          | 0/788 [00:00<?, ?it/s]"
     ]
    },
    {
     "name": "stdout",
     "output_type": "stream",
     "text": [
      "Epoch[7/10]\ttrain_loss: 0.1179\t훈련시간: 151.89 sec\n"
     ]
    },
    {
     "name": "stderr",
     "output_type": "stream",
     "text": [
      "100%|██████████| 788/788 [02:31<00:00,  5.22it/s]\n",
      "  0%|          | 0/788 [00:00<?, ?it/s]"
     ]
    },
    {
     "name": "stdout",
     "output_type": "stream",
     "text": [
      "Epoch[8/10]\ttrain_loss: 0.1090\t훈련시간: 151.09 sec\n"
     ]
    },
    {
     "name": "stderr",
     "output_type": "stream",
     "text": [
      "100%|██████████| 788/788 [02:31<00:00,  5.22it/s]\n",
      "  0%|          | 1/788 [00:00<02:36,  5.03it/s]"
     ]
    },
    {
     "name": "stdout",
     "output_type": "stream",
     "text": [
      "Epoch[9/10]\ttrain_loss: 0.1074\t훈련시간: 151.04 sec\n"
     ]
    },
    {
     "name": "stderr",
     "output_type": "stream",
     "text": [
      "100%|██████████| 788/788 [02:30<00:00,  5.23it/s]"
     ]
    },
    {
     "name": "stdout",
     "output_type": "stream",
     "text": [
      "Epoch[10/10]\ttrain_loss: 0.1025\t훈련시간: 150.58 sec\n"
     ]
    },
    {
     "name": "stderr",
     "output_type": "stream",
     "text": [
      "\n"
     ]
    }
   ],
   "source": [
    "bpr_loss = train(model_bpr, data_loader_bpr, criterion_bpr, optimizer_bpr, hyper.epochs, device)"
   ]
  },
  {
   "cell_type": "code",
   "execution_count": 17,
   "metadata": {},
   "outputs": [
    {
     "data": {
      "image/png": "[encoded data removed]",
      "text/plain": [
       "<Figure size 720x432 with 1 Axes>"
      ]
     },
     "metadata": {
      "needs_background": "light"
     },
     "output_type": "display_data"
    }
   ],
   "source": [
    "fig = plt.figure(figsize=(10, 6))\n",
    "ax = fig.add_subplot(111)\n",
    "\n",
    "x = [i for i in range(1, hyper.epochs+1)]\n",
    "y1 = mf_loss\n",
    "y2 = bpr_loss\n",
    "\n",
    "ax.plot(x, y1)\n",
    "ax.plot(x, y2)\n",
    "\n",
    "plt.show()"
   ]
  },
  {
   "cell_type": "code",
   "execution_count": 18,
   "metadata": {},
   "outputs": [],
   "source": [
    "def getPredictedFullMatrix(user_embedding, item_embedding, global_mean, user_bias, item_bias):\n",
    "\n",
    "    num_users = user_embedding.shape[0]\n",
    "    num_items = item_embedding.shape[0]\n",
    "\n",
    "    matrix_multiplied_with_bias = np.ones(shape=(num_users, num_items))\n",
    "\n",
    "    if global_mean is None:\n",
    "        return user_embedding @ item_embedding.T\n",
    "    else:\n",
    "        values = [\n",
    "            user_embedding @ item_embedding.T,\n",
    "            matrix_multiplied_with_bias * item_bias,\n",
    "            np.array([user_bias]).T * matrix_multiplied_with_bias,\n",
    "            matrix_multiplied_with_bias * global_mean\n",
    "        ]\n",
    "        return sum(values)"
   ]
  },
  {
   "cell_type": "code",
   "execution_count": 19,
   "metadata": {},
   "outputs": [
    {
     "data": {
      "text/html": [
       "<div>\n",
       "<style scoped>\n",
       "    .dataframe tbody tr th:only-of-type {\n",
       "        vertical-align: middle;\n",
       "    }\n",
       "\n",
       "    .dataframe tbody tr th {\n",
       "        vertical-align: top;\n",
       "    }\n",
       "\n",
       "    .dataframe thead th {\n",
       "        text-align: right;\n",
       "    }\n",
       "</style>\n",
       "<table border=\"1\" class=\"dataframe\">\n",
       "  <thead>\n",
       "    <tr style=\"text-align: right;\">\n",
       "      <th></th>\n",
       "      <th>0</th>\n",
       "      <th>1</th>\n",
       "      <th>2</th>\n",
       "      <th>3</th>\n",
       "      <th>4</th>\n",
       "      <th>5</th>\n",
       "      <th>6</th>\n",
       "      <th>7</th>\n",
       "      <th>8</th>\n",
       "      <th>9</th>\n",
       "      <th>...</th>\n",
       "      <th>9714</th>\n",
       "      <th>9715</th>\n",
       "      <th>9716</th>\n",
       "      <th>9717</th>\n",
       "      <th>9718</th>\n",
       "      <th>9719</th>\n",
       "      <th>9720</th>\n",
       "      <th>9721</th>\n",
       "      <th>9722</th>\n",
       "      <th>9723</th>\n",
       "    </tr>\n",
       "  </thead>\n",
       "  <tbody>\n",
       "    <tr>\n",
       "      <th>0</th>\n",
       "      <td>4.689483</td>\n",
       "      <td>3.575229</td>\n",
       "      <td>4.513450</td>\n",
       "      <td>2.998103</td>\n",
       "      <td>4.875282</td>\n",
       "      <td>4.408030</td>\n",
       "      <td>2.449848</td>\n",
       "      <td>3.646189</td>\n",
       "      <td>3.034403</td>\n",
       "      <td>3.452409</td>\n",
       "      <td>...</td>\n",
       "      <td>4.441032</td>\n",
       "      <td>4.581538</td>\n",
       "      <td>4.178109</td>\n",
       "      <td>4.403262</td>\n",
       "      <td>4.340701</td>\n",
       "      <td>4.246437</td>\n",
       "      <td>5.048597</td>\n",
       "      <td>4.862494</td>\n",
       "      <td>5.281557</td>\n",
       "      <td>3.773314</td>\n",
       "    </tr>\n",
       "    <tr>\n",
       "      <th>1</th>\n",
       "      <td>4.627876</td>\n",
       "      <td>4.336096</td>\n",
       "      <td>4.342385</td>\n",
       "      <td>3.473666</td>\n",
       "      <td>4.691597</td>\n",
       "      <td>3.175901</td>\n",
       "      <td>4.085804</td>\n",
       "      <td>4.612026</td>\n",
       "      <td>4.382684</td>\n",
       "      <td>3.811994</td>\n",
       "      <td>...</td>\n",
       "      <td>4.595633</td>\n",
       "      <td>5.035953</td>\n",
       "      <td>4.224408</td>\n",
       "      <td>4.058438</td>\n",
       "      <td>4.476663</td>\n",
       "      <td>3.982890</td>\n",
       "      <td>4.559601</td>\n",
       "      <td>4.743816</td>\n",
       "      <td>5.385302</td>\n",
       "      <td>4.185512</td>\n",
       "    </tr>\n",
       "    <tr>\n",
       "      <th>2</th>\n",
       "      <td>3.016190</td>\n",
       "      <td>3.149055</td>\n",
       "      <td>0.344930</td>\n",
       "      <td>1.289803</td>\n",
       "      <td>1.378903</td>\n",
       "      <td>3.378115</td>\n",
       "      <td>2.819276</td>\n",
       "      <td>-0.907448</td>\n",
       "      <td>0.818480</td>\n",
       "      <td>2.806827</td>\n",
       "      <td>...</td>\n",
       "      <td>4.332988</td>\n",
       "      <td>4.388939</td>\n",
       "      <td>3.482871</td>\n",
       "      <td>2.708053</td>\n",
       "      <td>2.889636</td>\n",
       "      <td>2.997909</td>\n",
       "      <td>3.370863</td>\n",
       "      <td>4.155338</td>\n",
       "      <td>4.781958</td>\n",
       "      <td>2.512744</td>\n",
       "    </tr>\n",
       "    <tr>\n",
       "      <th>3</th>\n",
       "      <td>3.251019</td>\n",
       "      <td>3.588310</td>\n",
       "      <td>3.050722</td>\n",
       "      <td>1.836939</td>\n",
       "      <td>2.652235</td>\n",
       "      <td>3.600753</td>\n",
       "      <td>2.101373</td>\n",
       "      <td>3.145765</td>\n",
       "      <td>1.265155</td>\n",
       "      <td>2.292165</td>\n",
       "      <td>...</td>\n",
       "      <td>2.735801</td>\n",
       "      <td>3.223545</td>\n",
       "      <td>3.589657</td>\n",
       "      <td>3.951657</td>\n",
       "      <td>3.202153</td>\n",
       "      <td>3.273953</td>\n",
       "      <td>4.283572</td>\n",
       "      <td>3.716254</td>\n",
       "      <td>3.534183</td>\n",
       "      <td>2.859826</td>\n",
       "    </tr>\n",
       "    <tr>\n",
       "      <th>4</th>\n",
       "      <td>4.268290</td>\n",
       "      <td>3.908867</td>\n",
       "      <td>1.759764</td>\n",
       "      <td>1.582589</td>\n",
       "      <td>3.890734</td>\n",
       "      <td>2.876808</td>\n",
       "      <td>3.401522</td>\n",
       "      <td>2.327524</td>\n",
       "      <td>3.514471</td>\n",
       "      <td>2.497793</td>\n",
       "      <td>...</td>\n",
       "      <td>5.675385</td>\n",
       "      <td>5.768949</td>\n",
       "      <td>5.118394</td>\n",
       "      <td>3.787526</td>\n",
       "      <td>3.436669</td>\n",
       "      <td>3.842393</td>\n",
       "      <td>3.748997</td>\n",
       "      <td>5.043417</td>\n",
       "      <td>4.842300</td>\n",
       "      <td>2.907836</td>\n",
       "    </tr>\n",
       "    <tr>\n",
       "      <th>...</th>\n",
       "      <td>...</td>\n",
       "      <td>...</td>\n",
       "      <td>...</td>\n",
       "      <td>...</td>\n",
       "      <td>...</td>\n",
       "      <td>...</td>\n",
       "      <td>...</td>\n",
       "      <td>...</td>\n",
       "      <td>...</td>\n",
       "      <td>...</td>\n",
       "      <td>...</td>\n",
       "      <td>...</td>\n",
       "      <td>...</td>\n",
       "      <td>...</td>\n",
       "      <td>...</td>\n",
       "      <td>...</td>\n",
       "      <td>...</td>\n",
       "      <td>...</td>\n",
       "      <td>...</td>\n",
       "      <td>...</td>\n",
       "      <td>...</td>\n",
       "    </tr>\n",
       "    <tr>\n",
       "      <th>605</th>\n",
       "      <td>3.839025</td>\n",
       "      <td>3.123975</td>\n",
       "      <td>3.432623</td>\n",
       "      <td>2.622404</td>\n",
       "      <td>2.787986</td>\n",
       "      <td>4.015721</td>\n",
       "      <td>2.629791</td>\n",
       "      <td>3.288613</td>\n",
       "      <td>2.023435</td>\n",
       "      <td>3.004912</td>\n",
       "      <td>...</td>\n",
       "      <td>3.557389</td>\n",
       "      <td>3.485544</td>\n",
       "      <td>3.918252</td>\n",
       "      <td>4.005725</td>\n",
       "      <td>3.395095</td>\n",
       "      <td>3.808558</td>\n",
       "      <td>3.656519</td>\n",
       "      <td>3.478156</td>\n",
       "      <td>3.396420</td>\n",
       "      <td>3.333128</td>\n",
       "    </tr>\n",
       "    <tr>\n",
       "      <th>606</th>\n",
       "      <td>3.628231</td>\n",
       "      <td>4.098181</td>\n",
       "      <td>4.330986</td>\n",
       "      <td>4.282894</td>\n",
       "      <td>4.091636</td>\n",
       "      <td>3.899693</td>\n",
       "      <td>3.098940</td>\n",
       "      <td>3.335688</td>\n",
       "      <td>3.396100</td>\n",
       "      <td>3.509620</td>\n",
       "      <td>...</td>\n",
       "      <td>4.572393</td>\n",
       "      <td>4.521976</td>\n",
       "      <td>4.419273</td>\n",
       "      <td>3.394211</td>\n",
       "      <td>3.896777</td>\n",
       "      <td>3.846544</td>\n",
       "      <td>4.755417</td>\n",
       "      <td>5.038062</td>\n",
       "      <td>3.525161</td>\n",
       "      <td>3.724340</td>\n",
       "    </tr>\n",
       "    <tr>\n",
       "      <th>607</th>\n",
       "      <td>2.674081</td>\n",
       "      <td>2.328694</td>\n",
       "      <td>1.995826</td>\n",
       "      <td>2.929720</td>\n",
       "      <td>1.676676</td>\n",
       "      <td>4.218599</td>\n",
       "      <td>2.973762</td>\n",
       "      <td>3.498707</td>\n",
       "      <td>3.334999</td>\n",
       "      <td>3.556590</td>\n",
       "      <td>...</td>\n",
       "      <td>4.227307</td>\n",
       "      <td>3.785642</td>\n",
       "      <td>4.098510</td>\n",
       "      <td>3.943209</td>\n",
       "      <td>3.795511</td>\n",
       "      <td>3.975129</td>\n",
       "      <td>3.879058</td>\n",
       "      <td>3.661006</td>\n",
       "      <td>3.204340</td>\n",
       "      <td>3.880761</td>\n",
       "    </tr>\n",
       "    <tr>\n",
       "      <th>608</th>\n",
       "      <td>3.133214</td>\n",
       "      <td>2.692760</td>\n",
       "      <td>2.619822</td>\n",
       "      <td>2.706076</td>\n",
       "      <td>2.615097</td>\n",
       "      <td>4.541626</td>\n",
       "      <td>2.855276</td>\n",
       "      <td>1.796524</td>\n",
       "      <td>2.129480</td>\n",
       "      <td>3.706346</td>\n",
       "      <td>...</td>\n",
       "      <td>4.279027</td>\n",
       "      <td>4.063949</td>\n",
       "      <td>4.083903</td>\n",
       "      <td>3.489988</td>\n",
       "      <td>3.318610</td>\n",
       "      <td>3.519682</td>\n",
       "      <td>3.984520</td>\n",
       "      <td>3.977219</td>\n",
       "      <td>4.084922</td>\n",
       "      <td>3.205494</td>\n",
       "    </tr>\n",
       "    <tr>\n",
       "      <th>609</th>\n",
       "      <td>4.806889</td>\n",
       "      <td>3.546530</td>\n",
       "      <td>3.645798</td>\n",
       "      <td>3.351135</td>\n",
       "      <td>2.370061</td>\n",
       "      <td>4.657864</td>\n",
       "      <td>1.908017</td>\n",
       "      <td>3.567549</td>\n",
       "      <td>3.183811</td>\n",
       "      <td>3.919184</td>\n",
       "      <td>...</td>\n",
       "      <td>4.146792</td>\n",
       "      <td>3.464052</td>\n",
       "      <td>4.123124</td>\n",
       "      <td>4.210889</td>\n",
       "      <td>3.943505</td>\n",
       "      <td>4.174804</td>\n",
       "      <td>4.003542</td>\n",
       "      <td>3.799571</td>\n",
       "      <td>4.016688</td>\n",
       "      <td>4.386631</td>\n",
       "    </tr>\n",
       "  </tbody>\n",
       "</table>\n",
       "<p>610 rows × 9724 columns</p>\n",
       "</div>"
      ],
      "text/plain": [
       "         0         1         2         3         4         5         6     \\\n",
       "0    4.689483  3.575229  4.513450  2.998103  4.875282  4.408030  2.449848   \n",
       "1    4.627876  4.336096  4.342385  3.473666  4.691597  3.175901  4.085804   \n",
       "2    3.016190  3.149055  0.344930  1.289803  1.378903  3.378115  2.819276   \n",
       "3    3.251019  3.588310  3.050722  1.836939  2.652235  3.600753  2.101373   \n",
       "4    4.268290  3.908867  1.759764  1.582589  3.890734  2.876808  3.401522   \n",
       "..        ...       ...       ...       ...       ...       ...       ...   \n",
       "605  3.839025  3.123975  3.432623  2.622404  2.787986  4.015721  2.629791   \n",
       "606  3.628231  4.098181  4.330986  4.282894  4.091636  3.899693  3.098940   \n",
       "607  2.674081  2.328694  1.995826  2.929720  1.676676  4.218599  2.973762   \n",
       "608  3.133214  2.692760  2.619822  2.706076  2.615097  4.541626  2.855276   \n",
       "609  4.806889  3.546530  3.645798  3.351135  2.370061  4.657864  1.908017   \n",
       "\n",
       "         7         8         9     ...      9714      9715      9716  \\\n",
       "0    3.646189  3.034403  3.452409  ...  4.441032  4.581538  4.178109   \n",
       "1    4.612026  4.382684  3.811994  ...  4.595633  5.035953  4.224408   \n",
       "2   -0.907448  0.818480  2.806827  ...  4.332988  4.388939  3.482871   \n",
       "3    3.145765  1.265155  2.292165  ...  2.735801  3.223545  3.589657   \n",
       "4    2.327524  3.514471  2.497793  ...  5.675385  5.768949  5.118394   \n",
       "..        ...       ...       ...  ...       ...       ...       ...   \n",
       "605  3.288613  2.023435  3.004912  ...  3.557389  3.485544  3.918252   \n",
       "606  3.335688  3.396100  3.509620  ...  4.572393  4.521976  4.419273   \n",
       "607  3.498707  3.334999  3.556590  ...  4.227307  3.785642  4.098510   \n",
       "608  1.796524  2.129480  3.706346  ...  4.279027  4.063949  4.083903   \n",
       "609  3.567549  3.183811  3.919184  ...  4.146792  3.464052  4.123124   \n",
       "\n",
       "         9717      9718      9719      9720      9721      9722      9723  \n",
       "0    4.403262  4.340701  4.246437  5.048597  4.862494  5.281557  3.773314  \n",
       "1    4.058438  4.476663  3.982890  4.559601  4.743816  5.385302  4.185512  \n",
       "2    2.708053  2.889636  2.997909  3.370863  4.155338  4.781958  2.512744  \n",
       "3    3.951657  3.202153  3.273953  4.283572  3.716254  3.534183  2.859826  \n",
       "4    3.787526  3.436669  3.842393  3.748997  5.043417  4.842300  2.907836  \n",
       "..        ...       ...       ...       ...       ...       ...       ...  \n",
       "605  4.005725  3.395095  3.808558  3.656519  3.478156  3.396420  3.333128  \n",
       "606  3.394211  3.896777  3.846544  4.755417  5.038062  3.525161  3.724340  \n",
       "607  3.943209  3.795511  3.975129  3.879058  3.661006  3.204340  3.880761  \n",
       "608  3.489988  3.318610  3.519682  3.984520  3.977219  4.084922  3.205494  \n",
       "609  4.210889  3.943505  4.174804  4.003542  3.799571  4.016688  4.386631  \n",
       "\n",
       "[610 rows x 9724 columns]"
      ]
     },
     "execution_count": 19,
     "metadata": {},
     "output_type": "execute_result"
    }
   ],
   "source": [
    "user_embedding = model_mf.user_embedding.weight.data.detach().cpu().numpy()\n",
    "item_embedding = model_mf.item_embedding.weight.data.detach().cpu().numpy()\n",
    "user_biase_embedding = np.squeeze(model_mf.user_bias_embedding.weight.data.detach().cpu().numpy())\n",
    "item_biase_embedding = np.squeeze(model_mf.item_bias_embedding.weight.data.detach().cpu().numpy())\n",
    "\n",
    "predict = pd.DataFrame(\n",
    "    getPredictedFullMatrix(user_embedding, item_embedding, global_mean, user_biase_embedding, item_biase_embedding),\n",
    "    columns = data.set_movies,\n",
    "    index = data.set_users\n",
    ")\n",
    "\n",
    "predict"
   ]
  }
 ],
 "metadata": {
  "interpreter": {
   "hash": "d4d1e4263499bec80672ea0156c357c1ee493ec2b1c70f0acce89fc37c4a6abe"
  },
  "kernelspec": {
   "display_name": "Python 3.8.5 ('base')",
   "language": "python",
   "name": "python3"
  },
  "language_info": {
   "codemirror_mode": {
    "name": "ipython",
    "version": 3
   },
   "file_extension": ".py",
   "mimetype": "text/x-python",
   "name": "python",
   "nbconvert_exporter": "python",
   "pygments_lexer": "ipython3",
   "version": "3.8.5"
  },
  "orig_nbformat": 4
 },
 "nbformat": 4,
 "nbformat_minor": 2
}
