{
 "cells": [
  {
   "cell_type": "code",
   "execution_count": 1,
   "metadata": {},
   "outputs": [],
   "source": [
    "import os\n",
    "import random\n",
    "import numpy as np\n",
    "import pandas as pd\n",
    "\n",
    "from sklearn.preprocessing import LabelEncoder\n",
    "\n",
    "import torch\n",
    "import torch.nn as nn \n",
    "\n",
    "from torch.utils.data import Dataset\n",
    "from torch.utils.data import DataLoader\n",
    "\n",
    "from typing import Tuple\n",
    "\n",
    "from tqdm import tqdm\n",
    "from box import Box\n",
    "\n",
    "from copy import deepcopy"
   ]
  },
  {
   "cell_type": "code",
   "execution_count": 2,
   "metadata": {},
   "outputs": [],
   "source": [
    "def setSeed(seed):\n",
    "    random.seed(seed)\n",
    "    np.random.seed(seed)\n",
    "    torch.manual_seed(seed)\n",
    "    if torch.cuda.is_available():\n",
    "        torch.cuda.manual_seed_all(seed)\n",
    "        torch.backends.cudnn.deterministic = True"
   ]
  },
  {
   "cell_type": "markdown",
   "metadata": {},
   "source": [
    "# 1. Dataset Preprocessing\n",
    "    \n",
    "* Implicit Feedback"
   ]
  },
  {
   "cell_type": "code",
   "execution_count": 3,
   "metadata": {},
   "outputs": [],
   "source": [
    "class DataInfo():\n",
    "    def __init__(self, file_path: str) -> None:\n",
    "        self.df = pd.read_csv(file_path)\n",
    "        self.user_encoder, self.movie_encoder = self._encode()\n",
    "\n",
    "        self.users = self.df['userId'].unique()\n",
    "        self.num_users = len(self.users)\n",
    "        self.min_feedback = 5 # for resolving cold-start problem\n",
    "        self.movies = self.df['movieId'].unique()\n",
    "        self.num_movies = len(self.movies)\n",
    "        self.train_movies = self._moreThanFeedback()\n",
    "        self.num_train_movies = len(self.train_movies)\n",
    "\n",
    "        self.df_pos_user_sequence, self.user_negative_samples = self._makeSequenceAndNeg()\n",
    "\n",
    "        self.df_pos_train, self.df_pos_test = self._trainTestSplit()\n",
    "    \n",
    "    def _trainTestSplit(self) -> Tuple[pd.DataFrame, pd.DataFrame]:\n",
    "        # https://github.com/scikit-learn/scikit-learn/pull/16236\n",
    "        # GroupTimeSeriesSplit이 PR 중이라고 해서 직접 구현을 해야한다.\n",
    "        df_train = {\n",
    "            'user_id': list(),\n",
    "            'movie_id': list(),\n",
    "        }\n",
    "\n",
    "        df_test = {\n",
    "            'user_id': list(),\n",
    "            'movie_id': list(),\n",
    "        }\n",
    "\n",
    "        for user in self.users:\n",
    "            df_user = self.df_pos_user_sequence[self.df_pos_user_sequence['user_id']==user]\n",
    "            list_user_movies = df_user['movie_id'].tolist()\n",
    "\n",
    "            num_user = df_user.shape[0]\n",
    "            num_train_user = num_user - 1\n",
    "            num_test_user = 1\n",
    "\n",
    "            list_user_train_movies = list_user_movies[:num_train_user]\n",
    "            list_user_test_movies = list_user_movies[num_train_user:]\n",
    "\n",
    "            df_train['user_id'].extend([user]*num_train_user)\n",
    "            df_train['movie_id'].extend(list_user_train_movies)\n",
    "\n",
    "            df_test['user_id'].extend([user]*num_test_user)\n",
    "            df_test['movie_id'].extend(list_user_test_movies)\n",
    "            \n",
    "        df_train = pd.DataFrame(df_train)\n",
    "        df_train['label'] = 1\n",
    "\n",
    "        df_test = pd.DataFrame(df_test)\n",
    "        df_test['label'] = 1\n",
    "            \n",
    "        return df_train, df_test        \n",
    "\n",
    "\n",
    "    def _moreThanFeedback(self):\n",
    "        movie_ids_for_training = list()\n",
    "        for movie_id in self.df['movieId'].unique():\n",
    "            if self.df[self.df['movieId'] == movie_id].shape[0] >= self.min_feedback:\n",
    "                movie_ids_for_training.append(movie_id)\n",
    "        \n",
    "        return np.unique(movie_ids_for_training)\n",
    "\n",
    "\n",
    "    def _makeSequenceAndNeg(self):\n",
    "        pos_user_sequence = {\n",
    "            'user_id': list(),\n",
    "            'movie_id': list(),\n",
    "        }\n",
    "\n",
    "        user_negative_samples = dict()\n",
    "\n",
    "\n",
    "        for user in self.users:\n",
    "            user_sequence_movies = self.df[self.df['userId']==user].sort_values(by='timestamp', axis=0)['movieId'].tolist()\n",
    "            # 최조 조건을 만족하지 못한 것 포함, feedback있는 영화를 제외시킨다. \n",
    "            user_negative_movies = np.setdiff1d(self.movies, np.unique(user_sequence_movies))\n",
    "            user_negative_samples[user] = user_negative_movies\n",
    "\n",
    "            for movie in user_sequence_movies:\n",
    "                # 최소 feedback 조건을 만족시키지 못한 것은 추가하지 않는다.\n",
    "                if movie not in self.train_movies: continue\n",
    "                pos_user_sequence['user_id'].append(user)\n",
    "                pos_user_sequence['movie_id'].append(movie)\n",
    "\n",
    "\n",
    "        df_pos_user_sequence = pd.DataFrame(pos_user_sequence)\n",
    "        df_pos_user_sequence['label'] = 1\n",
    "\n",
    "        return df_pos_user_sequence, user_negative_samples\n",
    "\n",
    "\n",
    "    def _encode(self) -> Tuple[pd.DataFrame, LabelEncoder, LabelEncoder]:\n",
    "        userId_label_encoder = LabelEncoder()\n",
    "        movieId_label_encoder = LabelEncoder()\n",
    "\n",
    "        self.df['userId'] = userId_label_encoder.fit_transform(self.df['userId'].values)\n",
    "        self.df['movieId'] = movieId_label_encoder.fit_transform(self.df['movieId'].values)\n",
    "\n",
    "        # encoder.inverse_transform() 으로 decode\n",
    "        return userId_label_encoder, movieId_label_encoder"
   ]
  },
  {
   "cell_type": "code",
   "execution_count": 4,
   "metadata": {},
   "outputs": [],
   "source": [
    "class NeuMFDataset(Dataset):\n",
    "    def __init__(self, df: pd.DataFrame):\n",
    "        self.df = df\n",
    "            \n",
    "    def __len__(self):\n",
    "        return self.df.shape[0]\n",
    "\n",
    "    def __getitem__(self, idx):\n",
    "        user = self.df.iloc[idx]['user_id']\n",
    "        item = self.df.iloc[idx]['movie_id']\n",
    "        label = self.df.iloc[idx]['label']\n",
    "        \n",
    "        return torch.tensor(user).to(torch.int64), torch.tensor(item).to(torch.int64), torch.tensor(label).float()"
   ]
  },
  {
   "cell_type": "markdown",
   "metadata": {},
   "source": [
    "# 2. Model"
   ]
  },
  {
   "cell_type": "code",
   "execution_count": 5,
   "metadata": {},
   "outputs": [],
   "source": [
    "class GMF(nn.Module):\n",
    "    def __init__(self, num_users: int, num_items: int, latent_dim: int):\n",
    "        super(GMF, self).__init__()\n",
    "\n",
    "        self.embedding_user = nn.Embedding(num_users, latent_dim)\n",
    "        self.embedding_item = nn.Embedding(num_items, latent_dim)\n",
    "\n",
    "        self.prediction = nn.Sequential(\n",
    "            nn.Linear(latent_dim, 1, bias=False),\n",
    "            nn.Sigmoid()\n",
    "        )\n",
    "\n",
    "        self._init_weights()\n",
    "    \n",
    "    def _init_weights(self):\n",
    "        for module in self.modules():\n",
    "            # print(module.__class__.__name__)\n",
    "            if isinstance(module, nn.Embedding):\n",
    "                nn.init.normal_(module.weight.data, mean=0.0, std=0.01)\n",
    "            elif isinstance(module, nn.Linear):\n",
    "                nn.init.normal_(module.weight.data, 0, 0.01)\n",
    "                if module.bias is not None:\n",
    "                    module.bias.data.fill_(0.0)\n",
    "\n",
    "    \n",
    "    def forward(self, user_input, item_input):\n",
    "\n",
    "        user_latent = self.embedding_user(user_input)\n",
    "        item_latent = self.embedding_item(item_input)\n",
    "        product = user_latent * item_latent\n",
    "\n",
    "        output = self.prediction(product)\n",
    "\n",
    "        return output.squeeze()"
   ]
  },
  {
   "cell_type": "code",
   "execution_count": 40,
   "metadata": {},
   "outputs": [],
   "source": [
    "class MLP(nn.Module):\n",
    "    def __init__(self, num_uesrs, num_items, latent_dim, dropout, layers=[20, 10]):\n",
    "        super(MLP, self).__init__()\n",
    "\n",
    "        self.embedding_user = nn.Embedding(num_uesrs, latent_dim)\n",
    "        self.embedding_item = nn.Embedding(num_items, latent_dim)\n",
    "\n",
    "        self.layers = deepcopy(layers)\n",
    "        self.layers.insert(0, latent_dim * 2)\n",
    "        modules = []\n",
    "        for i in range(len(self.layers) - 1):\n",
    "            modules.append(nn.Dropout(p=dropout))\n",
    "            modules.append(nn.Linear(self.layers[i], self.layers[i+1]))\n",
    "            modules.append(nn.ReLU())\n",
    "        \n",
    "        self.dense_layers = nn.Sequential(*modules)\n",
    "\n",
    "        self.prediction = nn.Sequential(\n",
    "            nn.Linear(layers[-1], 1, bias=False),\n",
    "            nn.Sigmoid()\n",
    "        )\n",
    "\n",
    "        self._init_weights()\n",
    "    \n",
    "    # initialize weights\n",
    "    def _init_weights(self):\n",
    "        for module in self.modules():\n",
    "            if isinstance(module, nn.Embedding):\n",
    "                nn.init.normal_(module.weight.data, mean=0.0, std=0.01)\n",
    "            elif isinstance(module, nn.Linear):\n",
    "                nn.init.normal_(module.weight.data, 0, 0.01)\n",
    "                if module.bias is not None:\n",
    "                    module.bias.data.fill_(0.0)\n",
    "\n",
    "    def forward(self, user_input, item_input):\n",
    "        user_latent = self.embedding_user(user_input)\n",
    "        item_latent = self.embedding_item(item_input)\n",
    "\n",
    "        vector = torch.cat((user_latent, item_latent), dim=-1)\n",
    "\n",
    "        output = self.prediction(self.dense_layers(vector))\n",
    "\n",
    "        return output.squeeze()"
   ]
  },
  {
   "cell_type": "code",
   "execution_count": 7,
   "metadata": {},
   "outputs": [],
   "source": [
    "class NeuMF(nn.Module):\n",
    "    def __init__(self, GMF, MLP, latent_dim, layers):\n",
    "        super(NeuMF, self).__init__()\n",
    "\n",
    "        self.GMF_embedding_user = deepcopy(GMF.embedding_user)\n",
    "        self.GMF_embedding_item = deepcopy(GMF.embedding_item)\n",
    "\n",
    "        self.MLP_embedding_user = deepcopy(MLP.embedding_user)\n",
    "        self.MLP_embedding_item = deepcopy(MLP.embedding_item)\n",
    "\n",
    "        self.MLP_dense_layers = deepcopy(MLP.dense_layers)\n",
    "\n",
    "        self.prediction = nn.Sequential(\n",
    "            nn.Linear(latent_dim + layers[-1], 1, bias=False),\n",
    "            nn.Sigmoid()\n",
    "        )\n",
    "        \n",
    "        self._init_weights()\n",
    "    \n",
    "    # initialize weights\n",
    "    def _init_weights(self):\n",
    "        for module in self.prediction.modules():\n",
    "            if isinstance(module, nn.Linear):\n",
    "                nn.init.normal_(module.weight.data, mean=0.0, std=0.01)\n",
    "                if module.bias is not None:\n",
    "                    module.bias.data.fill_(0.0)\n",
    "\n",
    "    def forward(self, user_input, item_input):\n",
    "\n",
    "        GMF_user_latent = self.GMF_embedding_user(user_input)\n",
    "        GMF_item_latent = self.GMF_embedding_item(item_input)\n",
    "        GMF_output = GMF_user_latent * GMF_item_latent\n",
    "\n",
    "        MLP_user_latent = self.MLP_embedding_user(user_input)\n",
    "        MLP_item_latent = self.MLP_embedding_item(item_input)\n",
    "        vector = torch.cat((MLP_user_latent, MLP_item_latent), dim=-1)\n",
    "        MLP_output = self.MLP_dense_layers(vector)\n",
    "\n",
    "        concat_output = torch.cat((GMF_output, MLP_output), dim=-1)\n",
    "        output = self.prediction(concat_output)\n",
    "\n",
    "        return output.squeeze()\n"
   ]
  },
  {
   "cell_type": "markdown",
   "metadata": {},
   "source": [
    "# 3. Train, Metric 함수"
   ]
  },
  {
   "cell_type": "code",
   "execution_count": 8,
   "metadata": {},
   "outputs": [],
   "source": [
    "class Trainer():\n",
    "    def __init__(self, model, optimizer, train_loader, test_loader, epochs, criterion, device, neg_smaples, num_neg, topK, output_path, name):\n",
    "        self.model = model\n",
    "        self.optimizer = optimizer\n",
    "        self.train_loader = train_loader\n",
    "        self.test_loader = test_loader\n",
    "        self.epochs = epochs\n",
    "        self.criterion = criterion\n",
    "        self.device = device\n",
    "        self.neg_samples = neg_smaples\n",
    "        self.num_neg = num_neg\n",
    "        self.topK = topK\n",
    "\n",
    "        self.loss_list = []\n",
    "        self.hr_list = []\n",
    "        self.ndcg_list = []\n",
    "\n",
    "        self.output_path = output_path\n",
    "        self.model_name = name\n",
    "        \n",
    "        self._train_metric()\n",
    "    \n",
    "\n",
    "    def _train_metric(self):\n",
    "        \n",
    "        best_ndcg = 0\n",
    "        # 훈련 시간 측정\n",
    "        epoch_start = torch.cuda.Event(enable_timing=True)\n",
    "        epoch_end = torch.cuda.Event(enable_timing=True)\n",
    "        \n",
    "        for epoch in range(self.epochs):\n",
    "            # 시작 시간 기록\n",
    "            epoch_start.record()\n",
    "\n",
    "            avg_loss = self._train()\n",
    "            avg_hr, avg_ndcg = self._metric()\n",
    "        \n",
    "            epoch_end.record()\n",
    "            torch.cuda.synchronize()\n",
    "\n",
    "            self.loss_list.append(avg_loss)\n",
    "            self.hr_list.append(avg_hr)\n",
    "            self.ndcg_list.append(avg_ndcg)\n",
    "\n",
    "\n",
    "            print(\n",
    "                f'Epoch[{epoch+1}/{self.epochs}]\\ttrain_loss: {avg_loss:.4f}' +\n",
    "                f'\\tHR: {avg_hr:.4f}\\tNDCG: {avg_ndcg:.4f} '+\n",
    "                f'\\t훈련시간: {epoch_start.elapsed_time(epoch_end)/1000:.2f} sec'\n",
    "            )\n",
    "\n",
    "            if best_ndcg < avg_ndcg:\n",
    "                best_ndcg = avg_ndcg\n",
    "                torch.save(self.model.state_dict(), os.path.join(self.output_path, f'best_NDCG_{self.model_name}.pt'))\n",
    "                print(f'save ndcg: {best_ndcg:.4f}')\n",
    "\n",
    "    \n",
    "    def _train(self):\n",
    "        self.model.train()\n",
    "\n",
    "        size = len(self.train_loader)\n",
    "        epoch_loss = 0\n",
    "\n",
    "        for user, item, label in tqdm(self.train_loader):\n",
    "            user = user.to(self.device)\n",
    "            item = item.to(self.device)\n",
    "            label = label.to(self.device)\n",
    "\n",
    "            user_neg, item_neg, label_neg = self._negative_sampling(user, self.num_neg)\n",
    "            input_user, input_item, input_label = self._concat(user, user_neg, item, item_neg, label, label_neg)\n",
    "\n",
    "            self.optimizer.zero_grad()\n",
    "\n",
    "            output = self.model(input_user, input_item)\n",
    "\n",
    "            loss = self.criterion(output, input_label)\n",
    "            loss.backward()\n",
    "            self.optimizer.step()\n",
    "            \n",
    "            epoch_loss += loss.item()\n",
    "\n",
    "\n",
    "        avg_loss = epoch_loss / size\n",
    "\n",
    "        return avg_loss\n",
    "\n",
    "    def _metric(self):\n",
    "        self.model.eval()\n",
    "\n",
    "        size = len(self.test_loader)\n",
    "\n",
    "        epoch_hr = 0\n",
    "        epoch_ndcg = 0\n",
    "\n",
    "        with torch.no_grad():\n",
    "            for user, item, label in self.test_loader:\n",
    "                user = user.to(self.device)\n",
    "                item = item.to(self.device)\n",
    "                label = label.to(self.device).float()\n",
    "\n",
    "                user_neg, item_neg, label_neg = self._negative_sampling(user, 100)\n",
    "                input_user, input_item, input_label = self._concat(user, user_neg, item, item_neg, label, label_neg)\n",
    "\n",
    "                output = self.model(input_user, input_item)\n",
    "                _, indices = torch.topk(output, dim=0, k=self.topK)\n",
    "                rank_list = torch.take(input_item, indices).cpu().numpy().tolist()\n",
    "                target_item = item.cpu().numpy()[0]\n",
    "\n",
    "                epoch_hr += self._get_hit_ratio(rank_list, target_item)\n",
    "                epoch_ndcg += self._get_NDCG(rank_list, target_item)\n",
    "        \n",
    "        avg_hr = epoch_hr / size\n",
    "        avg_ndcg = epoch_ndcg / size\n",
    "\n",
    "        return avg_hr, avg_ndcg\n",
    "\n",
    "    \n",
    "    def _get_hit_ratio(self, rank_list, target_item):\n",
    "        for item in rank_list:\n",
    "            if item == target_item:\n",
    "                return 1\n",
    "        return 0\n",
    "\n",
    "\n",
    "    def _get_NDCG(self, rank_list, target_item):\n",
    "        for i in range(len(rank_list)):\n",
    "            item = rank_list[i]\n",
    "            if item == target_item:\n",
    "                return np.log(2) / np.log(i+2)\n",
    "        return 0\n",
    "            \n",
    "    def _negative_sampling(self, users, num_neg):\n",
    "        user_neg, item_neg, label_neg = [], [], []\n",
    "\n",
    "        users = users.detach().cpu().numpy()\n",
    "        for user in users:\n",
    "            items = np.random.choice(self.neg_samples[user], min(len(self.neg_samples), num_neg), replace=False)\n",
    "            for item in items:\n",
    "                user_neg.append(user)\n",
    "                item_neg.append(item)\n",
    "                label_neg.append(0)\n",
    "\n",
    "        \n",
    "        return (\n",
    "            torch.tensor(user_neg).to(torch.int64).to(self.device), \n",
    "            torch.tensor(item_neg).to(torch.int64).to(self.device), \n",
    "            torch.tensor(label_neg).to(self.device).float()\n",
    "        )\n",
    "\n",
    "\n",
    "    def _concat(self, user, user_neg, item, item_neg, label, label_neg):\n",
    "        input_user = torch.cat([user, user_neg], dim=0)\n",
    "        input_item = torch.cat([item, item_neg], dim=0)\n",
    "        input_label = torch.cat([label, label_neg], dim=0)\n",
    "\n",
    "        return  input_user, input_item, input_label\n"
   ]
  },
  {
   "cell_type": "markdown",
   "metadata": {},
   "source": [
    "# 4. 훈련"
   ]
  },
  {
   "cell_type": "markdown",
   "metadata": {},
   "source": [
    "## 4.1. 환경 설정 및 hyper parameter 설정"
   ]
  },
  {
   "cell_type": "code",
   "execution_count": 9,
   "metadata": {},
   "outputs": [],
   "source": [
    "dir_base = os.path.join(os.path.join('/opt','ml','paper','RecSys'))\n",
    "dir_data = os.path.join(dir_base, 'Data', 'ml-latest-small')\n",
    "path_rating = os.path.join(dir_data, 'ratings.csv')\n",
    "dir_output = os.path.join(os.getcwd(), 'output')\n",
    "dir_file_path = {\n",
    "    'dir_base': dir_base,\n",
    "    'dir_data': dir_data,\n",
    "    'rating': path_rating,\n",
    "    'dir_output': dir_output,\n",
    "}\n",
    "\n",
    "path = Box(dir_file_path)"
   ]
  },
  {
   "cell_type": "code",
   "execution_count": 38,
   "metadata": {},
   "outputs": [
    {
     "name": "stdout",
     "output_type": "stream",
     "text": [
      "Use cuda\n"
     ]
    }
   ],
   "source": [
    "device = 'cuda' if torch.cuda.is_available() else 'cpu'\n",
    "print(f'Use {device}')\n",
    "\n",
    "# 해당 논문의 github에서 사용한 값 참고\n",
    "config = {\n",
    "    'seed': 42,\n",
    "    'device': device,\n",
    "    }\n",
    "\n",
    "config = Box(config)\n",
    "\n",
    "hyper = {\n",
    "    'batch_size': 256,\n",
    "    'epochs': 40,\n",
    "    'pretrain_epochs': 20,\n",
    "    'latent_dim': 8,\n",
    "    'num_neg': 3,\n",
    "    'lr': 0.001,\n",
    "    'optimizer': 'adam',\n",
    "    'criterion': 'BCE',\n",
    "    'layers': [16, 8, 4],\n",
    "    'dropout': 0.2,\n",
    "    'topK': 10,\n",
    "    'num_neg': 4,\n",
    "}\n",
    "\n",
    "hyper = Box(hyper)"
   ]
  },
  {
   "cell_type": "code",
   "execution_count": 11,
   "metadata": {},
   "outputs": [],
   "source": [
    "setSeed(config.seed)\n",
    "data = DataInfo(path.rating)\n",
    "\n",
    "torch.cuda.empty_cache() # if necessary\n",
    "\n",
    "train_dataset = NeuMFDataset(data.df_pos_train)\n",
    "train_loader = DataLoader(train_dataset, batch_size=hyper.batch_size, shuffle=True, drop_last=False)\n",
    "\n",
    "test_dataset = NeuMFDataset(data.df_pos_test)\n",
    "test_loader = DataLoader(test_dataset, batch_size=1, shuffle=False)\n",
    "\n",
    "criterion = nn.BCELoss()"
   ]
  },
  {
   "cell_type": "markdown",
   "metadata": {},
   "source": [
    "## 4.2. GMF 훈련"
   ]
  },
  {
   "cell_type": "code",
   "execution_count": 12,
   "metadata": {},
   "outputs": [
    {
     "name": "stderr",
     "output_type": "stream",
     "text": [
      "100%|██████████| 351/351 [00:49<00:00,  7.13it/s]\n",
      "  0%|          | 1/351 [00:00<00:53,  6.56it/s]"
     ]
    },
    {
     "name": "stdout",
     "output_type": "stream",
     "text": [
      "Epoch[1/40]\ttrain_loss: 0.6758\tHR: 0.6213\tNDCG: 0.3609 \t훈련시간: 50.17 sec\n",
      "save ndcg: 0.3609\n"
     ]
    },
    {
     "name": "stderr",
     "output_type": "stream",
     "text": [
      "100%|██████████| 351/351 [00:48<00:00,  7.18it/s]\n",
      "  0%|          | 1/351 [00:00<01:07,  5.22it/s]"
     ]
    },
    {
     "name": "stdout",
     "output_type": "stream",
     "text": [
      "Epoch[2/40]\ttrain_loss: 0.4483\tHR: 0.6082\tNDCG: 0.3519 \t훈련시간: 49.75 sec\n"
     ]
    },
    {
     "name": "stderr",
     "output_type": "stream",
     "text": [
      "100%|██████████| 351/351 [00:46<00:00,  7.54it/s]\n",
      "  0%|          | 1/351 [00:00<00:47,  7.35it/s]"
     ]
    },
    {
     "name": "stdout",
     "output_type": "stream",
     "text": [
      "Epoch[3/40]\ttrain_loss: 0.3072\tHR: 0.6361\tNDCG: 0.3589 \t훈련시간: 47.48 sec\n"
     ]
    },
    {
     "name": "stderr",
     "output_type": "stream",
     "text": [
      "100%|██████████| 351/351 [00:47<00:00,  7.45it/s]\n",
      "  0%|          | 1/351 [00:00<00:55,  6.31it/s]"
     ]
    },
    {
     "name": "stdout",
     "output_type": "stream",
     "text": [
      "Epoch[4/40]\ttrain_loss: 0.2788\tHR: 0.6377\tNDCG: 0.3654 \t훈련시간: 47.99 sec\n",
      "save ndcg: 0.3654\n"
     ]
    },
    {
     "name": "stderr",
     "output_type": "stream",
     "text": [
      "100%|██████████| 351/351 [00:46<00:00,  7.55it/s]\n",
      "  0%|          | 1/351 [00:00<00:46,  7.47it/s]"
     ]
    },
    {
     "name": "stdout",
     "output_type": "stream",
     "text": [
      "Epoch[5/40]\ttrain_loss: 0.2689\tHR: 0.6508\tNDCG: 0.3740 \t훈련시간: 47.38 sec\n",
      "save ndcg: 0.3740\n"
     ]
    },
    {
     "name": "stderr",
     "output_type": "stream",
     "text": [
      "100%|██████████| 351/351 [00:46<00:00,  7.52it/s]\n",
      "  0%|          | 1/351 [00:00<01:09,  5.07it/s]"
     ]
    },
    {
     "name": "stdout",
     "output_type": "stream",
     "text": [
      "Epoch[6/40]\ttrain_loss: 0.2623\tHR: 0.6344\tNDCG: 0.3702 \t훈련시간: 47.54 sec\n"
     ]
    },
    {
     "name": "stderr",
     "output_type": "stream",
     "text": [
      "100%|██████████| 351/351 [00:46<00:00,  7.58it/s]\n",
      "  0%|          | 1/351 [00:00<01:06,  5.27it/s]"
     ]
    },
    {
     "name": "stdout",
     "output_type": "stream",
     "text": [
      "Epoch[7/40]\ttrain_loss: 0.2593\tHR: 0.6262\tNDCG: 0.3709 \t훈련시간: 47.19 sec\n"
     ]
    },
    {
     "name": "stderr",
     "output_type": "stream",
     "text": [
      "100%|██████████| 351/351 [00:46<00:00,  7.53it/s]\n",
      "  0%|          | 1/351 [00:00<00:50,  6.98it/s]"
     ]
    },
    {
     "name": "stdout",
     "output_type": "stream",
     "text": [
      "Epoch[8/40]\ttrain_loss: 0.2571\tHR: 0.6262\tNDCG: 0.3619 \t훈련시간: 47.50 sec\n"
     ]
    },
    {
     "name": "stderr",
     "output_type": "stream",
     "text": [
      "100%|██████████| 351/351 [00:46<00:00,  7.55it/s]\n",
      "  0%|          | 1/351 [00:00<00:49,  7.03it/s]"
     ]
    },
    {
     "name": "stdout",
     "output_type": "stream",
     "text": [
      "Epoch[9/40]\ttrain_loss: 0.2555\tHR: 0.6361\tNDCG: 0.3628 \t훈련시간: 47.39 sec\n"
     ]
    },
    {
     "name": "stderr",
     "output_type": "stream",
     "text": [
      "100%|██████████| 351/351 [00:46<00:00,  7.61it/s]\n",
      "  0%|          | 1/351 [00:00<00:49,  7.13it/s]"
     ]
    },
    {
     "name": "stdout",
     "output_type": "stream",
     "text": [
      "Epoch[10/40]\ttrain_loss: 0.2539\tHR: 0.6344\tNDCG: 0.3753 \t훈련시간: 46.99 sec\n",
      "save ndcg: 0.3753\n"
     ]
    },
    {
     "name": "stderr",
     "output_type": "stream",
     "text": [
      "100%|██████████| 351/351 [00:46<00:00,  7.57it/s]\n",
      "  0%|          | 1/351 [00:00<01:05,  5.37it/s]"
     ]
    },
    {
     "name": "stdout",
     "output_type": "stream",
     "text": [
      "Epoch[11/40]\ttrain_loss: 0.2531\tHR: 0.6344\tNDCG: 0.3705 \t훈련시간: 47.31 sec\n"
     ]
    },
    {
     "name": "stderr",
     "output_type": "stream",
     "text": [
      "100%|██████████| 351/351 [00:46<00:00,  7.57it/s]\n",
      "  0%|          | 1/351 [00:00<00:48,  7.15it/s]"
     ]
    },
    {
     "name": "stdout",
     "output_type": "stream",
     "text": [
      "Epoch[12/40]\ttrain_loss: 0.2515\tHR: 0.6361\tNDCG: 0.3757 \t훈련시간: 47.25 sec\n",
      "save ndcg: 0.3757\n"
     ]
    },
    {
     "name": "stderr",
     "output_type": "stream",
     "text": [
      "100%|██████████| 351/351 [00:46<00:00,  7.55it/s]\n",
      "  0%|          | 1/351 [00:00<01:05,  5.34it/s]"
     ]
    },
    {
     "name": "stdout",
     "output_type": "stream",
     "text": [
      "Epoch[13/40]\ttrain_loss: 0.2481\tHR: 0.6492\tNDCG: 0.3807 \t훈련시간: 47.36 sec\n",
      "save ndcg: 0.3807\n"
     ]
    },
    {
     "name": "stderr",
     "output_type": "stream",
     "text": [
      "100%|██████████| 351/351 [00:46<00:00,  7.62it/s]\n",
      "  0%|          | 1/351 [00:00<00:48,  7.23it/s]"
     ]
    },
    {
     "name": "stdout",
     "output_type": "stream",
     "text": [
      "Epoch[14/40]\ttrain_loss: 0.2443\tHR: 0.6525\tNDCG: 0.3890 \t훈련시간: 46.93 sec\n",
      "save ndcg: 0.3890\n"
     ]
    },
    {
     "name": "stderr",
     "output_type": "stream",
     "text": [
      "100%|██████████| 351/351 [00:46<00:00,  7.54it/s]\n",
      "  0%|          | 1/351 [00:00<00:54,  6.37it/s]"
     ]
    },
    {
     "name": "stdout",
     "output_type": "stream",
     "text": [
      "Epoch[15/40]\ttrain_loss: 0.2403\tHR: 0.6574\tNDCG: 0.3958 \t훈련시간: 47.42 sec\n",
      "save ndcg: 0.3958\n"
     ]
    },
    {
     "name": "stderr",
     "output_type": "stream",
     "text": [
      "100%|██████████| 351/351 [00:46<00:00,  7.54it/s]\n",
      "  0%|          | 0/351 [00:00<?, ?it/s]"
     ]
    },
    {
     "name": "stdout",
     "output_type": "stream",
     "text": [
      "Epoch[16/40]\ttrain_loss: 0.2335\tHR: 0.6623\tNDCG: 0.3975 \t훈련시간: 47.43 sec\n",
      "save ndcg: 0.3975\n"
     ]
    },
    {
     "name": "stderr",
     "output_type": "stream",
     "text": [
      "100%|██████████| 351/351 [00:46<00:00,  7.56it/s]\n",
      "  0%|          | 0/351 [00:00<?, ?it/s]"
     ]
    },
    {
     "name": "stdout",
     "output_type": "stream",
     "text": [
      "Epoch[17/40]\ttrain_loss: 0.2263\tHR: 0.6803\tNDCG: 0.4146 \t훈련시간: 47.30 sec\n",
      "save ndcg: 0.4146\n"
     ]
    },
    {
     "name": "stderr",
     "output_type": "stream",
     "text": [
      "100%|██████████| 351/351 [00:46<00:00,  7.63it/s]\n",
      "  0%|          | 0/351 [00:00<?, ?it/s]"
     ]
    },
    {
     "name": "stdout",
     "output_type": "stream",
     "text": [
      "Epoch[18/40]\ttrain_loss: 0.2182\tHR: 0.6803\tNDCG: 0.4077 \t훈련시간: 46.89 sec\n"
     ]
    },
    {
     "name": "stderr",
     "output_type": "stream",
     "text": [
      "100%|██████████| 351/351 [00:46<00:00,  7.50it/s]\n",
      "  0%|          | 1/351 [00:00<00:48,  7.26it/s]"
     ]
    },
    {
     "name": "stdout",
     "output_type": "stream",
     "text": [
      "Epoch[19/40]\ttrain_loss: 0.2129\tHR: 0.6934\tNDCG: 0.4249 \t훈련시간: 47.67 sec\n",
      "save ndcg: 0.4249\n"
     ]
    },
    {
     "name": "stderr",
     "output_type": "stream",
     "text": [
      "100%|██████████| 351/351 [00:46<00:00,  7.51it/s]\n",
      "  0%|          | 1/351 [00:00<00:58,  6.03it/s]"
     ]
    },
    {
     "name": "stdout",
     "output_type": "stream",
     "text": [
      "Epoch[20/40]\ttrain_loss: 0.2074\tHR: 0.7115\tNDCG: 0.4340 \t훈련시간: 47.64 sec\n",
      "save ndcg: 0.4340\n"
     ]
    },
    {
     "name": "stderr",
     "output_type": "stream",
     "text": [
      "100%|██████████| 351/351 [00:47<00:00,  7.44it/s]\n",
      "  0%|          | 1/351 [00:00<00:55,  6.30it/s]"
     ]
    },
    {
     "name": "stdout",
     "output_type": "stream",
     "text": [
      "Epoch[21/40]\ttrain_loss: 0.2031\tHR: 0.7246\tNDCG: 0.4427 \t훈련시간: 48.06 sec\n",
      "save ndcg: 0.4427\n"
     ]
    },
    {
     "name": "stderr",
     "output_type": "stream",
     "text": [
      "100%|██████████| 351/351 [00:46<00:00,  7.58it/s]\n",
      "  0%|          | 1/351 [00:00<00:49,  7.13it/s]"
     ]
    },
    {
     "name": "stdout",
     "output_type": "stream",
     "text": [
      "Epoch[22/40]\ttrain_loss: 0.1993\tHR: 0.7131\tNDCG: 0.4422 \t훈련시간: 47.18 sec\n"
     ]
    },
    {
     "name": "stderr",
     "output_type": "stream",
     "text": [
      "100%|██████████| 351/351 [00:46<00:00,  7.60it/s]\n",
      "  0%|          | 1/351 [00:00<00:55,  6.35it/s]"
     ]
    },
    {
     "name": "stdout",
     "output_type": "stream",
     "text": [
      "Epoch[23/40]\ttrain_loss: 0.1946\tHR: 0.7246\tNDCG: 0.4397 \t훈련시간: 47.04 sec\n"
     ]
    },
    {
     "name": "stderr",
     "output_type": "stream",
     "text": [
      "100%|██████████| 351/351 [00:46<00:00,  7.56it/s]\n",
      "  0%|          | 0/351 [00:00<?, ?it/s]"
     ]
    },
    {
     "name": "stdout",
     "output_type": "stream",
     "text": [
      "Epoch[24/40]\ttrain_loss: 0.1906\tHR: 0.7508\tNDCG: 0.4659 \t훈련시간: 47.28 sec\n",
      "save ndcg: 0.4659\n"
     ]
    },
    {
     "name": "stderr",
     "output_type": "stream",
     "text": [
      "100%|██████████| 351/351 [00:46<00:00,  7.58it/s]\n",
      "  0%|          | 1/351 [00:00<00:52,  6.65it/s]"
     ]
    },
    {
     "name": "stdout",
     "output_type": "stream",
     "text": [
      "Epoch[25/40]\ttrain_loss: 0.1857\tHR: 0.7525\tNDCG: 0.4748 \t훈련시간: 47.16 sec\n",
      "save ndcg: 0.4748\n"
     ]
    },
    {
     "name": "stderr",
     "output_type": "stream",
     "text": [
      "100%|██████████| 351/351 [00:46<00:00,  7.57it/s]\n",
      "  0%|          | 1/351 [00:00<01:03,  5.49it/s]"
     ]
    },
    {
     "name": "stdout",
     "output_type": "stream",
     "text": [
      "Epoch[26/40]\ttrain_loss: 0.1820\tHR: 0.7623\tNDCG: 0.4824 \t훈련시간: 47.24 sec\n",
      "save ndcg: 0.4824\n"
     ]
    },
    {
     "name": "stderr",
     "output_type": "stream",
     "text": [
      "100%|██████████| 351/351 [00:46<00:00,  7.59it/s]\n",
      "  0%|          | 1/351 [00:00<00:51,  6.79it/s]"
     ]
    },
    {
     "name": "stdout",
     "output_type": "stream",
     "text": [
      "Epoch[27/40]\ttrain_loss: 0.1792\tHR: 0.7541\tNDCG: 0.4717 \t훈련시간: 47.14 sec\n"
     ]
    },
    {
     "name": "stderr",
     "output_type": "stream",
     "text": [
      "100%|██████████| 351/351 [00:46<00:00,  7.55it/s]\n",
      "  0%|          | 0/351 [00:00<?, ?it/s]"
     ]
    },
    {
     "name": "stdout",
     "output_type": "stream",
     "text": [
      "Epoch[28/40]\ttrain_loss: 0.1764\tHR: 0.7525\tNDCG: 0.4749 \t훈련시간: 47.37 sec\n"
     ]
    },
    {
     "name": "stderr",
     "output_type": "stream",
     "text": [
      "100%|██████████| 351/351 [00:46<00:00,  7.54it/s]\n",
      "  0%|          | 1/351 [00:00<00:53,  6.52it/s]"
     ]
    },
    {
     "name": "stdout",
     "output_type": "stream",
     "text": [
      "Epoch[29/40]\ttrain_loss: 0.1732\tHR: 0.7705\tNDCG: 0.4932 \t훈련시간: 47.45 sec\n",
      "save ndcg: 0.4932\n"
     ]
    },
    {
     "name": "stderr",
     "output_type": "stream",
     "text": [
      "100%|██████████| 351/351 [00:46<00:00,  7.58it/s]\n",
      "  0%|          | 1/351 [00:00<00:49,  7.02it/s]"
     ]
    },
    {
     "name": "stdout",
     "output_type": "stream",
     "text": [
      "Epoch[30/40]\ttrain_loss: 0.1706\tHR: 0.7820\tNDCG: 0.4851 \t훈련시간: 47.19 sec\n"
     ]
    },
    {
     "name": "stderr",
     "output_type": "stream",
     "text": [
      "100%|██████████| 351/351 [00:46<00:00,  7.54it/s]\n",
      "  0%|          | 1/351 [00:00<00:52,  6.65it/s]"
     ]
    },
    {
     "name": "stdout",
     "output_type": "stream",
     "text": [
      "Epoch[31/40]\ttrain_loss: 0.1685\tHR: 0.7803\tNDCG: 0.4880 \t훈련시간: 47.46 sec\n"
     ]
    },
    {
     "name": "stderr",
     "output_type": "stream",
     "text": [
      "100%|██████████| 351/351 [00:46<00:00,  7.58it/s]\n",
      "  0%|          | 1/351 [00:00<00:48,  7.23it/s]"
     ]
    },
    {
     "name": "stdout",
     "output_type": "stream",
     "text": [
      "Epoch[32/40]\ttrain_loss: 0.1663\tHR: 0.7689\tNDCG: 0.5001 \t훈련시간: 47.21 sec\n",
      "save ndcg: 0.5001\n"
     ]
    },
    {
     "name": "stderr",
     "output_type": "stream",
     "text": [
      "100%|██████████| 351/351 [00:46<00:00,  7.55it/s]\n",
      "  0%|          | 1/351 [00:00<01:06,  5.29it/s]"
     ]
    },
    {
     "name": "stdout",
     "output_type": "stream",
     "text": [
      "Epoch[33/40]\ttrain_loss: 0.1653\tHR: 0.7836\tNDCG: 0.5041 \t훈련시간: 47.35 sec\n",
      "save ndcg: 0.5041\n"
     ]
    },
    {
     "name": "stderr",
     "output_type": "stream",
     "text": [
      "100%|██████████| 351/351 [00:46<00:00,  7.52it/s]\n",
      "  0%|          | 1/351 [00:00<00:50,  6.92it/s]"
     ]
    },
    {
     "name": "stdout",
     "output_type": "stream",
     "text": [
      "Epoch[34/40]\ttrain_loss: 0.1629\tHR: 0.7689\tNDCG: 0.4841 \t훈련시간: 47.56 sec\n"
     ]
    },
    {
     "name": "stderr",
     "output_type": "stream",
     "text": [
      "100%|██████████| 351/351 [00:46<00:00,  7.51it/s]\n",
      "  0%|          | 0/351 [00:00<?, ?it/s]"
     ]
    },
    {
     "name": "stdout",
     "output_type": "stream",
     "text": [
      "Epoch[35/40]\ttrain_loss: 0.1615\tHR: 0.7984\tNDCG: 0.4887 \t훈련시간: 47.58 sec\n"
     ]
    },
    {
     "name": "stderr",
     "output_type": "stream",
     "text": [
      "100%|██████████| 351/351 [00:46<00:00,  7.57it/s]\n",
      "  0%|          | 1/351 [00:00<01:02,  5.56it/s]"
     ]
    },
    {
     "name": "stdout",
     "output_type": "stream",
     "text": [
      "Epoch[36/40]\ttrain_loss: 0.1609\tHR: 0.7836\tNDCG: 0.5040 \t훈련시간: 47.28 sec\n"
     ]
    },
    {
     "name": "stderr",
     "output_type": "stream",
     "text": [
      "100%|██████████| 351/351 [00:46<00:00,  7.54it/s]\n",
      "  0%|          | 1/351 [00:00<00:50,  6.98it/s]"
     ]
    },
    {
     "name": "stdout",
     "output_type": "stream",
     "text": [
      "Epoch[37/40]\ttrain_loss: 0.1595\tHR: 0.7820\tNDCG: 0.5012 \t훈련시간: 47.40 sec\n"
     ]
    },
    {
     "name": "stderr",
     "output_type": "stream",
     "text": [
      "100%|██████████| 351/351 [00:48<00:00,  7.19it/s]\n",
      "  0%|          | 0/351 [00:00<?, ?it/s]"
     ]
    },
    {
     "name": "stdout",
     "output_type": "stream",
     "text": [
      "Epoch[38/40]\ttrain_loss: 0.1586\tHR: 0.7951\tNDCG: 0.5107 \t훈련시간: 49.73 sec\n",
      "save ndcg: 0.5107\n"
     ]
    },
    {
     "name": "stderr",
     "output_type": "stream",
     "text": [
      "100%|██████████| 351/351 [00:46<00:00,  7.58it/s]\n",
      "  0%|          | 1/351 [00:00<00:49,  7.06it/s]"
     ]
    },
    {
     "name": "stdout",
     "output_type": "stream",
     "text": [
      "Epoch[39/40]\ttrain_loss: 0.1577\tHR: 0.7885\tNDCG: 0.5066 \t훈련시간: 47.20 sec\n"
     ]
    },
    {
     "name": "stderr",
     "output_type": "stream",
     "text": [
      "100%|██████████| 351/351 [00:45<00:00,  7.63it/s]\n"
     ]
    },
    {
     "name": "stdout",
     "output_type": "stream",
     "text": [
      "Epoch[40/40]\ttrain_loss: 0.1565\tHR: 0.7918\tNDCG: 0.5075 \t훈련시간: 46.88 sec\n"
     ]
    }
   ],
   "source": [
    "GMF_model = GMF(data.num_users, data.num_movies, hyper.latent_dim)\n",
    "GMF_model.to(config.device)\n",
    "GMF_optimizer = torch.optim.Adam(GMF_model.parameters(), lr=hyper.lr)\n",
    "\n",
    "GMF_trainer = Trainer(GMF_model, GMF_optimizer, train_loader, test_loader, hyper.epochs, criterion, config.device, data.user_negative_samples, hyper.num_neg, hyper.topK, path.dir_output, 'GMF')"
   ]
  },
  {
   "cell_type": "markdown",
   "metadata": {},
   "source": [
    "## 4.3. MLP 훈련"
   ]
  },
  {
   "cell_type": "code",
   "execution_count": 44,
   "metadata": {},
   "outputs": [
    {
     "name": "stderr",
     "output_type": "stream",
     "text": [
      "100%|██████████| 351/351 [00:46<00:00,  7.48it/s]\n",
      "  0%|          | 1/351 [00:00<01:01,  5.67it/s]"
     ]
    },
    {
     "name": "stdout",
     "output_type": "stream",
     "text": [
      "Epoch[1/40]\ttrain_loss: 0.4960\tHR: 0.6738\tNDCG: 0.2701 \t훈련시간: 47.90 sec\n",
      "save ndcg: 0.2701\n"
     ]
    },
    {
     "name": "stderr",
     "output_type": "stream",
     "text": [
      "100%|██████████| 351/351 [00:46<00:00,  7.56it/s]\n",
      "  0%|          | 1/351 [00:00<01:02,  5.62it/s]"
     ]
    },
    {
     "name": "stdout",
     "output_type": "stream",
     "text": [
      "Epoch[2/40]\ttrain_loss: 0.3012\tHR: 0.6656\tNDCG: 0.2650 \t훈련시간: 47.42 sec\n"
     ]
    },
    {
     "name": "stderr",
     "output_type": "stream",
     "text": [
      "100%|██████████| 351/351 [00:46<00:00,  7.56it/s]\n",
      "  0%|          | 0/351 [00:00<?, ?it/s]"
     ]
    },
    {
     "name": "stdout",
     "output_type": "stream",
     "text": [
      "Epoch[3/40]\ttrain_loss: 0.2863\tHR: 0.6541\tNDCG: 0.3063 \t훈련시간: 47.43 sec\n",
      "save ndcg: 0.3063\n"
     ]
    },
    {
     "name": "stderr",
     "output_type": "stream",
     "text": [
      "100%|██████████| 351/351 [00:46<00:00,  7.57it/s]\n",
      "  0%|          | 1/351 [00:00<00:58,  5.99it/s]"
     ]
    },
    {
     "name": "stdout",
     "output_type": "stream",
     "text": [
      "Epoch[4/40]\ttrain_loss: 0.2824\tHR: 0.6525\tNDCG: 0.2937 \t훈련시간: 47.38 sec\n"
     ]
    },
    {
     "name": "stderr",
     "output_type": "stream",
     "text": [
      "100%|██████████| 351/351 [00:46<00:00,  7.52it/s]\n",
      "  0%|          | 1/351 [00:00<00:53,  6.59it/s]"
     ]
    },
    {
     "name": "stdout",
     "output_type": "stream",
     "text": [
      "Epoch[5/40]\ttrain_loss: 0.2805\tHR: 0.6623\tNDCG: 0.2853 \t훈련시간: 47.79 sec\n"
     ]
    },
    {
     "name": "stderr",
     "output_type": "stream",
     "text": [
      "100%|██████████| 351/351 [00:46<00:00,  7.60it/s]\n",
      "  0%|          | 1/351 [00:00<01:06,  5.24it/s]"
     ]
    },
    {
     "name": "stdout",
     "output_type": "stream",
     "text": [
      "Epoch[6/40]\ttrain_loss: 0.2797\tHR: 0.6590\tNDCG: 0.2913 \t훈련시간: 47.25 sec\n"
     ]
    },
    {
     "name": "stderr",
     "output_type": "stream",
     "text": [
      "100%|██████████| 351/351 [00:46<00:00,  7.52it/s]\n",
      "  0%|          | 1/351 [00:00<00:59,  5.90it/s]"
     ]
    },
    {
     "name": "stdout",
     "output_type": "stream",
     "text": [
      "Epoch[7/40]\ttrain_loss: 0.2788\tHR: 0.6656\tNDCG: 0.3016 \t훈련시간: 47.68 sec\n"
     ]
    },
    {
     "name": "stderr",
     "output_type": "stream",
     "text": [
      "100%|██████████| 351/351 [00:46<00:00,  7.60it/s]\n",
      "  0%|          | 1/351 [00:00<00:52,  6.73it/s]"
     ]
    },
    {
     "name": "stdout",
     "output_type": "stream",
     "text": [
      "Epoch[8/40]\ttrain_loss: 0.2783\tHR: 0.6639\tNDCG: 0.2984 \t훈련시간: 47.19 sec\n"
     ]
    },
    {
     "name": "stderr",
     "output_type": "stream",
     "text": [
      "100%|██████████| 351/351 [00:46<00:00,  7.53it/s]\n",
      "  0%|          | 1/351 [00:00<01:08,  5.12it/s]"
     ]
    },
    {
     "name": "stdout",
     "output_type": "stream",
     "text": [
      "Epoch[9/40]\ttrain_loss: 0.2782\tHR: 0.6475\tNDCG: 0.3072 \t훈련시간: 47.64 sec\n",
      "save ndcg: 0.3072\n"
     ]
    },
    {
     "name": "stderr",
     "output_type": "stream",
     "text": [
      "100%|██████████| 351/351 [00:46<00:00,  7.61it/s]\n",
      "  0%|          | 1/351 [00:00<00:47,  7.30it/s]"
     ]
    },
    {
     "name": "stdout",
     "output_type": "stream",
     "text": [
      "Epoch[10/40]\ttrain_loss: 0.2782\tHR: 0.6590\tNDCG: 0.3037 \t훈련시간: 47.20 sec\n"
     ]
    },
    {
     "name": "stderr",
     "output_type": "stream",
     "text": [
      "100%|██████████| 351/351 [00:46<00:00,  7.57it/s]\n",
      "  0%|          | 1/351 [00:00<00:54,  6.44it/s]"
     ]
    },
    {
     "name": "stdout",
     "output_type": "stream",
     "text": [
      "Epoch[11/40]\ttrain_loss: 0.2776\tHR: 0.6508\tNDCG: 0.2970 \t훈련시간: 47.39 sec\n"
     ]
    },
    {
     "name": "stderr",
     "output_type": "stream",
     "text": [
      "100%|██████████| 351/351 [00:46<00:00,  7.59it/s]\n",
      "  0%|          | 1/351 [00:00<00:48,  7.16it/s]"
     ]
    },
    {
     "name": "stdout",
     "output_type": "stream",
     "text": [
      "Epoch[12/40]\ttrain_loss: 0.2777\tHR: 0.6607\tNDCG: 0.2907 \t훈련시간: 47.26 sec\n"
     ]
    },
    {
     "name": "stderr",
     "output_type": "stream",
     "text": [
      "100%|██████████| 351/351 [00:46<00:00,  7.56it/s]\n",
      "  0%|          | 1/351 [00:00<00:54,  6.40it/s]"
     ]
    },
    {
     "name": "stdout",
     "output_type": "stream",
     "text": [
      "Epoch[13/40]\ttrain_loss: 0.2768\tHR: 0.6623\tNDCG: 0.3064 \t훈련시간: 47.51 sec\n"
     ]
    },
    {
     "name": "stderr",
     "output_type": "stream",
     "text": [
      "100%|██████████| 351/351 [00:46<00:00,  7.49it/s]\n",
      "  0%|          | 1/351 [00:00<01:07,  5.16it/s]"
     ]
    },
    {
     "name": "stdout",
     "output_type": "stream",
     "text": [
      "Epoch[14/40]\ttrain_loss: 0.2771\tHR: 0.6508\tNDCG: 0.3084 \t훈련시간: 47.94 sec\n",
      "save ndcg: 0.3084\n"
     ]
    },
    {
     "name": "stderr",
     "output_type": "stream",
     "text": [
      "100%|██████████| 351/351 [00:46<00:00,  7.58it/s]\n",
      "  0%|          | 1/351 [00:00<00:48,  7.26it/s]"
     ]
    },
    {
     "name": "stdout",
     "output_type": "stream",
     "text": [
      "Epoch[15/40]\ttrain_loss: 0.2765\tHR: 0.6623\tNDCG: 0.3071 \t훈련시간: 47.34 sec\n"
     ]
    },
    {
     "name": "stderr",
     "output_type": "stream",
     "text": [
      "100%|██████████| 351/351 [00:46<00:00,  7.47it/s]\n",
      "  0%|          | 0/351 [00:00<?, ?it/s]"
     ]
    },
    {
     "name": "stdout",
     "output_type": "stream",
     "text": [
      "Epoch[16/40]\ttrain_loss: 0.2763\tHR: 0.6590\tNDCG: 0.3063 \t훈련시간: 47.97 sec\n"
     ]
    },
    {
     "name": "stderr",
     "output_type": "stream",
     "text": [
      "100%|██████████| 351/351 [00:46<00:00,  7.52it/s]\n",
      "  0%|          | 1/351 [00:00<01:03,  5.53it/s]"
     ]
    },
    {
     "name": "stdout",
     "output_type": "stream",
     "text": [
      "Epoch[17/40]\ttrain_loss: 0.2764\tHR: 0.6541\tNDCG: 0.3014 \t훈련시간: 47.68 sec\n"
     ]
    },
    {
     "name": "stderr",
     "output_type": "stream",
     "text": [
      "100%|██████████| 351/351 [00:46<00:00,  7.54it/s]\n",
      "  0%|          | 0/351 [00:00<?, ?it/s]"
     ]
    },
    {
     "name": "stdout",
     "output_type": "stream",
     "text": [
      "Epoch[18/40]\ttrain_loss: 0.2764\tHR: 0.6541\tNDCG: 0.3038 \t훈련시간: 47.57 sec\n"
     ]
    },
    {
     "name": "stderr",
     "output_type": "stream",
     "text": [
      "100%|██████████| 351/351 [00:46<00:00,  7.57it/s]\n",
      "  0%|          | 1/351 [00:00<00:55,  6.34it/s]"
     ]
    },
    {
     "name": "stdout",
     "output_type": "stream",
     "text": [
      "Epoch[19/40]\ttrain_loss: 0.2762\tHR: 0.6590\tNDCG: 0.2979 \t훈련시간: 47.35 sec\n"
     ]
    },
    {
     "name": "stderr",
     "output_type": "stream",
     "text": [
      "100%|██████████| 351/351 [00:46<00:00,  7.60it/s]\n",
      "  0%|          | 0/351 [00:00<?, ?it/s]"
     ]
    },
    {
     "name": "stdout",
     "output_type": "stream",
     "text": [
      "Epoch[20/40]\ttrain_loss: 0.2760\tHR: 0.6623\tNDCG: 0.3040 \t훈련시간: 47.21 sec\n"
     ]
    },
    {
     "name": "stderr",
     "output_type": "stream",
     "text": [
      "100%|██████████| 351/351 [00:46<00:00,  7.61it/s]\n",
      "  0%|          | 1/351 [00:00<00:48,  7.26it/s]"
     ]
    },
    {
     "name": "stdout",
     "output_type": "stream",
     "text": [
      "Epoch[21/40]\ttrain_loss: 0.2757\tHR: 0.6607\tNDCG: 0.3040 \t훈련시간: 47.15 sec\n"
     ]
    },
    {
     "name": "stderr",
     "output_type": "stream",
     "text": [
      "100%|██████████| 351/351 [00:47<00:00,  7.39it/s]\n",
      "  0%|          | 1/351 [00:00<00:54,  6.39it/s]"
     ]
    },
    {
     "name": "stdout",
     "output_type": "stream",
     "text": [
      "Epoch[22/40]\ttrain_loss: 0.2765\tHR: 0.6820\tNDCG: 0.3169 \t훈련시간: 48.52 sec\n",
      "save ndcg: 0.3169\n"
     ]
    },
    {
     "name": "stderr",
     "output_type": "stream",
     "text": [
      "100%|██████████| 351/351 [00:46<00:00,  7.58it/s]\n",
      "  0%|          | 1/351 [00:00<00:47,  7.44it/s]"
     ]
    },
    {
     "name": "stdout",
     "output_type": "stream",
     "text": [
      "Epoch[23/40]\ttrain_loss: 0.2765\tHR: 0.6705\tNDCG: 0.3173 \t훈련시간: 47.34 sec\n",
      "save ndcg: 0.3173\n"
     ]
    },
    {
     "name": "stderr",
     "output_type": "stream",
     "text": [
      "100%|██████████| 351/351 [00:46<00:00,  7.59it/s]\n",
      "  0%|          | 1/351 [00:00<01:04,  5.43it/s]"
     ]
    },
    {
     "name": "stdout",
     "output_type": "stream",
     "text": [
      "Epoch[24/40]\ttrain_loss: 0.2760\tHR: 0.6590\tNDCG: 0.3161 \t훈련시간: 47.22 sec\n"
     ]
    },
    {
     "name": "stderr",
     "output_type": "stream",
     "text": [
      "100%|██████████| 351/351 [00:46<00:00,  7.59it/s]\n",
      "  0%|          | 0/351 [00:00<?, ?it/s]"
     ]
    },
    {
     "name": "stdout",
     "output_type": "stream",
     "text": [
      "Epoch[25/40]\ttrain_loss: 0.2753\tHR: 0.6721\tNDCG: 0.3176 \t훈련시간: 47.33 sec\n",
      "save ndcg: 0.3176\n"
     ]
    },
    {
     "name": "stderr",
     "output_type": "stream",
     "text": [
      "100%|██████████| 351/351 [00:45<00:00,  7.64it/s]\n",
      "  0%|          | 1/351 [00:00<00:47,  7.34it/s]"
     ]
    },
    {
     "name": "stdout",
     "output_type": "stream",
     "text": [
      "Epoch[26/40]\ttrain_loss: 0.2749\tHR: 0.6590\tNDCG: 0.3069 \t훈련시간: 46.94 sec\n"
     ]
    },
    {
     "name": "stderr",
     "output_type": "stream",
     "text": [
      "100%|██████████| 351/351 [00:46<00:00,  7.55it/s]\n",
      "  0%|          | 1/351 [00:00<01:04,  5.39it/s]"
     ]
    },
    {
     "name": "stdout",
     "output_type": "stream",
     "text": [
      "Epoch[27/40]\ttrain_loss: 0.2749\tHR: 0.6820\tNDCG: 0.3187 \t훈련시간: 47.52 sec\n",
      "save ndcg: 0.3187\n"
     ]
    },
    {
     "name": "stderr",
     "output_type": "stream",
     "text": [
      "100%|██████████| 351/351 [00:46<00:00,  7.58it/s]\n",
      "  0%|          | 1/351 [00:00<01:06,  5.24it/s]"
     ]
    },
    {
     "name": "stdout",
     "output_type": "stream",
     "text": [
      "Epoch[28/40]\ttrain_loss: 0.2748\tHR: 0.6623\tNDCG: 0.3075 \t훈련시간: 47.29 sec\n"
     ]
    },
    {
     "name": "stderr",
     "output_type": "stream",
     "text": [
      "100%|██████████| 351/351 [00:46<00:00,  7.51it/s]\n",
      "  0%|          | 1/351 [00:00<00:55,  6.34it/s]"
     ]
    },
    {
     "name": "stdout",
     "output_type": "stream",
     "text": [
      "Epoch[29/40]\ttrain_loss: 0.2744\tHR: 0.6672\tNDCG: 0.2961 \t훈련시간: 47.77 sec\n"
     ]
    },
    {
     "name": "stderr",
     "output_type": "stream",
     "text": [
      "100%|██████████| 351/351 [00:46<00:00,  7.59it/s]\n",
      "  0%|          | 1/351 [00:00<00:48,  7.19it/s]"
     ]
    },
    {
     "name": "stdout",
     "output_type": "stream",
     "text": [
      "Epoch[30/40]\ttrain_loss: 0.2742\tHR: 0.6705\tNDCG: 0.3023 \t훈련시간: 47.27 sec\n"
     ]
    },
    {
     "name": "stderr",
     "output_type": "stream",
     "text": [
      "100%|██████████| 351/351 [00:46<00:00,  7.55it/s]\n",
      "  0%|          | 1/351 [00:00<01:02,  5.56it/s]"
     ]
    },
    {
     "name": "stdout",
     "output_type": "stream",
     "text": [
      "Epoch[31/40]\ttrain_loss: 0.2742\tHR: 0.6656\tNDCG: 0.2993 \t훈련시간: 47.47 sec\n"
     ]
    },
    {
     "name": "stderr",
     "output_type": "stream",
     "text": [
      "100%|██████████| 351/351 [00:46<00:00,  7.59it/s]\n",
      "  0%|          | 1/351 [00:00<01:08,  5.09it/s]"
     ]
    },
    {
     "name": "stdout",
     "output_type": "stream",
     "text": [
      "Epoch[32/40]\ttrain_loss: 0.2741\tHR: 0.6738\tNDCG: 0.3151 \t훈련시간: 47.39 sec\n"
     ]
    },
    {
     "name": "stderr",
     "output_type": "stream",
     "text": [
      "100%|██████████| 351/351 [00:46<00:00,  7.60it/s]\n",
      "  0%|          | 1/351 [00:00<00:51,  6.82it/s]"
     ]
    },
    {
     "name": "stdout",
     "output_type": "stream",
     "text": [
      "Epoch[33/40]\ttrain_loss: 0.2732\tHR: 0.6689\tNDCG: 0.3031 \t훈련시간: 47.19 sec\n"
     ]
    },
    {
     "name": "stderr",
     "output_type": "stream",
     "text": [
      "100%|██████████| 351/351 [00:45<00:00,  7.65it/s]\n",
      "  0%|          | 1/351 [00:00<00:47,  7.39it/s]"
     ]
    },
    {
     "name": "stdout",
     "output_type": "stream",
     "text": [
      "Epoch[34/40]\ttrain_loss: 0.2725\tHR: 0.6803\tNDCG: 0.3076 \t훈련시간: 46.95 sec\n"
     ]
    },
    {
     "name": "stderr",
     "output_type": "stream",
     "text": [
      "100%|██████████| 351/351 [00:46<00:00,  7.57it/s]\n",
      "  0%|          | 1/351 [00:00<00:54,  6.44it/s]"
     ]
    },
    {
     "name": "stdout",
     "output_type": "stream",
     "text": [
      "Epoch[35/40]\ttrain_loss: 0.2720\tHR: 0.6705\tNDCG: 0.3115 \t훈련시간: 47.38 sec\n"
     ]
    },
    {
     "name": "stderr",
     "output_type": "stream",
     "text": [
      "100%|██████████| 351/351 [00:46<00:00,  7.62it/s]\n",
      "  0%|          | 1/351 [00:00<00:53,  6.57it/s]"
     ]
    },
    {
     "name": "stdout",
     "output_type": "stream",
     "text": [
      "Epoch[36/40]\ttrain_loss: 0.2716\tHR: 0.6836\tNDCG: 0.3067 \t훈련시간: 47.08 sec\n"
     ]
    },
    {
     "name": "stderr",
     "output_type": "stream",
     "text": [
      "100%|██████████| 351/351 [00:46<00:00,  7.55it/s]\n",
      "  0%|          | 1/351 [00:00<00:45,  7.66it/s]"
     ]
    },
    {
     "name": "stdout",
     "output_type": "stream",
     "text": [
      "Epoch[37/40]\ttrain_loss: 0.2710\tHR: 0.6951\tNDCG: 0.2985 \t훈련시간: 47.54 sec\n"
     ]
    },
    {
     "name": "stderr",
     "output_type": "stream",
     "text": [
      "100%|██████████| 351/351 [00:45<00:00,  7.65it/s]\n",
      "  0%|          | 1/351 [00:00<00:47,  7.35it/s]"
     ]
    },
    {
     "name": "stdout",
     "output_type": "stream",
     "text": [
      "Epoch[38/40]\ttrain_loss: 0.2700\tHR: 0.6934\tNDCG: 0.3084 \t훈련시간: 46.88 sec\n"
     ]
    },
    {
     "name": "stderr",
     "output_type": "stream",
     "text": [
      "100%|██████████| 351/351 [00:46<00:00,  7.61it/s]\n",
      "  0%|          | 1/351 [00:00<01:01,  5.71it/s]"
     ]
    },
    {
     "name": "stdout",
     "output_type": "stream",
     "text": [
      "Epoch[39/40]\ttrain_loss: 0.2687\tHR: 0.6885\tNDCG: 0.3131 \t훈련시간: 47.12 sec\n"
     ]
    },
    {
     "name": "stderr",
     "output_type": "stream",
     "text": [
      "100%|██████████| 351/351 [00:44<00:00,  7.90it/s]\n"
     ]
    },
    {
     "name": "stdout",
     "output_type": "stream",
     "text": [
      "Epoch[40/40]\ttrain_loss: 0.2675\tHR: 0.7131\tNDCG: 0.3083 \t훈련시간: 45.42 sec\n"
     ]
    }
   ],
   "source": [
    "MLP_model = MLP(data.num_users, data.num_movies, hyper.latent_dim, hyper.dropout, hyper.layers)\n",
    "MLP_model.to(config.device)\n",
    "MLP_optimizer = torch.optim.Adam(MLP_model.parameters(), lr=hyper.lr)\n",
    "\n",
    "MLP_trainer = Trainer(MLP_model, MLP_optimizer, train_loader, test_loader, hyper.epochs, criterion, config.device, data.user_negative_samples, hyper.num_neg, hyper.topK, path.dir_output, 'MLP')"
   ]
  },
  {
   "cell_type": "markdown",
   "metadata": {},
   "source": [
    "## 4.4. NeuMF 훈련"
   ]
  },
  {
   "cell_type": "code",
   "execution_count": 45,
   "metadata": {},
   "outputs": [
    {
     "name": "stderr",
     "output_type": "stream",
     "text": [
      "100%|██████████| 351/351 [00:44<00:00,  7.94it/s]\n",
      "  0%|          | 0/351 [00:00<?, ?it/s]"
     ]
    },
    {
     "name": "stdout",
     "output_type": "stream",
     "text": [
      "Epoch[1/20]\ttrain_loss: 0.2945\tHR: 0.6525\tNDCG: 0.4253 \t훈련시간: 45.28 sec\n",
      "save ndcg: 0.4253\n"
     ]
    },
    {
     "name": "stderr",
     "output_type": "stream",
     "text": [
      "100%|██████████| 351/351 [00:44<00:00,  7.95it/s]\n",
      "  0%|          | 1/351 [00:00<00:48,  7.26it/s]"
     ]
    },
    {
     "name": "stdout",
     "output_type": "stream",
     "text": [
      "Epoch[2/20]\ttrain_loss: 0.2390\tHR: 0.7000\tNDCG: 0.4395 \t훈련시간: 45.21 sec\n",
      "save ndcg: 0.4395\n"
     ]
    },
    {
     "name": "stderr",
     "output_type": "stream",
     "text": [
      "100%|██████████| 351/351 [00:44<00:00,  7.96it/s]\n",
      "  0%|          | 1/351 [00:00<00:44,  7.79it/s]"
     ]
    },
    {
     "name": "stdout",
     "output_type": "stream",
     "text": [
      "Epoch[3/20]\ttrain_loss: 0.2051\tHR: 0.7262\tNDCG: 0.4481 \t훈련시간: 45.15 sec\n",
      "save ndcg: 0.4481\n"
     ]
    },
    {
     "name": "stderr",
     "output_type": "stream",
     "text": [
      "100%|██████████| 351/351 [00:44<00:00,  7.96it/s]\n",
      "  0%|          | 1/351 [00:00<00:49,  7.08it/s]"
     ]
    },
    {
     "name": "stdout",
     "output_type": "stream",
     "text": [
      "Epoch[4/20]\ttrain_loss: 0.1875\tHR: 0.7508\tNDCG: 0.4674 \t훈련시간: 45.11 sec\n",
      "save ndcg: 0.4674\n"
     ]
    },
    {
     "name": "stderr",
     "output_type": "stream",
     "text": [
      "100%|██████████| 351/351 [00:44<00:00,  7.95it/s]\n",
      "  0%|          | 1/351 [00:00<00:48,  7.29it/s]"
     ]
    },
    {
     "name": "stdout",
     "output_type": "stream",
     "text": [
      "Epoch[5/20]\ttrain_loss: 0.1771\tHR: 0.7787\tNDCG: 0.4898 \t훈련시간: 45.19 sec\n",
      "save ndcg: 0.4898\n"
     ]
    },
    {
     "name": "stderr",
     "output_type": "stream",
     "text": [
      "100%|██████████| 351/351 [00:44<00:00,  7.97it/s]\n",
      "  0%|          | 1/351 [00:00<00:45,  7.77it/s]"
     ]
    },
    {
     "name": "stdout",
     "output_type": "stream",
     "text": [
      "Epoch[6/20]\ttrain_loss: 0.1709\tHR: 0.7852\tNDCG: 0.4991 \t훈련시간: 45.09 sec\n",
      "save ndcg: 0.4991\n"
     ]
    },
    {
     "name": "stderr",
     "output_type": "stream",
     "text": [
      "100%|██████████| 351/351 [00:50<00:00,  6.95it/s]\n",
      "  0%|          | 0/351 [00:00<?, ?it/s]"
     ]
    },
    {
     "name": "stdout",
     "output_type": "stream",
     "text": [
      "Epoch[7/20]\ttrain_loss: 0.1655\tHR: 0.7869\tNDCG: 0.5016 \t훈련시간: 52.14 sec\n",
      "save ndcg: 0.5016\n"
     ]
    },
    {
     "name": "stderr",
     "output_type": "stream",
     "text": [
      "100%|██████████| 351/351 [00:51<00:00,  6.87it/s]\n",
      "  0%|          | 0/351 [00:00<?, ?it/s]"
     ]
    },
    {
     "name": "stdout",
     "output_type": "stream",
     "text": [
      "Epoch[8/20]\ttrain_loss: 0.1623\tHR: 0.7885\tNDCG: 0.5006 \t훈련시간: 52.15 sec\n"
     ]
    },
    {
     "name": "stderr",
     "output_type": "stream",
     "text": [
      "100%|██████████| 351/351 [00:46<00:00,  7.52it/s]\n",
      "  0%|          | 0/351 [00:00<?, ?it/s]"
     ]
    },
    {
     "name": "stdout",
     "output_type": "stream",
     "text": [
      "Epoch[9/20]\ttrain_loss: 0.1597\tHR: 0.7869\tNDCG: 0.5103 \t훈련시간: 47.75 sec\n",
      "save ndcg: 0.5103\n"
     ]
    },
    {
     "name": "stderr",
     "output_type": "stream",
     "text": [
      "100%|██████████| 351/351 [00:46<00:00,  7.49it/s]\n",
      "  0%|          | 1/351 [00:00<00:58,  5.95it/s]"
     ]
    },
    {
     "name": "stdout",
     "output_type": "stream",
     "text": [
      "Epoch[10/20]\ttrain_loss: 0.1582\tHR: 0.7902\tNDCG: 0.5008 \t훈련시간: 47.93 sec\n"
     ]
    },
    {
     "name": "stderr",
     "output_type": "stream",
     "text": [
      "100%|██████████| 351/351 [00:46<00:00,  7.51it/s]\n",
      "  0%|          | 0/351 [00:00<?, ?it/s]"
     ]
    },
    {
     "name": "stdout",
     "output_type": "stream",
     "text": [
      "Epoch[11/20]\ttrain_loss: 0.1564\tHR: 0.7984\tNDCG: 0.5068 \t훈련시간: 47.86 sec\n"
     ]
    },
    {
     "name": "stderr",
     "output_type": "stream",
     "text": [
      "100%|██████████| 351/351 [00:46<00:00,  7.49it/s]\n",
      "  0%|          | 0/351 [00:00<?, ?it/s]"
     ]
    },
    {
     "name": "stdout",
     "output_type": "stream",
     "text": [
      "Epoch[12/20]\ttrain_loss: 0.1557\tHR: 0.8033\tNDCG: 0.5166 \t훈련시간: 47.96 sec\n",
      "save ndcg: 0.5166\n"
     ]
    },
    {
     "name": "stderr",
     "output_type": "stream",
     "text": [
      "100%|██████████| 351/351 [00:46<00:00,  7.52it/s]\n",
      "  0%|          | 0/351 [00:00<?, ?it/s]"
     ]
    },
    {
     "name": "stdout",
     "output_type": "stream",
     "text": [
      "Epoch[13/20]\ttrain_loss: 0.1539\tHR: 0.8033\tNDCG: 0.5226 \t훈련시간: 47.79 sec\n",
      "save ndcg: 0.5226\n"
     ]
    },
    {
     "name": "stderr",
     "output_type": "stream",
     "text": [
      "100%|██████████| 351/351 [00:47<00:00,  7.46it/s]\n",
      "  0%|          | 1/351 [00:00<01:07,  5.16it/s]"
     ]
    },
    {
     "name": "stdout",
     "output_type": "stream",
     "text": [
      "Epoch[14/20]\ttrain_loss: 0.1531\tHR: 0.7951\tNDCG: 0.5124 \t훈련시간: 48.11 sec\n"
     ]
    },
    {
     "name": "stderr",
     "output_type": "stream",
     "text": [
      "100%|██████████| 351/351 [00:46<00:00,  7.54it/s]\n",
      "  0%|          | 1/351 [00:00<01:02,  5.57it/s]"
     ]
    },
    {
     "name": "stdout",
     "output_type": "stream",
     "text": [
      "Epoch[15/20]\ttrain_loss: 0.1518\tHR: 0.7934\tNDCG: 0.5141 \t훈련시간: 47.58 sec\n"
     ]
    },
    {
     "name": "stderr",
     "output_type": "stream",
     "text": [
      "100%|██████████| 351/351 [00:46<00:00,  7.57it/s]\n",
      "  0%|          | 1/351 [00:00<01:04,  5.43it/s]"
     ]
    },
    {
     "name": "stdout",
     "output_type": "stream",
     "text": [
      "Epoch[16/20]\ttrain_loss: 0.1516\tHR: 0.8016\tNDCG: 0.5199 \t훈련시간: 47.46 sec\n"
     ]
    },
    {
     "name": "stderr",
     "output_type": "stream",
     "text": [
      "100%|██████████| 351/351 [00:46<00:00,  7.59it/s]\n",
      "  0%|          | 0/351 [00:00<?, ?it/s]"
     ]
    },
    {
     "name": "stdout",
     "output_type": "stream",
     "text": [
      "Epoch[17/20]\ttrain_loss: 0.1501\tHR: 0.7967\tNDCG: 0.5152 \t훈련시간: 47.35 sec\n"
     ]
    },
    {
     "name": "stderr",
     "output_type": "stream",
     "text": [
      "100%|██████████| 351/351 [00:46<00:00,  7.47it/s]\n",
      "  0%|          | 1/351 [00:00<00:56,  6.18it/s]"
     ]
    },
    {
     "name": "stdout",
     "output_type": "stream",
     "text": [
      "Epoch[18/20]\ttrain_loss: 0.1496\tHR: 0.8049\tNDCG: 0.5115 \t훈련시간: 48.04 sec\n"
     ]
    },
    {
     "name": "stderr",
     "output_type": "stream",
     "text": [
      "100%|██████████| 351/351 [00:46<00:00,  7.57it/s]\n",
      "  0%|          | 1/351 [00:00<00:49,  7.03it/s]"
     ]
    },
    {
     "name": "stdout",
     "output_type": "stream",
     "text": [
      "Epoch[19/20]\ttrain_loss: 0.1496\tHR: 0.7836\tNDCG: 0.5114 \t훈련시간: 47.46 sec\n"
     ]
    },
    {
     "name": "stderr",
     "output_type": "stream",
     "text": [
      "100%|██████████| 351/351 [00:46<00:00,  7.52it/s]\n"
     ]
    },
    {
     "name": "stdout",
     "output_type": "stream",
     "text": [
      "Epoch[20/20]\ttrain_loss: 0.1489\tHR: 0.8148\tNDCG: 0.5272 \t훈련시간: 47.77 sec\n",
      "save ndcg: 0.5272\n"
     ]
    }
   ],
   "source": [
    "best_GMF_model = GMF(data.num_users, data.num_movies, hyper.latent_dim)\n",
    "best_GMF_model.load_state_dict(torch.load(os.path.join(path.dir_output, 'best_NDCG_GMF.pt')))\n",
    "\n",
    "best_MLP_model = MLP(data.num_users, data.num_movies, hyper.latent_dim, hyper.dropout, hyper.layers)\n",
    "best_MLP_model.load_state_dict(torch.load(os.path.join(path.dir_output, 'best_NDCG_MLP.pt')))\n",
    "\n",
    "NeuMF_model = NeuMF(best_GMF_model, best_MLP_model, hyper.latent_dim, hyper.layers)\n",
    "NeuMF_model.to(config.device)\n",
    "NeuMF_optimizer = torch.optim.Adam(NeuMF_model.parameters(), lr=hyper.lr)\n",
    "\n",
    "NeuMF_trainer = Trainer(NeuMF_model, NeuMF_optimizer, train_loader, test_loader, hyper.pretrain_epochs, criterion, config.device, data.user_negative_samples, hyper.num_neg, hyper.topK, path.dir_output, 'NeuMF')"
   ]
  },
  {
   "cell_type": "markdown",
   "metadata": {},
   "source": [
    "# 5. Plot loss, hr, ndcg"
   ]
  },
  {
   "cell_type": "code",
   "execution_count": 46,
   "metadata": {},
   "outputs": [],
   "source": [
    "import matplotlib.pyplot as plt\n",
    "import seaborn as sns"
   ]
  },
  {
   "cell_type": "code",
   "execution_count": 47,
   "metadata": {},
   "outputs": [
    {
     "data": {
      "text/plain": [
       "Text(0.5, 0.98, 'NeuMF')"
      ]
     },
     "execution_count": 47,
     "metadata": {},
     "output_type": "execute_result"
    },
    {
     "data": {
      "image/png": "[encoded data removed]",
      "text/plain": [
       "<Figure size 2160x504 with 3 Axes>"
      ]
     },
     "metadata": {
      "needs_background": "light"
     },
     "output_type": "display_data"
    }
   ],
   "source": [
    "fig, axes = plt.subplots(1, 3, figsize=(30, 7))\n",
    "x_list = [i for i in range(1, hyper.pretrain_epochs+1)]\n",
    "\n",
    "sns.lineplot(\n",
    "    x=x_list, y=NeuMF_trainer.loss_list,\n",
    "    ax = axes[0]\n",
    ")\n",
    "\n",
    "axes[0].set_ylabel('Loss')\n",
    "axes[0].set_xlabel('Epochs')\n",
    "\n",
    "sns.lineplot(\n",
    "    x=x_list, y=NeuMF_trainer.hr_list,\n",
    "    ax=axes[1]\n",
    ")\n",
    "\n",
    "axes[1].set_ylabel('HitRatio')\n",
    "axes[1].set_xlabel('Epochs')\n",
    "\n",
    "sns.lineplot(\n",
    "    x=x_list, y=NeuMF_trainer.ndcg_list,\n",
    "    ax=axes[2]\n",
    ")\n",
    "\n",
    "axes[2].set_ylabel('NDCG')\n",
    "axes[2].set_xlabel('Epochs')\n",
    "\n",
    "fig.suptitle('NeuMF', fontsize=30)"
   ]
  },
  {
   "cell_type": "markdown",
   "metadata": {},
   "source": [
    "# 6. Inference"
   ]
  },
  {
   "cell_type": "code",
   "execution_count": 48,
   "metadata": {},
   "outputs": [
    {
     "data": {
      "text/plain": [
       "NeuMF(\n",
       "  (GMF_embedding_user): Embedding(610, 8)\n",
       "  (GMF_embedding_item): Embedding(9724, 8)\n",
       "  (MLP_embedding_user): Embedding(610, 8)\n",
       "  (MLP_embedding_item): Embedding(9724, 8)\n",
       "  (MLP_dense_layers): Sequential(\n",
       "    (0): Dropout(p=0.2, inplace=False)\n",
       "    (1): Linear(in_features=16, out_features=16, bias=True)\n",
       "    (2): ReLU()\n",
       "    (3): Dropout(p=0.2, inplace=False)\n",
       "    (4): Linear(in_features=16, out_features=8, bias=True)\n",
       "    (5): ReLU()\n",
       "    (6): Dropout(p=0.2, inplace=False)\n",
       "    (7): Linear(in_features=8, out_features=4, bias=True)\n",
       "    (8): ReLU()\n",
       "  )\n",
       "  (prediction): Sequential(\n",
       "    (0): Linear(in_features=12, out_features=1, bias=False)\n",
       "    (1): Sigmoid()\n",
       "  )\n",
       ")"
      ]
     },
     "execution_count": 48,
     "metadata": {},
     "output_type": "execute_result"
    }
   ],
   "source": [
    "# model load\n",
    "\n",
    "best_model = NeuMF(GMF_model, MLP_model, hyper.latent_dim, hyper.layers)\n",
    "best_model.load_state_dict(torch.load(os.path.join(path.dir_output, 'best_NDCG_NeuMF.pt')))\n",
    "\n",
    "best_model.to(config.device)"
   ]
  },
  {
   "cell_type": "code",
   "execution_count": 49,
   "metadata": {},
   "outputs": [],
   "source": [
    "def inference(model, users, negative_samples, topK, device, user_encoder, item_encoder, dir_output):\n",
    "        model.eval()\n",
    "\n",
    "        # columns: user_id\n",
    "        df_item_user = pd.DataFrame(columns=user_encoder.inverse_transform([i for i in range(users)]))\n",
    "        df_item_user.columns.name = 'user'\n",
    "        df_item_user.index.name = 'order'\n",
    "        \n",
    "        with torch.no_grad():\n",
    "            for user in tqdm(range(users)):\n",
    "                neg_items = negative_samples[user]\n",
    "\n",
    "                users, items = user_item_to_tensor(user, neg_items, device)\n",
    "\n",
    "                output = model(users, items)\n",
    "                _, indices = torch.topk(output, dim=0, k=topK)\n",
    "                rank_list = torch.take(items, indices).cpu().numpy().tolist()\n",
    "\n",
    "                origin_user = user_encoder.inverse_transform([user])[0]\n",
    "                origin_items = item_encoder.inverse_transform(rank_list)\n",
    "            \n",
    "                df_item_user[origin_user] = origin_items\n",
    "        \n",
    "        df_prediction = pd.DataFrame(df_item_user.unstack()).reset_index()[['user', 0]]\n",
    "        df_prediction.rename(columns={0: 'item'}, inplace=True)\n",
    "        df_prediction.to_csv(os.path.join(dir_output, 'submission.csv'), index=False)\n",
    "        return df_prediction\n",
    "\n",
    "\n",
    "def user_item_to_tensor(user, negative_items, device):        \n",
    "    users = [user] * len(negative_items)\n",
    "    items = negative_items\n",
    "    \n",
    "    return (\n",
    "        torch.tensor(users).to(torch.int64).to(device), \n",
    "        torch.tensor(items).to(torch.int64).to(device),\n",
    "    )"
   ]
  },
  {
   "cell_type": "code",
   "execution_count": 50,
   "metadata": {},
   "outputs": [
    {
     "name": "stderr",
     "output_type": "stream",
     "text": [
      "100%|██████████| 610/610 [00:01<00:00, 477.98it/s]\n"
     ]
    },
    {
     "data": {
      "text/html": [
       "<div>\n",
       "<style scoped>\n",
       "    .dataframe tbody tr th:only-of-type {\n",
       "        vertical-align: middle;\n",
       "    }\n",
       "\n",
       "    .dataframe tbody tr th {\n",
       "        vertical-align: top;\n",
       "    }\n",
       "\n",
       "    .dataframe thead th {\n",
       "        text-align: right;\n",
       "    }\n",
       "</style>\n",
       "<table border=\"1\" class=\"dataframe\">\n",
       "  <thead>\n",
       "    <tr style=\"text-align: right;\">\n",
       "      <th></th>\n",
       "      <th>user</th>\n",
       "      <th>item</th>\n",
       "    </tr>\n",
       "  </thead>\n",
       "  <tbody>\n",
       "    <tr>\n",
       "      <th>0</th>\n",
       "      <td>1</td>\n",
       "      <td>589</td>\n",
       "    </tr>\n",
       "    <tr>\n",
       "      <th>1</th>\n",
       "      <td>1</td>\n",
       "      <td>1391</td>\n",
       "    </tr>\n",
       "    <tr>\n",
       "      <th>2</th>\n",
       "      <td>1</td>\n",
       "      <td>1036</td>\n",
       "    </tr>\n",
       "    <tr>\n",
       "      <th>3</th>\n",
       "      <td>1</td>\n",
       "      <td>1544</td>\n",
       "    </tr>\n",
       "    <tr>\n",
       "      <th>4</th>\n",
       "      <td>1</td>\n",
       "      <td>380</td>\n",
       "    </tr>\n",
       "    <tr>\n",
       "      <th>...</th>\n",
       "      <td>...</td>\n",
       "      <td>...</td>\n",
       "    </tr>\n",
       "    <tr>\n",
       "      <th>6095</th>\n",
       "      <td>610</td>\n",
       "      <td>34150</td>\n",
       "    </tr>\n",
       "    <tr>\n",
       "      <th>6096</th>\n",
       "      <td>610</td>\n",
       "      <td>4874</td>\n",
       "    </tr>\n",
       "    <tr>\n",
       "      <th>6097</th>\n",
       "      <td>610</td>\n",
       "      <td>64614</td>\n",
       "    </tr>\n",
       "    <tr>\n",
       "      <th>6098</th>\n",
       "      <td>610</td>\n",
       "      <td>5363</td>\n",
       "    </tr>\n",
       "    <tr>\n",
       "      <th>6099</th>\n",
       "      <td>610</td>\n",
       "      <td>7254</td>\n",
       "    </tr>\n",
       "  </tbody>\n",
       "</table>\n",
       "<p>6100 rows × 2 columns</p>\n",
       "</div>"
      ],
      "text/plain": [
       "      user   item\n",
       "0        1    589\n",
       "1        1   1391\n",
       "2        1   1036\n",
       "3        1   1544\n",
       "4        1    380\n",
       "...    ...    ...\n",
       "6095   610  34150\n",
       "6096   610   4874\n",
       "6097   610  64614\n",
       "6098   610   5363\n",
       "6099   610   7254\n",
       "\n",
       "[6100 rows x 2 columns]"
      ]
     },
     "execution_count": 50,
     "metadata": {},
     "output_type": "execute_result"
    }
   ],
   "source": [
    "inference(best_model, data.num_users, data.user_negative_samples, hyper.topK, config.device, data.user_encoder, data.movie_encoder, path.dir_output)"
   ]
  },
  {
   "cell_type": "code",
   "execution_count": null,
   "metadata": {},
   "outputs": [],
   "source": []
  }
 ],
 "metadata": {
  "interpreter": {
   "hash": "d4d1e4263499bec80672ea0156c357c1ee493ec2b1c70f0acce89fc37c4a6abe"
  },
  "kernelspec": {
   "display_name": "Python 3 (ipykernel)",
   "language": "python",
   "name": "python3"
  },
  "language_info": {
   "codemirror_mode": {
    "name": "ipython",
    "version": 3
   },
   "file_extension": ".py",
   "mimetype": "text/x-python",
   "name": "python",
   "nbconvert_exporter": "python",
   "pygments_lexer": "ipython3",
   "version": "3.8.5"
  }
 },
 "nbformat": 4,
 "nbformat_minor": 4
}
