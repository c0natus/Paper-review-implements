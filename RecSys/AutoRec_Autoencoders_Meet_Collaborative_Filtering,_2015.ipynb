{
  "cells": [
    {
      "cell_type": "markdown",
      "metadata": {
        "id": "view-in-github",
        "colab_type": "text"
      },
      "source": [
        "<a href=\"https://colab.research.google.com/github/c0natus/Paper-review-implements/blob/main/RecSys/AutoRec_Autoencoders_Meet_Collaborative_Filtering%2C_2015.ipynb\" target=\"_parent\"><img src=\"https://colab.research.google.com/assets/colab-badge.svg\" alt=\"Open In Colab\"/></a>"
      ]
    },
    {
      "cell_type": "code",
      "source": [
        "!pip uninstall imgaug -y\n",
        "!pip install imgaug==0.2.6\n",
        "!pip install matplotlib --upgrade"
      ],
      "metadata": {
        "id": "0YpQqogiWGlt"
      },
      "execution_count": null,
      "outputs": []
    },
    {
      "cell_type": "markdown",
      "source": [
        "# 초기 세팅"
      ],
      "metadata": {
        "id": "nFLQdOQ-_YHl"
      }
    },
    {
      "cell_type": "code",
      "execution_count": 1,
      "metadata": {
        "id": "ujJQPzAs9le_",
        "colab": {
          "base_uri": "https://localhost:8080/"
        },
        "outputId": "6b234a3e-148d-4f02-cf6d-42f733eda102"
      },
      "outputs": [
        {
          "output_type": "stream",
          "name": "stdout",
          "text": [
            "matplotlib version : 3.2.2\n"
          ]
        }
      ],
      "source": [
        "import os\n",
        "import subprocess\n",
        "\n",
        "import numpy as np\n",
        "import pandas as pd\n",
        "import matplotlib as mpl \n",
        "import matplotlib.pyplot as plt\n",
        "import torch\n",
        "import torch.nn as nn\n",
        "from torch.utils.data import Dataset\n",
        "from torch.utils.data import DataLoader\n",
        "from sklearn.preprocessing import LabelEncoder\n",
        "from sklearn.model_selection import train_test_split\n",
        "\n",
        "print(f'matplotlib version : {mpl.__version__}')"
      ]
    },
    {
      "cell_type": "code",
      "source": [
        "!wget http://files.grouplens.org/datasets/movielens/ml-latest-small.zip\n",
        "!unzip ml-latest-small.zip"
      ],
      "metadata": {
        "colab": {
          "base_uri": "https://localhost:8080/"
        },
        "id": "bEwHIywL_ag3",
        "outputId": "611c1991-86cd-4c1a-a179-d8fa164c4310"
      },
      "execution_count": 2,
      "outputs": [
        {
          "output_type": "stream",
          "name": "stdout",
          "text": [
            "--2022-02-16 15:00:45--  http://files.grouplens.org/datasets/movielens/ml-latest-small.zip\n",
            "Resolving files.grouplens.org (files.grouplens.org)... 128.101.65.152\n",
            "Connecting to files.grouplens.org (files.grouplens.org)|128.101.65.152|:80... connected.\n",
            "HTTP request sent, awaiting response... 200 OK\n",
            "Length: 978202 (955K) [application/zip]\n",
            "Saving to: ‘ml-latest-small.zip’\n",
            "\n",
            "ml-latest-small.zip 100%[===================>] 955.28K  --.-KB/s    in 0.1s    \n",
            "\n",
            "2022-02-16 15:00:46 (8.58 MB/s) - ‘ml-latest-small.zip’ saved [978202/978202]\n",
            "\n",
            "Archive:  ml-latest-small.zip\n",
            "   creating: ml-latest-small/\n",
            "  inflating: ml-latest-small/links.csv  \n",
            "  inflating: ml-latest-small/tags.csv  \n",
            "  inflating: ml-latest-small/ratings.csv  \n",
            "  inflating: ml-latest-small/README.txt  \n",
            "  inflating: ml-latest-small/movies.csv  \n"
          ]
        }
      ]
    },
    {
      "cell_type": "code",
      "source": [
        "file_path = os.path.join(os.getcwd(), 'ml-latest-small', 'ratings.csv')\n",
        "ml_small_df = pd.read_csv(file_path, encoding='utf-8')"
      ],
      "metadata": {
        "id": "GhKTrhLD_brE"
      },
      "execution_count": 3,
      "outputs": []
    },
    {
      "cell_type": "markdown",
      "metadata": {
        "id": "Q4qtTxjB9lfF"
      },
      "source": [
        "# 1. 데이터 분석"
      ]
    },
    {
      "cell_type": "code",
      "source": [
        "ml_small_df.sample(5)"
      ],
      "metadata": {
        "colab": {
          "base_uri": "https://localhost:8080/",
          "height": 206
        },
        "id": "BIPH8SPFfEwR",
        "outputId": "92ae76bd-066e-4dfe-9966-d1a7d035eecb"
      },
      "execution_count": null,
      "outputs": [
        {
          "output_type": "execute_result",
          "data": {
            "text/html": [
              "\n",
              "  <div id=\"df-a8cf80bc-9c18-4b53-89e6-cee4a45d6491\">\n",
              "    <div class=\"colab-df-container\">\n",
              "      <div>\n",
              "<style scoped>\n",
              "    .dataframe tbody tr th:only-of-type {\n",
              "        vertical-align: middle;\n",
              "    }\n",
              "\n",
              "    .dataframe tbody tr th {\n",
              "        vertical-align: top;\n",
              "    }\n",
              "\n",
              "    .dataframe thead th {\n",
              "        text-align: right;\n",
              "    }\n",
              "</style>\n",
              "<table border=\"1\" class=\"dataframe\">\n",
              "  <thead>\n",
              "    <tr style=\"text-align: right;\">\n",
              "      <th></th>\n",
              "      <th>userId</th>\n",
              "      <th>movieId</th>\n",
              "      <th>rating</th>\n",
              "      <th>timestamp</th>\n",
              "    </tr>\n",
              "  </thead>\n",
              "  <tbody>\n",
              "    <tr>\n",
              "      <th>45651</th>\n",
              "      <td>302</td>\n",
              "      <td>58</td>\n",
              "      <td>5.0</td>\n",
              "      <td>854472122</td>\n",
              "    </tr>\n",
              "    <tr>\n",
              "      <th>52201</th>\n",
              "      <td>339</td>\n",
              "      <td>45210</td>\n",
              "      <td>4.5</td>\n",
              "      <td>1460183777</td>\n",
              "    </tr>\n",
              "    <tr>\n",
              "      <th>93393</th>\n",
              "      <td>599</td>\n",
              "      <td>2382</td>\n",
              "      <td>1.5</td>\n",
              "      <td>1498504291</td>\n",
              "    </tr>\n",
              "    <tr>\n",
              "      <th>82914</th>\n",
              "      <td>525</td>\n",
              "      <td>31658</td>\n",
              "      <td>4.0</td>\n",
              "      <td>1476476503</td>\n",
              "    </tr>\n",
              "    <tr>\n",
              "      <th>34051</th>\n",
              "      <td>232</td>\n",
              "      <td>3809</td>\n",
              "      <td>3.5</td>\n",
              "      <td>1078875782</td>\n",
              "    </tr>\n",
              "  </tbody>\n",
              "</table>\n",
              "</div>\n",
              "      <button class=\"colab-df-convert\" onclick=\"convertToInteractive('df-a8cf80bc-9c18-4b53-89e6-cee4a45d6491')\"\n",
              "              title=\"Convert this dataframe to an interactive table.\"\n",
              "              style=\"display:none;\">\n",
              "        \n",
              "  <svg xmlns=\"http://www.w3.org/2000/svg\" height=\"24px\"viewBox=\"0 0 24 24\"\n",
              "       width=\"24px\">\n",
              "    <path d=\"M0 0h24v24H0V0z\" fill=\"none\"/>\n",
              "    <path d=\"M18.56 5.44l.94 2.06.94-2.06 2.06-.94-2.06-.94-.94-2.06-.94 2.06-2.06.94zm-11 1L8.5 8.5l.94-2.06 2.06-.94-2.06-.94L8.5 2.5l-.94 2.06-2.06.94zm10 10l.94 2.06.94-2.06 2.06-.94-2.06-.94-.94-2.06-.94 2.06-2.06.94z\"/><path d=\"M17.41 7.96l-1.37-1.37c-.4-.4-.92-.59-1.43-.59-.52 0-1.04.2-1.43.59L10.3 9.45l-7.72 7.72c-.78.78-.78 2.05 0 2.83L4 21.41c.39.39.9.59 1.41.59.51 0 1.02-.2 1.41-.59l7.78-7.78 2.81-2.81c.8-.78.8-2.07 0-2.86zM5.41 20L4 18.59l7.72-7.72 1.47 1.35L5.41 20z\"/>\n",
              "  </svg>\n",
              "      </button>\n",
              "      \n",
              "  <style>\n",
              "    .colab-df-container {\n",
              "      display:flex;\n",
              "      flex-wrap:wrap;\n",
              "      gap: 12px;\n",
              "    }\n",
              "\n",
              "    .colab-df-convert {\n",
              "      background-color: #E8F0FE;\n",
              "      border: none;\n",
              "      border-radius: 50%;\n",
              "      cursor: pointer;\n",
              "      display: none;\n",
              "      fill: #1967D2;\n",
              "      height: 32px;\n",
              "      padding: 0 0 0 0;\n",
              "      width: 32px;\n",
              "    }\n",
              "\n",
              "    .colab-df-convert:hover {\n",
              "      background-color: #E2EBFA;\n",
              "      box-shadow: 0px 1px 2px rgba(60, 64, 67, 0.3), 0px 1px 3px 1px rgba(60, 64, 67, 0.15);\n",
              "      fill: #174EA6;\n",
              "    }\n",
              "\n",
              "    [theme=dark] .colab-df-convert {\n",
              "      background-color: #3B4455;\n",
              "      fill: #D2E3FC;\n",
              "    }\n",
              "\n",
              "    [theme=dark] .colab-df-convert:hover {\n",
              "      background-color: #434B5C;\n",
              "      box-shadow: 0px 1px 3px 1px rgba(0, 0, 0, 0.15);\n",
              "      filter: drop-shadow(0px 1px 2px rgba(0, 0, 0, 0.3));\n",
              "      fill: #FFFFFF;\n",
              "    }\n",
              "  </style>\n",
              "\n",
              "      <script>\n",
              "        const buttonEl =\n",
              "          document.querySelector('#df-a8cf80bc-9c18-4b53-89e6-cee4a45d6491 button.colab-df-convert');\n",
              "        buttonEl.style.display =\n",
              "          google.colab.kernel.accessAllowed ? 'block' : 'none';\n",
              "\n",
              "        async function convertToInteractive(key) {\n",
              "          const element = document.querySelector('#df-a8cf80bc-9c18-4b53-89e6-cee4a45d6491');\n",
              "          const dataTable =\n",
              "            await google.colab.kernel.invokeFunction('convertToInteractive',\n",
              "                                                     [key], {});\n",
              "          if (!dataTable) return;\n",
              "\n",
              "          const docLinkHtml = 'Like what you see? Visit the ' +\n",
              "            '<a target=\"_blank\" href=https://colab.research.google.com/notebooks/data_table.ipynb>data table notebook</a>'\n",
              "            + ' to learn more about interactive tables.';\n",
              "          element.innerHTML = '';\n",
              "          dataTable['output_type'] = 'display_data';\n",
              "          await google.colab.output.renderOutput(dataTable, element);\n",
              "          const docLink = document.createElement('div');\n",
              "          docLink.innerHTML = docLinkHtml;\n",
              "          element.appendChild(docLink);\n",
              "        }\n",
              "      </script>\n",
              "    </div>\n",
              "  </div>\n",
              "  "
            ],
            "text/plain": [
              "       userId  movieId  rating   timestamp\n",
              "45651     302       58     5.0   854472122\n",
              "52201     339    45210     4.5  1460183777\n",
              "93393     599     2382     1.5  1498504291\n",
              "82914     525    31658     4.0  1476476503\n",
              "34051     232     3809     3.5  1078875782"
            ]
          },
          "metadata": {},
          "execution_count": 4
        }
      ]
    },
    {
      "cell_type": "code",
      "source": [
        "ml_small_df.info()"
      ],
      "metadata": {
        "colab": {
          "base_uri": "https://localhost:8080/"
        },
        "id": "RxocQO3RfG0V",
        "outputId": "6ce57d04-9a5d-4496-b97e-567dcf4d1167"
      },
      "execution_count": null,
      "outputs": [
        {
          "output_type": "stream",
          "name": "stdout",
          "text": [
            "<class 'pandas.core.frame.DataFrame'>\n",
            "RangeIndex: 100836 entries, 0 to 100835\n",
            "Data columns (total 4 columns):\n",
            " #   Column     Non-Null Count   Dtype  \n",
            "---  ------     --------------   -----  \n",
            " 0   userId     100836 non-null  int64  \n",
            " 1   movieId    100836 non-null  int64  \n",
            " 2   rating     100836 non-null  float64\n",
            " 3   timestamp  100836 non-null  int64  \n",
            "dtypes: float64(1), int64(3)\n",
            "memory usage: 3.1 MB\n"
          ]
        }
      ]
    },
    {
      "cell_type": "code",
      "source": [
        "ml_small_df.describe(include='all')"
      ],
      "metadata": {
        "colab": {
          "base_uri": "https://localhost:8080/",
          "height": 300
        },
        "id": "Y2nb1C5ZfLA8",
        "outputId": "1a118cb7-e7bf-4215-b420-8db882ceb746"
      },
      "execution_count": null,
      "outputs": [
        {
          "output_type": "execute_result",
          "data": {
            "text/html": [
              "\n",
              "  <div id=\"df-b7fcd8ac-b4ef-497d-9d68-5e541f750f6d\">\n",
              "    <div class=\"colab-df-container\">\n",
              "      <div>\n",
              "<style scoped>\n",
              "    .dataframe tbody tr th:only-of-type {\n",
              "        vertical-align: middle;\n",
              "    }\n",
              "\n",
              "    .dataframe tbody tr th {\n",
              "        vertical-align: top;\n",
              "    }\n",
              "\n",
              "    .dataframe thead th {\n",
              "        text-align: right;\n",
              "    }\n",
              "</style>\n",
              "<table border=\"1\" class=\"dataframe\">\n",
              "  <thead>\n",
              "    <tr style=\"text-align: right;\">\n",
              "      <th></th>\n",
              "      <th>userId</th>\n",
              "      <th>movieId</th>\n",
              "      <th>rating</th>\n",
              "      <th>timestamp</th>\n",
              "    </tr>\n",
              "  </thead>\n",
              "  <tbody>\n",
              "    <tr>\n",
              "      <th>count</th>\n",
              "      <td>100836.000000</td>\n",
              "      <td>100836.000000</td>\n",
              "      <td>100836.000000</td>\n",
              "      <td>1.008360e+05</td>\n",
              "    </tr>\n",
              "    <tr>\n",
              "      <th>mean</th>\n",
              "      <td>326.127564</td>\n",
              "      <td>19435.295718</td>\n",
              "      <td>3.501557</td>\n",
              "      <td>1.205946e+09</td>\n",
              "    </tr>\n",
              "    <tr>\n",
              "      <th>std</th>\n",
              "      <td>182.618491</td>\n",
              "      <td>35530.987199</td>\n",
              "      <td>1.042529</td>\n",
              "      <td>2.162610e+08</td>\n",
              "    </tr>\n",
              "    <tr>\n",
              "      <th>min</th>\n",
              "      <td>1.000000</td>\n",
              "      <td>1.000000</td>\n",
              "      <td>0.500000</td>\n",
              "      <td>8.281246e+08</td>\n",
              "    </tr>\n",
              "    <tr>\n",
              "      <th>25%</th>\n",
              "      <td>177.000000</td>\n",
              "      <td>1199.000000</td>\n",
              "      <td>3.000000</td>\n",
              "      <td>1.019124e+09</td>\n",
              "    </tr>\n",
              "    <tr>\n",
              "      <th>50%</th>\n",
              "      <td>325.000000</td>\n",
              "      <td>2991.000000</td>\n",
              "      <td>3.500000</td>\n",
              "      <td>1.186087e+09</td>\n",
              "    </tr>\n",
              "    <tr>\n",
              "      <th>75%</th>\n",
              "      <td>477.000000</td>\n",
              "      <td>8122.000000</td>\n",
              "      <td>4.000000</td>\n",
              "      <td>1.435994e+09</td>\n",
              "    </tr>\n",
              "    <tr>\n",
              "      <th>max</th>\n",
              "      <td>610.000000</td>\n",
              "      <td>193609.000000</td>\n",
              "      <td>5.000000</td>\n",
              "      <td>1.537799e+09</td>\n",
              "    </tr>\n",
              "  </tbody>\n",
              "</table>\n",
              "</div>\n",
              "      <button class=\"colab-df-convert\" onclick=\"convertToInteractive('df-b7fcd8ac-b4ef-497d-9d68-5e541f750f6d')\"\n",
              "              title=\"Convert this dataframe to an interactive table.\"\n",
              "              style=\"display:none;\">\n",
              "        \n",
              "  <svg xmlns=\"http://www.w3.org/2000/svg\" height=\"24px\"viewBox=\"0 0 24 24\"\n",
              "       width=\"24px\">\n",
              "    <path d=\"M0 0h24v24H0V0z\" fill=\"none\"/>\n",
              "    <path d=\"M18.56 5.44l.94 2.06.94-2.06 2.06-.94-2.06-.94-.94-2.06-.94 2.06-2.06.94zm-11 1L8.5 8.5l.94-2.06 2.06-.94-2.06-.94L8.5 2.5l-.94 2.06-2.06.94zm10 10l.94 2.06.94-2.06 2.06-.94-2.06-.94-.94-2.06-.94 2.06-2.06.94z\"/><path d=\"M17.41 7.96l-1.37-1.37c-.4-.4-.92-.59-1.43-.59-.52 0-1.04.2-1.43.59L10.3 9.45l-7.72 7.72c-.78.78-.78 2.05 0 2.83L4 21.41c.39.39.9.59 1.41.59.51 0 1.02-.2 1.41-.59l7.78-7.78 2.81-2.81c.8-.78.8-2.07 0-2.86zM5.41 20L4 18.59l7.72-7.72 1.47 1.35L5.41 20z\"/>\n",
              "  </svg>\n",
              "      </button>\n",
              "      \n",
              "  <style>\n",
              "    .colab-df-container {\n",
              "      display:flex;\n",
              "      flex-wrap:wrap;\n",
              "      gap: 12px;\n",
              "    }\n",
              "\n",
              "    .colab-df-convert {\n",
              "      background-color: #E8F0FE;\n",
              "      border: none;\n",
              "      border-radius: 50%;\n",
              "      cursor: pointer;\n",
              "      display: none;\n",
              "      fill: #1967D2;\n",
              "      height: 32px;\n",
              "      padding: 0 0 0 0;\n",
              "      width: 32px;\n",
              "    }\n",
              "\n",
              "    .colab-df-convert:hover {\n",
              "      background-color: #E2EBFA;\n",
              "      box-shadow: 0px 1px 2px rgba(60, 64, 67, 0.3), 0px 1px 3px 1px rgba(60, 64, 67, 0.15);\n",
              "      fill: #174EA6;\n",
              "    }\n",
              "\n",
              "    [theme=dark] .colab-df-convert {\n",
              "      background-color: #3B4455;\n",
              "      fill: #D2E3FC;\n",
              "    }\n",
              "\n",
              "    [theme=dark] .colab-df-convert:hover {\n",
              "      background-color: #434B5C;\n",
              "      box-shadow: 0px 1px 3px 1px rgba(0, 0, 0, 0.15);\n",
              "      filter: drop-shadow(0px 1px 2px rgba(0, 0, 0, 0.3));\n",
              "      fill: #FFFFFF;\n",
              "    }\n",
              "  </style>\n",
              "\n",
              "      <script>\n",
              "        const buttonEl =\n",
              "          document.querySelector('#df-b7fcd8ac-b4ef-497d-9d68-5e541f750f6d button.colab-df-convert');\n",
              "        buttonEl.style.display =\n",
              "          google.colab.kernel.accessAllowed ? 'block' : 'none';\n",
              "\n",
              "        async function convertToInteractive(key) {\n",
              "          const element = document.querySelector('#df-b7fcd8ac-b4ef-497d-9d68-5e541f750f6d');\n",
              "          const dataTable =\n",
              "            await google.colab.kernel.invokeFunction('convertToInteractive',\n",
              "                                                     [key], {});\n",
              "          if (!dataTable) return;\n",
              "\n",
              "          const docLinkHtml = 'Like what you see? Visit the ' +\n",
              "            '<a target=\"_blank\" href=https://colab.research.google.com/notebooks/data_table.ipynb>data table notebook</a>'\n",
              "            + ' to learn more about interactive tables.';\n",
              "          element.innerHTML = '';\n",
              "          dataTable['output_type'] = 'display_data';\n",
              "          await google.colab.output.renderOutput(dataTable, element);\n",
              "          const docLink = document.createElement('div');\n",
              "          docLink.innerHTML = docLinkHtml;\n",
              "          element.appendChild(docLink);\n",
              "        }\n",
              "      </script>\n",
              "    </div>\n",
              "  </div>\n",
              "  "
            ],
            "text/plain": [
              "              userId        movieId         rating     timestamp\n",
              "count  100836.000000  100836.000000  100836.000000  1.008360e+05\n",
              "mean      326.127564   19435.295718       3.501557  1.205946e+09\n",
              "std       182.618491   35530.987199       1.042529  2.162610e+08\n",
              "min         1.000000       1.000000       0.500000  8.281246e+08\n",
              "25%       177.000000    1199.000000       3.000000  1.019124e+09\n",
              "50%       325.000000    2991.000000       3.500000  1.186087e+09\n",
              "75%       477.000000    8122.000000       4.000000  1.435994e+09\n",
              "max       610.000000  193609.000000       5.000000  1.537799e+09"
            ]
          },
          "metadata": {},
          "execution_count": 6
        }
      ]
    },
    {
      "cell_type": "code",
      "source": [
        "movieId_count = ml_small_df['movieId'].value_counts().sort_index()\n",
        "movieId_count.describe()"
      ],
      "metadata": {
        "colab": {
          "base_uri": "https://localhost:8080/"
        },
        "id": "pz224PNrfOta",
        "outputId": "91294ed6-0a26-4d77-9af6-f5824c592cf6"
      },
      "execution_count": null,
      "outputs": [
        {
          "output_type": "execute_result",
          "data": {
            "text/plain": [
              "count    9724.000000\n",
              "mean       10.369807\n",
              "std        22.401005\n",
              "min         1.000000\n",
              "25%         1.000000\n",
              "50%         3.000000\n",
              "75%         9.000000\n",
              "max       329.000000\n",
              "Name: movieId, dtype: float64"
            ]
          },
          "metadata": {},
          "execution_count": 7
        }
      ]
    },
    {
      "cell_type": "code",
      "source": [
        "ml_small_df['movieId'].value_counts()"
      ],
      "metadata": {
        "colab": {
          "base_uri": "https://localhost:8080/"
        },
        "id": "O1S4f_PffQmu",
        "outputId": "5e9a3924-6742-4665-c8bc-b2050e904911"
      },
      "execution_count": null,
      "outputs": [
        {
          "output_type": "execute_result",
          "data": {
            "text/plain": [
              "356       329\n",
              "318       317\n",
              "296       307\n",
              "593       279\n",
              "2571      278\n",
              "         ... \n",
              "86279       1\n",
              "86922       1\n",
              "5962        1\n",
              "87660       1\n",
              "163981      1\n",
              "Name: movieId, Length: 9724, dtype: int64"
            ]
          },
          "metadata": {},
          "execution_count": 8
        }
      ]
    },
    {
      "cell_type": "code",
      "source": [
        "fig, ax = plt.subplots(1, 1, figsize=(20, 10))\n",
        "\n",
        "ax.set_title('Counts of ratings per movieId')\n",
        "\n",
        "ax.bar(\n",
        "    movieId_count.index, \n",
        "    movieId_count,\n",
        "    edgecolor='black'\n",
        "    )\n",
        "\n",
        "plt.show()"
      ],
      "metadata": {
        "colab": {
          "base_uri": "https://localhost:8080/",
          "height": 607
        },
        "id": "okW4LV47fUAr",
        "outputId": "9b2644ef-3ddb-4ad7-b432-8f27449aa5d8"
      },
      "execution_count": null,
      "outputs": [
        {
          "output_type": "display_data",
          "data": {
            "image/png": "[encoded data removed]",
            "text/plain": [
              "<Figure size 1440x720 with 1 Axes>"
            ]
          },
          "metadata": {
            "needs_background": "light"
          }
        }
      ]
    },
    {
      "cell_type": "markdown",
      "source": [
        "# 2. Data 전처리"
      ],
      "metadata": {
        "id": "VsF4MjaLfZlZ"
      }
    },
    {
      "cell_type": "code",
      "source": [
        "def encode(data):\n",
        "    userId_label_encoder = LabelEncoder()\n",
        "    movieId_label_encoder = LabelEncoder()\n",
        "\n",
        "    data['encoded_userId'] = userId_label_encoder.fit_transform(data['userId'].values)\n",
        "    data['encoded_movieId'] = movieId_label_encoder.fit_transform(data['movieId'].values)\n",
        "    \n",
        "    return data, userId_label_encoder, movieId_label_encoder\n",
        "\n",
        "ml_small_df, userId_label_encoder, movieId_label_encoder = encode(ml_small_df)"
      ],
      "metadata": {
        "id": "4MPy8f-Fd8i-"
      },
      "execution_count": 4,
      "outputs": []
    },
    {
      "cell_type": "code",
      "execution_count": 5,
      "metadata": {
        "id": "IuKmAdLq6Ur6"
      },
      "outputs": [],
      "source": [
        "class CustomDataset(Dataset):\n",
        "    def __init__(self, data, train = True, train_size=0.8):\n",
        "\n",
        "        self._all_data = data\n",
        "        \n",
        "        self.num_users = len(self._all_data['encoded_userId'].unique())\n",
        "        self.num_movies = len(self._all_data['encoded_movieId'].unique())\n",
        "        \n",
        "        self.data = self._data_split(train, train_size)\n",
        "        self.matrix = self._make_matrix(train)\n",
        "\n",
        "    \n",
        "    def _make_matrix(self, train):\n",
        "        users = np.array(self.data['encoded_userId'].values)\n",
        "        movies = np.array(self.data['encoded_movieId'].values)\n",
        "        ratings = np.array(self.data['rating'].values)\n",
        "\n",
        "        if train:\n",
        "            matrix = np.zeros((self.num_movies, self.num_users)) - 1\n",
        "        else:\n",
        "            matrix = np.zeros((self.num_movies, self.num_users)) + 3\n",
        "        \n",
        "        for user, movie, rating in zip(users, movies, ratings):\n",
        "            matrix[movie][user] = rating\n",
        "\n",
        "        return matrix\n",
        "\n",
        "    \n",
        "    def _data_split(self, train, train_size):\n",
        "        train_data, test_data = train_test_split(\n",
        "            self._all_data, \n",
        "            test_size=1-train_size, \n",
        "            train_size=train_size, \n",
        "            stratify = self._all_data['encoded_userId'].values, \n",
        "            random_state=42)\n",
        "\n",
        "        if train:\n",
        "            return train_data\n",
        "        else:\n",
        "            return test_data\n",
        "\n",
        "    \n",
        "    def __len__(self):\n",
        "        return self.matrix.shape[0]\n",
        "    \n",
        "\n",
        "    def __getitem__(self, idx):\n",
        "        return torch.tensor(self.matrix[idx]).float()\n",
        "        "
      ]
    },
    {
      "cell_type": "code",
      "execution_count": 6,
      "metadata": {
        "id": "IHIqkoPz9lfH"
      },
      "outputs": [],
      "source": [
        "ml_small_train_dataset = CustomDataset(data=ml_small_df, train=True, train_size=0.9)\n",
        "ml_small_test_dataset =  CustomDataset(data=ml_small_df, train=False, train_size=0.9)"
      ]
    },
    {
      "cell_type": "markdown",
      "source": [
        ""
      ],
      "metadata": {
        "id": "l_bMvq_fLVjJ"
      }
    },
    {
      "cell_type": "markdown",
      "metadata": {
        "id": "V14NpSne6UsD"
      },
      "source": [
        "# 2. DataLoader"
      ]
    },
    {
      "cell_type": "code",
      "source": [
        "batch_size = 256\n",
        "\n",
        "train_iter = DataLoader(dataset=ml_small_train_dataset, batch_size=batch_size, shuffle=True)\n",
        "test_iter = DataLoader(dataset=ml_small_test_dataset, batch_size=batch_size, shuffle=False)"
      ],
      "metadata": {
        "id": "H_HbBK-HaMce"
      },
      "execution_count": 7,
      "outputs": []
    },
    {
      "cell_type": "markdown",
      "metadata": {
        "id": "EhJIbOFj6UsD"
      },
      "source": [
        "# 3. Model"
      ]
    },
    {
      "cell_type": "code",
      "execution_count": 8,
      "metadata": {
        "id": "pwTeA9yc9lfK"
      },
      "outputs": [],
      "source": [
        "class AutoRec(nn.Module):\n",
        "    \"\"\"\n",
        "    Item-based AutoRec\n",
        "    논문에서 encoder의 활성함수로 sigmoid, decoder의 활성함수로 identity 사용\n",
        "    \"\"\"\n",
        "    def __init__(self, num_hiddens, num_users):\n",
        "        super(AutoRec, self).__init__()\n",
        "        self.encoder = nn.Sequential(\n",
        "                                        nn.Linear(in_features=num_users, out_features=num_hiddens, bias=True),\n",
        "                                        nn.Sigmoid(),\n",
        "                                    )\n",
        "        self.decoder = nn.Sequential(\n",
        "                                        nn.Linear(in_features=num_hiddens, out_features=num_users, bias=True),\n",
        "                                        nn.Identity(),\n",
        "                                    )\n",
        "        \n",
        "        self.model = nn.ModuleList([self.encoder, self.decoder])\n",
        "\n",
        "    \n",
        "    def forward(self, batch_data):\n",
        "        operand = batch_data\n",
        "        \n",
        "        mask = batch_data >= 0\n",
        "\n",
        "        for operation in self.model:\n",
        "            result = operation(operand)\n",
        "            operand = result\n",
        "        \n",
        "        return result"
      ]
    },
    {
      "cell_type": "markdown",
      "source": [
        "# 4. 학습"
      ],
      "metadata": {
        "id": "lhevtUBjue78"
      }
    },
    {
      "cell_type": "code",
      "source": [
        "device = torch.device('cuda:0' if torch.cuda.is_available() else 'cpu')\n",
        "\n",
        "num_epochs = 50\n",
        "learning_rate = 1e-3\n",
        "num_hiddens = 500\n",
        "weight_decay = 1e-3\n",
        "num_users = len(ml_small_df['encoded_userId'].unique())\n",
        "\n",
        "model = AutoRec(num_hiddens=num_hiddens, num_users=num_users)\n",
        "model.to(device)\n",
        "optimizer = torch.optim.Adam(model.parameters(), lr=learning_rate, weight_decay=weight_decay)\n",
        "criterion = nn.MSELoss()"
      ],
      "metadata": {
        "id": "fPycwYtxuYkc"
      },
      "execution_count": 18,
      "outputs": []
    },
    {
      "cell_type": "code",
      "source": [
        "def funcTrain(model, train_iter, criterion, optimizer, device):\n",
        "    model.train() # to train mode\n",
        "    total_train_loss = 0\n",
        "\n",
        "    for train_matrix in train_iter:\n",
        "        train_matrix = train_matrix.to(device)\n",
        "\n",
        "        prediction = model(train_matrix)\n",
        "\n",
        "        mask = train_matrix >= 0\n",
        "        prediction.register_hook(lambda grad: grad * mask.float())\n",
        "\n",
        "        train_loss = criterion(prediction[mask], train_matrix[mask])\n",
        "\n",
        "        # Update\n",
        "        optimizer.zero_grad()   # reset gradient \n",
        "        train_loss.backward()   # backpropagate\n",
        "        optimizer.step()        # optimizer update\n",
        "        \n",
        "        total_train_loss += train_loss.item()\n",
        "    \n",
        "    loss_avg = total_train_loss / len(train_iter)\n",
        "\n",
        "    return loss_avg"
      ],
      "metadata": {
        "id": "PqCpmfq62I3r"
      },
      "execution_count": 19,
      "outputs": []
    },
    {
      "cell_type": "code",
      "source": [
        "def funcEval(model, test_iter, criterion, device):\n",
        "    model.eval()\n",
        "    total_test_loss = 0\n",
        "    with torch.no_grad():\n",
        "        for test_matrix in test_iter:\n",
        "            test_matrix = test_matrix.to(device)\n",
        "\n",
        "            prediction = model(test_matrix)\n",
        "\n",
        "            test_loss = criterion(prediction, test_matrix)\n",
        "\n",
        "            total_test_loss += test_loss.item()\n",
        "    return total_test_loss / len(test_iter)            "
      ],
      "metadata": {
        "id": "wvuNKv4b8Itd"
      },
      "execution_count": 20,
      "outputs": []
    },
    {
      "cell_type": "code",
      "source": [
        "train_losses = []\n",
        "test_losses = []\n",
        "\n",
        "for epoch in range(num_epochs):\n",
        "    \n",
        "    train_loss = funcTrain(model, train_iter, criterion, optimizer, device)\n",
        "    test_loss = funcEval(model, test_iter, criterion, device)\n",
        "\n",
        "    train_losses.append(train_loss)\n",
        "    test_losses.append(test_loss)\n",
        "\n",
        "    print(f'epoch: {epoch + 1}, train Loss: {train_loss:.4f}, test Loss: {test_loss:.4f}')"
      ],
      "metadata": {
        "colab": {
          "base_uri": "https://localhost:8080/"
        },
        "id": "smi1cA8p9vnC",
        "outputId": "17b633ab-dd2d-46c9-c508-f1159cd492b1"
      },
      "execution_count": 21,
      "outputs": [
        {
          "output_type": "stream",
          "name": "stdout",
          "text": [
            "epoch: 1, train Loss: 2.5983, test Loss: 1.3235\n",
            "epoch: 2, train Loss: 0.8644, test Loss: 1.2085\n",
            "epoch: 3, train Loss: 0.8021, test Loss: 1.1308\n",
            "epoch: 4, train Loss: 0.7639, test Loss: 1.1065\n",
            "epoch: 5, train Loss: 0.7271, test Loss: 1.0916\n",
            "epoch: 6, train Loss: 0.6927, test Loss: 0.9258\n",
            "epoch: 7, train Loss: 0.6688, test Loss: 0.9773\n",
            "epoch: 8, train Loss: 0.6388, test Loss: 0.7680\n",
            "epoch: 9, train Loss: 0.6153, test Loss: 0.7173\n",
            "epoch: 10, train Loss: 0.5893, test Loss: 0.6788\n",
            "epoch: 11, train Loss: 0.5666, test Loss: 0.5064\n",
            "epoch: 12, train Loss: 0.5488, test Loss: 0.4872\n",
            "epoch: 13, train Loss: 0.5262, test Loss: 0.4341\n",
            "epoch: 14, train Loss: 0.5142, test Loss: 0.4045\n",
            "epoch: 15, train Loss: 0.4968, test Loss: 0.3899\n",
            "epoch: 16, train Loss: 0.4802, test Loss: 0.4363\n",
            "epoch: 17, train Loss: 0.4654, test Loss: 0.4090\n",
            "epoch: 18, train Loss: 0.4535, test Loss: 0.3664\n",
            "epoch: 19, train Loss: 0.4403, test Loss: 0.5007\n",
            "epoch: 20, train Loss: 0.4294, test Loss: 0.4849\n",
            "epoch: 21, train Loss: 0.4167, test Loss: 0.4332\n",
            "epoch: 22, train Loss: 0.4067, test Loss: 0.5891\n",
            "epoch: 23, train Loss: 0.4019, test Loss: 0.4622\n",
            "epoch: 24, train Loss: 0.3923, test Loss: 0.3926\n",
            "epoch: 25, train Loss: 0.3839, test Loss: 0.5332\n",
            "epoch: 26, train Loss: 0.3767, test Loss: 0.4066\n",
            "epoch: 27, train Loss: 0.3685, test Loss: 0.5804\n",
            "epoch: 28, train Loss: 0.3604, test Loss: 0.4679\n",
            "epoch: 29, train Loss: 0.3537, test Loss: 0.5648\n",
            "epoch: 30, train Loss: 0.3461, test Loss: 0.5249\n",
            "epoch: 31, train Loss: 0.3403, test Loss: 0.6003\n",
            "epoch: 32, train Loss: 0.3388, test Loss: 0.4347\n",
            "epoch: 33, train Loss: 0.3321, test Loss: 0.4564\n",
            "epoch: 34, train Loss: 0.3295, test Loss: 0.7465\n",
            "epoch: 35, train Loss: 0.3229, test Loss: 0.5733\n",
            "epoch: 36, train Loss: 0.3188, test Loss: 0.5213\n",
            "epoch: 37, train Loss: 0.3181, test Loss: 0.5690\n",
            "epoch: 38, train Loss: 0.3147, test Loss: 0.7706\n",
            "epoch: 39, train Loss: 0.3132, test Loss: 0.4933\n",
            "epoch: 40, train Loss: 0.3097, test Loss: 0.5410\n",
            "epoch: 41, train Loss: 0.3021, test Loss: 0.5875\n",
            "epoch: 42, train Loss: 0.3002, test Loss: 0.5626\n",
            "epoch: 43, train Loss: 0.2987, test Loss: 0.7873\n",
            "epoch: 44, train Loss: 0.2995, test Loss: 0.7171\n",
            "epoch: 45, train Loss: 0.2929, test Loss: 0.4956\n",
            "epoch: 46, train Loss: 0.2931, test Loss: 0.5647\n",
            "epoch: 47, train Loss: 0.2904, test Loss: 0.5581\n",
            "epoch: 48, train Loss: 0.2873, test Loss: 0.4959\n",
            "epoch: 49, train Loss: 0.2892, test Loss: 0.7088\n",
            "epoch: 50, train Loss: 0.2848, test Loss: 0.4681\n"
          ]
        }
      ]
    },
    {
      "cell_type": "code",
      "source": [
        "fig, ax = plt.subplots(1, 1, figsize=(12, 7))\n",
        "\n",
        "x = [i for i in range(1, num_epochs + 1)]\n",
        "\n",
        "ax.plot(x, train_losses,\n",
        "          label='train loss')\n",
        "ax.plot(x, test_losses,\n",
        "          label='test_loss')\n",
        "\n",
        "ax.set_xlabel(\"epoch\")\n",
        "ax.set_ylabel(\"loss\")\n",
        "ax.set_title('MSE')\n",
        "ax.legend()\n",
        "\n",
        "ax.spines['top'].set_visible(False) # 위 테두리 안 보이게\n",
        "ax.spines['right'].set_visible(False) # 오른쪽 테두리 안 보이게\n",
        "\n",
        "plt.show()"
      ],
      "metadata": {
        "colab": {
          "base_uri": "https://localhost:8080/",
          "height": 458
        },
        "id": "cKzYeeiq9MU_",
        "outputId": "59458c56-bba5-4c60-94fa-5ba1960abbe0"
      },
      "execution_count": 25,
      "outputs": [
        {
          "output_type": "display_data",
          "data": {
            "image/png": "[encoded data removed]",
            "text/plain": [
              "<Figure size 864x504 with 1 Axes>"
            ]
          },
          "metadata": {
            "needs_background": "light"
          }
        }
      ]
    },
    {
      "cell_type": "code",
      "source": [
        ""
      ],
      "metadata": {
        "id": "_fLFjbDmD3vc"
      },
      "execution_count": null,
      "outputs": []
    }
  ],
  "metadata": {
    "colab": {
      "collapsed_sections": [
        "Q4qtTxjB9lfF"
      ],
      "name": "AutoRec: Autoencoders Meet Collaborative Filtering, 2015.ipynb",
      "provenance": [],
      "include_colab_link": true
    },
    "kernelspec": {
      "display_name": "Python 3",
      "language": "python",
      "name": "python3"
    },
    "language_info": {
      "codemirror_mode": {
        "name": "ipython",
        "version": 3
      },
      "file_extension": ".py",
      "mimetype": "text/x-python",
      "name": "python",
      "nbconvert_exporter": "python",
      "pygments_lexer": "ipython3",
      "version": "3.7.12"
    },
    "accelerator": "GPU"
  },
  "nbformat": 4,
  "nbformat_minor": 0
}