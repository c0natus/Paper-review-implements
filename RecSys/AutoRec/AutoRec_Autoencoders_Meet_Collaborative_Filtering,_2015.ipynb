{
  "cells": [
    {
      "cell_type": "markdown",
      "metadata": {
        "id": "nFLQdOQ-_YHl"
      },
      "source": [
        "# 초기 세팅"
      ]
    },
    {
      "cell_type": "code",
      "execution_count": 19,
      "metadata": {
        "colab": {
          "base_uri": "https://localhost:8080/"
        },
        "id": "ujJQPzAs9le_",
        "outputId": "707e3f85-93e3-4a8c-b089-9dd02a4ea146"
      },
      "outputs": [
        {
          "name": "stdout",
          "output_type": "stream",
          "text": [
            "matplotlib version : 3.5.1\n"
          ]
        }
      ],
      "source": [
        "import os\n",
        "import subprocess\n",
        "\n",
        "import numpy as np\n",
        "import pandas as pd\n",
        "import matplotlib as mpl \n",
        "import matplotlib.pyplot as plt\n",
        "import torch\n",
        "import torch.nn as nn\n",
        "from torch.utils.data import Dataset\n",
        "from torch.utils.data import DataLoader\n",
        "from sklearn.preprocessing import LabelEncoder\n",
        "from sklearn.model_selection import train_test_split\n",
        "\n",
        "print(f'matplotlib version : {mpl.__version__}')"
      ]
    },
    {
      "cell_type": "code",
      "execution_count": 20,
      "metadata": {
        "id": "GhKTrhLD_brE"
      },
      "outputs": [],
      "source": [
        "file_path = os.path.join('..', 'Data', 'ml-latest-small', 'ratings.csv')\n",
        "ml_small_df = pd.read_csv(file_path, encoding='utf-8')"
      ]
    },
    {
      "cell_type": "markdown",
      "metadata": {
        "id": "VsF4MjaLfZlZ"
      },
      "source": [
        "# 1. Data 전처리 및 Dataset"
      ]
    },
    {
      "cell_type": "code",
      "execution_count": 27,
      "metadata": {
        "id": "4MPy8f-Fd8i-"
      },
      "outputs": [],
      "source": [
        "def encode(data):\n",
        "    userId_label_encoder = LabelEncoder()\n",
        "    movieId_label_encoder = LabelEncoder()\n",
        "\n",
        "    data['encoded_userId'] = userId_label_encoder.fit_transform(data['userId'].values)\n",
        "    data['encoded_movieId'] = movieId_label_encoder.fit_transform(data['movieId'].values)\n",
        "    \n",
        "    return data, userId_label_encoder, movieId_label_encoder\n",
        "\n",
        "ml_small_df, userId_label_encoder, movieId_label_encoder = encode(ml_small_df)"
      ]
    },
    {
      "cell_type": "code",
      "execution_count": 28,
      "metadata": {
        "id": "IuKmAdLq6Ur6"
      },
      "outputs": [],
      "source": [
        "class CustomDataset(Dataset):\n",
        "    def __init__(self, data, train = True, train_size=0.8):\n",
        "\n",
        "        self._all_data = data\n",
        "        \n",
        "        self.num_users = len(self._all_data['encoded_userId'].unique())\n",
        "        self.num_movies = len(self._all_data['encoded_movieId'].unique())\n",
        "        \n",
        "        self.data = self._data_split(train, train_size)\n",
        "        self.matrix = self._make_matrix(train)\n",
        "\n",
        "    \n",
        "    def _make_matrix(self, train):\n",
        "        users = np.array(self.data['encoded_userId'].values)\n",
        "        movies = np.array(self.data['encoded_movieId'].values)\n",
        "        ratings = np.array(self.data['rating'].values)\n",
        "\n",
        "        if train:\n",
        "            # 평점의 최저점은 0.5이다.\n",
        "            # forward 시 곱셈에 영향을 안 주기 위해서 0으로 설정해야하지 않나??\n",
        "            # 0으로 하면 성능이 구데기로 나오네...\n",
        "            matrix = np.zeros((self.num_movies, self.num_users))\n",
        "        else:\n",
        "            matrix = np.zeros((self.num_movies, self.num_users)) + 3\n",
        "        \n",
        "        for user, movie, rating in zip(users, movies, ratings):\n",
        "            matrix[movie][user] = rating\n",
        "\n",
        "        return matrix\n",
        "\n",
        "    \n",
        "    def _data_split(self, train, train_size):\n",
        "        train_data, test_data = train_test_split(\n",
        "            self._all_data, \n",
        "            test_size=1-train_size, \n",
        "            train_size=train_size, \n",
        "            stratify = self._all_data['encoded_userId'].values, \n",
        "            random_state=42)\n",
        "\n",
        "        if train:\n",
        "            return train_data\n",
        "        else:\n",
        "            return test_data\n",
        "\n",
        "    \n",
        "    def __len__(self):\n",
        "        return self.matrix.shape[0]\n",
        "    \n",
        "\n",
        "    def __getitem__(self, idx):\n",
        "        return torch.tensor(self.matrix[idx]).float()\n",
        "        "
      ]
    },
    {
      "cell_type": "code",
      "execution_count": 29,
      "metadata": {
        "id": "IHIqkoPz9lfH"
      },
      "outputs": [],
      "source": [
        "ml_small_train_dataset = CustomDataset(data=ml_small_df, train=True, train_size=0.9)\n",
        "ml_small_test_dataset =  CustomDataset(data=ml_small_df, train=False, train_size=0.9)"
      ]
    },
    {
      "cell_type": "markdown",
      "metadata": {
        "id": "V14NpSne6UsD"
      },
      "source": [
        "# 2. DataLoader"
      ]
    },
    {
      "cell_type": "code",
      "execution_count": 30,
      "metadata": {
        "id": "H_HbBK-HaMce"
      },
      "outputs": [],
      "source": [
        "batch_size = 512\n",
        "\n",
        "train_iter = DataLoader(dataset=ml_small_train_dataset, batch_size=batch_size, shuffle=True)\n",
        "test_iter = DataLoader(dataset=ml_small_test_dataset, batch_size=batch_size, shuffle=False)"
      ]
    },
    {
      "cell_type": "markdown",
      "metadata": {
        "id": "EhJIbOFj6UsD"
      },
      "source": [
        "# 3. Model"
      ]
    },
    {
      "cell_type": "code",
      "execution_count": 31,
      "metadata": {
        "id": "pwTeA9yc9lfK"
      },
      "outputs": [],
      "source": [
        "class AutoRec(nn.Module):\n",
        "    \"\"\"\n",
        "    Item-based AutoRec\n",
        "    논문에서 encoder의 활성함수로 sigmoid, decoder의 활성함수로 identity 사용\n",
        "    \"\"\"\n",
        "    def __init__(self, num_hiddens, num_users):\n",
        "        super(AutoRec, self).__init__()\n",
        "        self.encoder = nn.Sequential(\n",
        "                                        nn.Linear(in_features=num_users, out_features=num_hiddens, bias=True),\n",
        "                                        nn.Sigmoid(),\n",
        "                                    )\n",
        "        self.decoder = nn.Sequential(\n",
        "                                        nn.Linear(in_features=num_hiddens, out_features=num_users, bias=True),\n",
        "                                        nn.Identity(),\n",
        "                                    )\n",
        "        \n",
        "        self.model = nn.ModuleList([self.encoder, self.decoder])\n",
        "    \n",
        "\n",
        "    def _init_weights(self):\n",
        "        for m in self.model.modules():\n",
        "            if isinstance(m, nn.Linear):\n",
        "                nn.init.normal_(m.weight.data, mean=0.0, std=0.01)\n",
        "                if m.bias is not None:\n",
        "                    m.bias.data.fill_(0.0)\n",
        "\n",
        "    \n",
        "    def forward(self, batch_data):\n",
        "        operand = batch_data\n",
        "\n",
        "        for operation in self.model:\n",
        "            result = operation(operand)\n",
        "            operand = result\n",
        "        \n",
        "        return result"
      ]
    },
    {
      "cell_type": "code",
      "execution_count": 32,
      "metadata": {},
      "outputs": [],
      "source": [
        "class AutoRec_loss_fn(nn.Module):\n",
        "    \"\"\"\n",
        "    AutoRec_loss_fn\n",
        "    \n",
        "    Args:\n",
        "        - loss_fn: (nn.Module) 사용할 Loss Function\n",
        "    Shape:\n",
        "        - Input1: (torch.Tensor) Model의 예측 결과. Shape: (batch size,)\n",
        "        - Input2: (torch.Tensor) 정답. Shape: (batch size,)\n",
        "        - Output: (torch.Tensor) Observable한 데이터에 대해서만 계산한 Loss. Shape: ()\n",
        "    \"\"\"\n",
        "    def __init__(self, loss_fn):\n",
        "        super(AutoRec_loss_fn, self).__init__()\n",
        "        self.loss_fn = loss_fn\n",
        "    \n",
        "    def forward(self, pred, y):\n",
        "        y_for_compute = y.clone().to('cpu')\n",
        "        index =  np.where(y_for_compute > 0)\n",
        "        loss = self.loss_fn(pred[index], y[index])\n",
        "        return loss"
      ]
    },
    {
      "cell_type": "markdown",
      "metadata": {
        "id": "lhevtUBjue78"
      },
      "source": [
        "# 4. 학습"
      ]
    },
    {
      "cell_type": "code",
      "execution_count": 33,
      "metadata": {
        "colab": {
          "base_uri": "https://localhost:8080/"
        },
        "id": "fPycwYtxuYkc",
        "outputId": "a61077f8-9bab-443e-9528-c219b7130ed6"
      },
      "outputs": [
        {
          "name": "stdout",
          "output_type": "stream",
          "text": [
            "Use cuda:0\n"
          ]
        }
      ],
      "source": [
        "device = torch.device('cuda:0' if torch.cuda.is_available() else 'cpu')\n",
        "print(f'Use {device}')\n",
        "\n",
        "num_epochs = 100\n",
        "learning_rate = 1e-3\n",
        "num_hiddens = 500\n",
        "weight_decay = 1e-6\n",
        "num_users = len(ml_small_df['encoded_userId'].unique())\n",
        "\n",
        "model = AutoRec(num_hiddens=num_hiddens, num_users=num_users)\n",
        "model.to(device)\n",
        "optimizer = torch.optim.Adam(model.parameters(), lr=learning_rate, weight_decay=weight_decay)\n",
        "criterion = AutoRec_loss_fn(nn.MSELoss()).to(device)"
      ]
    },
    {
      "cell_type": "code",
      "execution_count": 34,
      "metadata": {
        "id": "PqCpmfq62I3r"
      },
      "outputs": [],
      "source": [
        "def funcTrain(model, train_iter, criterion, optimizer, device):\n",
        "    model.train() # to train mode\n",
        "    total_train_loss = 0\n",
        "\n",
        "    for train_matrix in train_iter:\n",
        "        train_matrix = train_matrix.to(device)\n",
        "\n",
        "        prediction = model(train_matrix)\n",
        "\n",
        "        mask = train_matrix > 0\n",
        "        prediction.register_hook(lambda grad: grad * mask.float())\n",
        "\n",
        "        train_loss = criterion(prediction[mask], train_matrix[mask])\n",
        "\n",
        "        # Update\n",
        "        optimizer.zero_grad()   # reset gradient \n",
        "        train_loss.backward()   # backpropagate\n",
        "        optimizer.step()        # optimizer update\n",
        "        \n",
        "        total_train_loss += train_loss.item()\n",
        "    \n",
        "    loss_avg = total_train_loss / len(train_iter)\n",
        "\n",
        "    return loss_avg"
      ]
    },
    {
      "cell_type": "code",
      "execution_count": 35,
      "metadata": {
        "id": "wvuNKv4b8Itd"
      },
      "outputs": [],
      "source": [
        "def funcEval(model, test_iter, criterion, device):\n",
        "    model.eval()\n",
        "    total_test_loss = 0\n",
        "    with torch.no_grad():\n",
        "        for test_matrix in test_iter:\n",
        "            test_matrix = test_matrix.to(device)\n",
        "\n",
        "            prediction = model(test_matrix)\n",
        "\n",
        "            test_loss = criterion(prediction, test_matrix)\n",
        "\n",
        "            total_test_loss += test_loss.item()\n",
        "    return total_test_loss / len(test_iter)            "
      ]
    },
    {
      "cell_type": "code",
      "execution_count": 36,
      "metadata": {
        "colab": {
          "base_uri": "https://localhost:8080/"
        },
        "id": "smi1cA8p9vnC",
        "outputId": "962d770d-a456-446e-abfb-2d50ffab07ae"
      },
      "outputs": [
        {
          "name": "stdout",
          "output_type": "stream",
          "text": [
            "epoch: 1, train Loss: 4.2855, test Loss: 5.5903\n",
            "epoch: 2, train Loss: 1.0938, test Loss: 1.1360\n",
            "epoch: 3, train Loss: 0.8119, test Loss: 1.4948\n",
            "epoch: 4, train Loss: 0.7459, test Loss: 1.6931\n",
            "epoch: 5, train Loss: 0.7168, test Loss: 1.4950\n",
            "epoch: 6, train Loss: 0.6967, test Loss: 1.6391\n",
            "epoch: 7, train Loss: 0.6802, test Loss: 1.7664\n",
            "epoch: 8, train Loss: 0.6608, test Loss: 1.8507\n",
            "epoch: 9, train Loss: 0.6423, test Loss: 1.9180\n",
            "epoch: 10, train Loss: 0.6250, test Loss: 1.9604\n",
            "epoch: 11, train Loss: 0.6057, test Loss: 1.9614\n",
            "epoch: 12, train Loss: 0.5856, test Loss: 2.0381\n",
            "epoch: 13, train Loss: 0.5672, test Loss: 2.0247\n",
            "epoch: 14, train Loss: 0.5486, test Loss: 2.0356\n",
            "epoch: 15, train Loss: 0.5289, test Loss: 2.1172\n",
            "epoch: 16, train Loss: 0.5126, test Loss: 2.1561\n",
            "epoch: 17, train Loss: 0.4942, test Loss: 2.0309\n",
            "epoch: 18, train Loss: 0.4751, test Loss: 2.1011\n",
            "epoch: 19, train Loss: 0.4572, test Loss: 1.9904\n",
            "epoch: 20, train Loss: 0.4428, test Loss: 2.0290\n",
            "epoch: 21, train Loss: 0.4238, test Loss: 2.0432\n",
            "epoch: 22, train Loss: 0.4069, test Loss: 2.1112\n",
            "epoch: 23, train Loss: 0.3915, test Loss: 2.1350\n",
            "epoch: 24, train Loss: 0.3754, test Loss: 2.1068\n",
            "epoch: 25, train Loss: 0.3588, test Loss: 2.1349\n",
            "epoch: 26, train Loss: 0.3462, test Loss: 2.2136\n",
            "epoch: 27, train Loss: 0.3299, test Loss: 2.1303\n",
            "epoch: 28, train Loss: 0.3149, test Loss: 2.1940\n",
            "epoch: 29, train Loss: 0.3016, test Loss: 2.2460\n",
            "epoch: 30, train Loss: 0.2896, test Loss: 2.1703\n",
            "epoch: 31, train Loss: 0.2760, test Loss: 2.2361\n",
            "epoch: 32, train Loss: 0.2648, test Loss: 2.2025\n",
            "epoch: 33, train Loss: 0.2520, test Loss: 2.2017\n",
            "epoch: 34, train Loss: 0.2412, test Loss: 2.2871\n",
            "epoch: 35, train Loss: 0.2308, test Loss: 2.2739\n",
            "epoch: 36, train Loss: 0.2213, test Loss: 2.1984\n",
            "epoch: 37, train Loss: 0.2112, test Loss: 2.2312\n",
            "epoch: 38, train Loss: 0.2019, test Loss: 2.2836\n",
            "epoch: 39, train Loss: 0.1943, test Loss: 2.2325\n",
            "epoch: 40, train Loss: 0.1850, test Loss: 2.2866\n",
            "epoch: 41, train Loss: 0.1766, test Loss: 2.3027\n",
            "epoch: 42, train Loss: 0.1685, test Loss: 2.2671\n",
            "epoch: 43, train Loss: 0.1614, test Loss: 2.2450\n",
            "epoch: 44, train Loss: 0.1550, test Loss: 2.3171\n",
            "epoch: 45, train Loss: 0.1478, test Loss: 2.2996\n",
            "epoch: 46, train Loss: 0.1418, test Loss: 2.2482\n",
            "epoch: 47, train Loss: 0.1355, test Loss: 2.2962\n",
            "epoch: 48, train Loss: 0.1297, test Loss: 2.2626\n",
            "epoch: 49, train Loss: 0.1243, test Loss: 2.2754\n",
            "epoch: 50, train Loss: 0.1191, test Loss: 2.2619\n",
            "epoch: 51, train Loss: 0.1138, test Loss: 2.2518\n",
            "epoch: 52, train Loss: 0.1086, test Loss: 2.2424\n",
            "epoch: 53, train Loss: 0.1045, test Loss: 2.2165\n",
            "epoch: 54, train Loss: 0.0998, test Loss: 2.2306\n",
            "epoch: 55, train Loss: 0.0961, test Loss: 2.2459\n",
            "epoch: 56, train Loss: 0.0924, test Loss: 2.2326\n",
            "epoch: 57, train Loss: 0.0879, test Loss: 2.2154\n",
            "epoch: 58, train Loss: 0.0844, test Loss: 2.2198\n",
            "epoch: 59, train Loss: 0.0811, test Loss: 2.2124\n",
            "epoch: 60, train Loss: 0.0776, test Loss: 2.2037\n",
            "epoch: 61, train Loss: 0.0744, test Loss: 2.2011\n",
            "epoch: 62, train Loss: 0.0715, test Loss: 2.1994\n",
            "epoch: 63, train Loss: 0.0687, test Loss: 2.1756\n",
            "epoch: 64, train Loss: 0.0658, test Loss: 2.1947\n",
            "epoch: 65, train Loss: 0.0633, test Loss: 2.1981\n",
            "epoch: 66, train Loss: 0.0607, test Loss: 2.1854\n",
            "epoch: 67, train Loss: 0.0582, test Loss: 2.1986\n",
            "epoch: 68, train Loss: 0.0559, test Loss: 2.1725\n",
            "epoch: 69, train Loss: 0.0539, test Loss: 2.1779\n",
            "epoch: 70, train Loss: 0.0518, test Loss: 2.1840\n",
            "epoch: 71, train Loss: 0.0499, test Loss: 2.1765\n",
            "epoch: 72, train Loss: 0.0477, test Loss: 2.1625\n",
            "epoch: 73, train Loss: 0.0458, test Loss: 2.1795\n",
            "epoch: 74, train Loss: 0.0440, test Loss: 2.1775\n",
            "epoch: 75, train Loss: 0.0424, test Loss: 2.1589\n",
            "epoch: 76, train Loss: 0.0407, test Loss: 2.1825\n",
            "epoch: 77, train Loss: 0.0391, test Loss: 2.1760\n",
            "epoch: 78, train Loss: 0.0377, test Loss: 2.1635\n",
            "epoch: 79, train Loss: 0.0362, test Loss: 2.1688\n",
            "epoch: 80, train Loss: 0.0348, test Loss: 2.1711\n",
            "epoch: 81, train Loss: 0.0337, test Loss: 2.1840\n",
            "epoch: 82, train Loss: 0.0327, test Loss: 2.1838\n",
            "epoch: 83, train Loss: 0.0314, test Loss: 2.1599\n",
            "epoch: 84, train Loss: 0.0302, test Loss: 2.1606\n",
            "epoch: 85, train Loss: 0.0290, test Loss: 2.1447\n",
            "epoch: 86, train Loss: 0.0283, test Loss: 2.1646\n",
            "epoch: 87, train Loss: 0.0272, test Loss: 2.1711\n",
            "epoch: 88, train Loss: 0.0262, test Loss: 2.1531\n",
            "epoch: 89, train Loss: 0.0254, test Loss: 2.1541\n",
            "epoch: 90, train Loss: 0.0245, test Loss: 2.1501\n",
            "epoch: 91, train Loss: 0.0236, test Loss: 2.1811\n",
            "epoch: 92, train Loss: 0.0228, test Loss: 2.1726\n",
            "epoch: 93, train Loss: 0.0222, test Loss: 2.1624\n",
            "epoch: 94, train Loss: 0.0214, test Loss: 2.1546\n",
            "epoch: 95, train Loss: 0.0208, test Loss: 2.1631\n",
            "epoch: 96, train Loss: 0.0201, test Loss: 2.1589\n",
            "epoch: 97, train Loss: 0.0193, test Loss: 2.1591\n",
            "epoch: 98, train Loss: 0.0187, test Loss: 2.1534\n",
            "epoch: 99, train Loss: 0.0182, test Loss: 2.1629\n",
            "epoch: 100, train Loss: 0.0176, test Loss: 2.1547\n"
          ]
        }
      ],
      "source": [
        "train_losses = []\n",
        "test_losses = []\n",
        "\n",
        "for epoch in range(num_epochs):\n",
        "    \n",
        "    train_loss = funcTrain(model, train_iter, criterion, optimizer, device)\n",
        "    test_loss = funcEval(model, test_iter, criterion, device)\n",
        "\n",
        "    train_losses.append(train_loss)\n",
        "    test_losses.append(test_loss)\n",
        "\n",
        "    print(f'epoch: {epoch + 1}, train Loss: {train_loss:.4f}, test Loss: {test_loss:.4f}')"
      ]
    },
    {
      "cell_type": "code",
      "execution_count": 37,
      "metadata": {
        "colab": {
          "base_uri": "https://localhost:8080/",
          "height": 458
        },
        "id": "cKzYeeiq9MU_",
        "outputId": "f72b9b9c-2748-4024-f6f5-c0ae5df42bbb"
      },
      "outputs": [
        {
          "data": {
            "image/png": "[encoded data removed]",
            "text/plain": [
              "<Figure size 864x504 with 1 Axes>"
            ]
          },
          "metadata": {
            "needs_background": "light"
          },
          "output_type": "display_data"
        }
      ],
      "source": [
        "fig, ax = plt.subplots(1, 1, figsize=(12, 7))\n",
        "\n",
        "x = [i for i in range(1, num_epochs + 1)]\n",
        "\n",
        "ax.plot(x, train_losses,\n",
        "          label='train loss')\n",
        "ax.plot(x, test_losses,\n",
        "          label='test_loss')\n",
        "\n",
        "ax.set_xlabel(\"epoch\")\n",
        "ax.set_ylabel(\"loss\")\n",
        "ax.set_title('MSE')\n",
        "ax.legend()\n",
        "\n",
        "ax.spines['top'].set_visible(False) # 위 테두리 안 보이게\n",
        "ax.spines['right'].set_visible(False) # 오른쪽 테두리 안 보이게\n",
        "\n",
        "plt.show()"
      ]
    },
    {
      "cell_type": "code",
      "execution_count": null,
      "metadata": {
        "id": "_fLFjbDmD3vc"
      },
      "outputs": [],
      "source": []
    }
  ],
  "metadata": {
    "accelerator": "GPU",
    "colab": {
      "collapsed_sections": [
        "nFLQdOQ-_YHl",
        "Q4qtTxjB9lfF"
      ],
      "include_colab_link": true,
      "name": "AutoRec: Autoencoders Meet Collaborative Filtering, 2015.ipynb",
      "provenance": []
    },
    "kernelspec": {
      "display_name": "Python 3",
      "language": "python",
      "name": "python3"
    },
    "language_info": {
      "codemirror_mode": {
        "name": "ipython",
        "version": 3
      },
      "file_extension": ".py",
      "mimetype": "text/x-python",
      "name": "python",
      "nbconvert_exporter": "python",
      "pygments_lexer": "ipython3",
      "version": "3.8.5"
    }
  },
  "nbformat": 4,
  "nbformat_minor": 0
}
