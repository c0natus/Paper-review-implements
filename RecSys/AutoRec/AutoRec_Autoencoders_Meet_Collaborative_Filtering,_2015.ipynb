{
  "cells": [
    {
      "cell_type": "markdown",
      "metadata": {
        "id": "nFLQdOQ-_YHl"
      },
      "source": [
        "# 초기 세팅"
      ]
    },
    {
      "cell_type": "code",
      "execution_count": 1,
      "metadata": {
        "colab": {
          "base_uri": "https://localhost:8080/"
        },
        "id": "ujJQPzAs9le_",
        "outputId": "707e3f85-93e3-4a8c-b089-9dd02a4ea146"
      },
      "outputs": [
        {
          "name": "stderr",
          "output_type": "stream",
          "text": [
            "c:\\Users\\temp\\miniconda3\\envs\\rec\\lib\\site-packages\\tqdm\\auto.py:22: TqdmWarning: IProgress not found. Please update jupyter and ipywidgets. See https://ipywidgets.readthedocs.io/en/stable/user_install.html\n",
            "  from .autonotebook import tqdm as notebook_tqdm\n"
          ]
        },
        {
          "name": "stdout",
          "output_type": "stream",
          "text": [
            "matplotlib version : 3.5.2\n"
          ]
        }
      ],
      "source": [
        "import os\n",
        "import subprocess\n",
        "\n",
        "import numpy as np\n",
        "import pandas as pd\n",
        "import matplotlib as mpl \n",
        "import matplotlib.pyplot as plt\n",
        "import torch\n",
        "import torch.nn as nn\n",
        "from torch.utils.data import Dataset\n",
        "from torch.utils.data import DataLoader\n",
        "from sklearn.preprocessing import LabelEncoder\n",
        "from sklearn.model_selection import train_test_split\n",
        "\n",
        "print(f'matplotlib version : {mpl.__version__}')"
      ]
    },
    {
      "cell_type": "code",
      "execution_count": 2,
      "metadata": {
        "id": "GhKTrhLD_brE"
      },
      "outputs": [],
      "source": [
        "file_path = os.path.join('..', 'Data', 'ml-latest-small', 'ratings.csv')\n",
        "ml_small_df = pd.read_csv(file_path, encoding='utf-8')"
      ]
    },
    {
      "cell_type": "markdown",
      "metadata": {
        "id": "VsF4MjaLfZlZ"
      },
      "source": [
        "# 1. Data 전처리 및 Dataset"
      ]
    },
    {
      "cell_type": "code",
      "execution_count": 3,
      "metadata": {
        "id": "4MPy8f-Fd8i-"
      },
      "outputs": [],
      "source": [
        "def encode(data):\n",
        "    userId_label_encoder = LabelEncoder()\n",
        "    movieId_label_encoder = LabelEncoder()\n",
        "\n",
        "    data['encoded_userId'] = userId_label_encoder.fit_transform(data['userId'].values)\n",
        "    data['encoded_movieId'] = movieId_label_encoder.fit_transform(data['movieId'].values)\n",
        "    \n",
        "    return data, userId_label_encoder, movieId_label_encoder\n",
        "\n",
        "ml_small_df, userId_label_encoder, movieId_label_encoder = encode(ml_small_df)"
      ]
    },
    {
      "cell_type": "code",
      "execution_count": 4,
      "metadata": {
        "id": "IuKmAdLq6Ur6"
      },
      "outputs": [],
      "source": [
        "class CustomDataset(Dataset):\n",
        "    def __init__(self, data, train = True, train_size=0.8):\n",
        "\n",
        "        self._all_data = data\n",
        "        \n",
        "        self.num_users = len(self._all_data['encoded_userId'].unique())\n",
        "        self.num_movies = len(self._all_data['encoded_movieId'].unique())\n",
        "        \n",
        "        self.data = self._data_split(train, train_size)\n",
        "        self.matrix = self._make_matrix(train)\n",
        "\n",
        "    \n",
        "    def _make_matrix(self, train):\n",
        "        users = np.array(self.data['encoded_userId'].values)\n",
        "        movies = np.array(self.data['encoded_movieId'].values)\n",
        "        ratings = np.array(self.data['rating'].values)\n",
        "\n",
        "        if train:\n",
        "            # 평점의 최저점은 0.5이다.\n",
        "            # forward 시 곱셈에 영향을 안 주기 위해서 0으로 설정해야하지 않나??\n",
        "            # 0으로 하면 성능이 구데기로 나오네...\n",
        "            matrix = np.zeros((self.num_movies, self.num_users))\n",
        "        else:\n",
        "            matrix = np.zeros((self.num_movies, self.num_users)) + 3\n",
        "        \n",
        "        for user, movie, rating in zip(users, movies, ratings):\n",
        "            matrix[movie][user] = rating\n",
        "\n",
        "        return matrix\n",
        "\n",
        "    \n",
        "    def _data_split(self, train, train_size):\n",
        "        train_data, test_data = train_test_split(\n",
        "            self._all_data, \n",
        "            test_size=1-train_size, \n",
        "            train_size=train_size, \n",
        "            stratify = self._all_data['encoded_userId'].values, \n",
        "            random_state=42)\n",
        "\n",
        "        if train:\n",
        "            return train_data\n",
        "        else:\n",
        "            return test_data\n",
        "\n",
        "    \n",
        "    def __len__(self):\n",
        "        return self.matrix.shape[0]\n",
        "    \n",
        "\n",
        "    def __getitem__(self, idx):\n",
        "        return torch.tensor(self.matrix[idx]).float()\n",
        "        "
      ]
    },
    {
      "cell_type": "code",
      "execution_count": 5,
      "metadata": {
        "id": "IHIqkoPz9lfH"
      },
      "outputs": [],
      "source": [
        "ml_small_train_dataset = CustomDataset(data=ml_small_df, train=True, train_size=0.9)\n",
        "ml_small_test_dataset =  CustomDataset(data=ml_small_df, train=False, train_size=0.9)"
      ]
    },
    {
      "cell_type": "markdown",
      "metadata": {
        "id": "V14NpSne6UsD"
      },
      "source": [
        "# 2. DataLoader"
      ]
    },
    {
      "cell_type": "code",
      "execution_count": 6,
      "metadata": {
        "id": "H_HbBK-HaMce"
      },
      "outputs": [],
      "source": [
        "batch_size = 512\n",
        "\n",
        "train_iter = DataLoader(dataset=ml_small_train_dataset, batch_size=batch_size, shuffle=True)\n",
        "test_iter = DataLoader(dataset=ml_small_test_dataset, batch_size=batch_size, shuffle=False)"
      ]
    },
    {
      "cell_type": "markdown",
      "metadata": {
        "id": "EhJIbOFj6UsD"
      },
      "source": [
        "# 3. Model"
      ]
    },
    {
      "cell_type": "code",
      "execution_count": 7,
      "metadata": {
        "id": "pwTeA9yc9lfK"
      },
      "outputs": [],
      "source": [
        "class AutoRec(nn.Module):\n",
        "    \"\"\"\n",
        "    Item-based AutoRec\n",
        "    논문에서 encoder의 활성함수로 sigmoid, decoder의 활성함수로 identity 사용\n",
        "    \"\"\"\n",
        "    def __init__(self, num_hiddens, num_users):\n",
        "        super(AutoRec, self).__init__()\n",
        "        self.encoder = nn.Sequential(\n",
        "                                        nn.Linear(in_features=num_users, out_features=num_hiddens, bias=True),\n",
        "                                        nn.Sigmoid(),\n",
        "                                    )\n",
        "        self.decoder = nn.Sequential(\n",
        "                                        nn.Linear(in_features=num_hiddens, out_features=num_users, bias=True),\n",
        "                                        nn.Identity(),\n",
        "                                    )\n",
        "        \n",
        "        self.model = nn.ModuleList([self.encoder, self.decoder])\n",
        "    \n",
        "\n",
        "    def _init_weights(self):\n",
        "        for m in self.model.modules():\n",
        "            if isinstance(m, nn.Linear):\n",
        "                nn.init.normal_(m.weight.data, mean=0.0, std=0.01)\n",
        "                if m.bias is not None:\n",
        "                    m.bias.data.fill_(0.0)\n",
        "\n",
        "    \n",
        "    def forward(self, batch_data):\n",
        "        operand = batch_data\n",
        "\n",
        "        for operation in self.model:\n",
        "            result = operation(operand)\n",
        "            operand = result\n",
        "        \n",
        "        return result"
      ]
    },
    {
      "cell_type": "code",
      "execution_count": 8,
      "metadata": {},
      "outputs": [],
      "source": [
        "class AutoRec_loss_fn(nn.Module):\n",
        "    \"\"\"\n",
        "    AutoRec_loss_fn\n",
        "    \n",
        "    Args:\n",
        "        - loss_fn: (nn.Module) 사용할 Loss Function\n",
        "    Shape:\n",
        "        - Input1: (torch.Tensor) Model의 예측 결과. Shape: (batch size,)\n",
        "        - Input2: (torch.Tensor) 정답. Shape: (batch size,)\n",
        "        - Output: (torch.Tensor) Observable한 데이터에 대해서만 계산한 Loss. Shape: ()\n",
        "    \"\"\"\n",
        "    def __init__(self, loss_fn):\n",
        "        super(AutoRec_loss_fn, self).__init__()\n",
        "        self.loss_fn = loss_fn\n",
        "    \n",
        "    def forward(self, pred, y):\n",
        "        y_for_compute = y.clone().to('cpu')\n",
        "        index =  np.where(y_for_compute > 0)\n",
        "        loss = self.loss_fn(pred[index], y[index])\n",
        "        return loss"
      ]
    },
    {
      "cell_type": "markdown",
      "metadata": {
        "id": "lhevtUBjue78"
      },
      "source": [
        "# 4. 학습"
      ]
    },
    {
      "cell_type": "code",
      "execution_count": 9,
      "metadata": {
        "colab": {
          "base_uri": "https://localhost:8080/"
        },
        "id": "fPycwYtxuYkc",
        "outputId": "a61077f8-9bab-443e-9528-c219b7130ed6"
      },
      "outputs": [
        {
          "name": "stdout",
          "output_type": "stream",
          "text": [
            "Use cuda:0\n"
          ]
        }
      ],
      "source": [
        "device = torch.device('cuda:0' if torch.cuda.is_available() else 'cpu')\n",
        "print(f'Use {device}')\n",
        "\n",
        "num_epochs = 100\n",
        "learning_rate = 1e-3\n",
        "num_hiddens = 500\n",
        "weight_decay = 1e-6\n",
        "num_users = len(ml_small_df['encoded_userId'].unique())\n",
        "\n",
        "model = AutoRec(num_hiddens=num_hiddens, num_users=num_users)\n",
        "model.to(device)\n",
        "optimizer = torch.optim.Adam(model.parameters(), lr=learning_rate, weight_decay=weight_decay)\n",
        "criterion = AutoRec_loss_fn(nn.MSELoss()).to(device)"
      ]
    },
    {
      "cell_type": "code",
      "execution_count": 10,
      "metadata": {
        "id": "PqCpmfq62I3r"
      },
      "outputs": [],
      "source": [
        "def funcTrain(model, train_iter, criterion, optimizer, device):\n",
        "    model.train() # to train mode\n",
        "    total_train_loss = 0\n",
        "\n",
        "    for train_matrix in train_iter:\n",
        "        train_matrix = train_matrix.to(device)\n",
        "\n",
        "        prediction = model(train_matrix)\n",
        "\n",
        "        train_loss = criterion(prediction, train_matrix)\n",
        "\n",
        "        # Update\n",
        "        optimizer.zero_grad()   # reset gradient \n",
        "        train_loss.backward()   # backpropagate\n",
        "        optimizer.step()        # optimizer update\n",
        "        \n",
        "        total_train_loss += train_loss.item()\n",
        "    \n",
        "    loss_avg = total_train_loss / len(train_iter)\n",
        "\n",
        "    return loss_avg"
      ]
    },
    {
      "cell_type": "code",
      "execution_count": 11,
      "metadata": {
        "id": "wvuNKv4b8Itd"
      },
      "outputs": [],
      "source": [
        "def funcEval(model, test_iter, criterion, device):\n",
        "    model.eval()\n",
        "    total_test_loss = 0\n",
        "    with torch.no_grad():\n",
        "        for test_matrix in test_iter:\n",
        "            test_matrix = test_matrix.to(device)\n",
        "\n",
        "            prediction = model(test_matrix)\n",
        "\n",
        "            test_loss = criterion(prediction, test_matrix)\n",
        "\n",
        "            total_test_loss += test_loss.item()\n",
        "    return total_test_loss / len(test_iter)            "
      ]
    },
    {
      "cell_type": "code",
      "execution_count": 12,
      "metadata": {
        "colab": {
          "base_uri": "https://localhost:8080/"
        },
        "id": "smi1cA8p9vnC",
        "outputId": "962d770d-a456-446e-abfb-2d50ffab07ae"
      },
      "outputs": [
        {
          "name": "stdout",
          "output_type": "stream",
          "text": [
            "epoch: 1, train Loss: 4.2867, test Loss: 5.5672\n",
            "epoch: 2, train Loss: 1.1146, test Loss: 1.1321\n",
            "epoch: 3, train Loss: 0.8149, test Loss: 1.5270\n",
            "epoch: 4, train Loss: 0.7491, test Loss: 1.4358\n",
            "epoch: 5, train Loss: 0.7165, test Loss: 1.4480\n",
            "epoch: 6, train Loss: 0.6975, test Loss: 1.5922\n",
            "epoch: 7, train Loss: 0.6783, test Loss: 1.6724\n",
            "epoch: 8, train Loss: 0.6597, test Loss: 1.7151\n",
            "epoch: 9, train Loss: 0.6420, test Loss: 1.8647\n",
            "epoch: 10, train Loss: 0.6242, test Loss: 1.9130\n",
            "epoch: 11, train Loss: 0.6063, test Loss: 1.9415\n",
            "epoch: 12, train Loss: 0.5862, test Loss: 1.9299\n",
            "epoch: 13, train Loss: 0.5673, test Loss: 1.9768\n",
            "epoch: 14, train Loss: 0.5481, test Loss: 2.0712\n",
            "epoch: 15, train Loss: 0.5299, test Loss: 2.0250\n",
            "epoch: 16, train Loss: 0.5108, test Loss: 2.1016\n",
            "epoch: 17, train Loss: 0.4926, test Loss: 2.0405\n",
            "epoch: 18, train Loss: 0.4746, test Loss: 2.0785\n",
            "epoch: 19, train Loss: 0.4566, test Loss: 2.1049\n",
            "epoch: 20, train Loss: 0.4391, test Loss: 2.0627\n",
            "epoch: 21, train Loss: 0.4215, test Loss: 2.0658\n",
            "epoch: 22, train Loss: 0.4063, test Loss: 2.0634\n",
            "epoch: 23, train Loss: 0.3889, test Loss: 2.0866\n",
            "epoch: 24, train Loss: 0.3749, test Loss: 2.0521\n",
            "epoch: 25, train Loss: 0.3584, test Loss: 2.0512\n",
            "epoch: 26, train Loss: 0.3448, test Loss: 2.0100\n",
            "epoch: 27, train Loss: 0.3295, test Loss: 2.1151\n",
            "epoch: 28, train Loss: 0.3146, test Loss: 2.0511\n",
            "epoch: 29, train Loss: 0.3005, test Loss: 2.0536\n",
            "epoch: 30, train Loss: 0.2878, test Loss: 1.9674\n",
            "epoch: 31, train Loss: 0.2761, test Loss: 2.0483\n",
            "epoch: 32, train Loss: 0.2639, test Loss: 2.1180\n",
            "epoch: 33, train Loss: 0.2522, test Loss: 2.0579\n",
            "epoch: 34, train Loss: 0.2414, test Loss: 2.0201\n",
            "epoch: 35, train Loss: 0.2306, test Loss: 2.0484\n",
            "epoch: 36, train Loss: 0.2203, test Loss: 2.0928\n",
            "epoch: 37, train Loss: 0.2110, test Loss: 2.1064\n",
            "epoch: 38, train Loss: 0.2018, test Loss: 2.0596\n",
            "epoch: 39, train Loss: 0.1932, test Loss: 2.0616\n",
            "epoch: 40, train Loss: 0.1846, test Loss: 2.0938\n",
            "epoch: 41, train Loss: 0.1760, test Loss: 2.0917\n",
            "epoch: 42, train Loss: 0.1687, test Loss: 2.1182\n",
            "epoch: 43, train Loss: 0.1616, test Loss: 2.1113\n",
            "epoch: 44, train Loss: 0.1544, test Loss: 2.0586\n",
            "epoch: 45, train Loss: 0.1472, test Loss: 2.0908\n",
            "epoch: 46, train Loss: 0.1412, test Loss: 2.0668\n",
            "epoch: 47, train Loss: 0.1349, test Loss: 2.1154\n",
            "epoch: 48, train Loss: 0.1290, test Loss: 2.1148\n",
            "epoch: 49, train Loss: 0.1240, test Loss: 2.1401\n",
            "epoch: 50, train Loss: 0.1185, test Loss: 2.1368\n",
            "epoch: 51, train Loss: 0.1133, test Loss: 2.1001\n",
            "epoch: 52, train Loss: 0.1088, test Loss: 2.1071\n",
            "epoch: 53, train Loss: 0.1045, test Loss: 2.1074\n",
            "epoch: 54, train Loss: 0.1002, test Loss: 2.1338\n",
            "epoch: 55, train Loss: 0.0957, test Loss: 2.0830\n",
            "epoch: 56, train Loss: 0.0914, test Loss: 2.0964\n",
            "epoch: 57, train Loss: 0.0881, test Loss: 2.1342\n",
            "epoch: 58, train Loss: 0.0844, test Loss: 2.1873\n",
            "epoch: 59, train Loss: 0.0810, test Loss: 2.1494\n",
            "epoch: 60, train Loss: 0.0775, test Loss: 2.1757\n",
            "epoch: 61, train Loss: 0.0744, test Loss: 2.1197\n",
            "epoch: 62, train Loss: 0.0714, test Loss: 2.1439\n",
            "epoch: 63, train Loss: 0.0688, test Loss: 2.1396\n",
            "epoch: 64, train Loss: 0.0660, test Loss: 2.1403\n",
            "epoch: 65, train Loss: 0.0628, test Loss: 2.1552\n",
            "epoch: 66, train Loss: 0.0607, test Loss: 2.1341\n",
            "epoch: 67, train Loss: 0.0582, test Loss: 2.1661\n",
            "epoch: 68, train Loss: 0.0562, test Loss: 2.1527\n",
            "epoch: 69, train Loss: 0.0538, test Loss: 2.1660\n",
            "epoch: 70, train Loss: 0.0516, test Loss: 2.1350\n",
            "epoch: 71, train Loss: 0.0497, test Loss: 2.1402\n",
            "epoch: 72, train Loss: 0.0480, test Loss: 2.1433\n",
            "epoch: 73, train Loss: 0.0459, test Loss: 2.1129\n",
            "epoch: 74, train Loss: 0.0441, test Loss: 2.1166\n",
            "epoch: 75, train Loss: 0.0425, test Loss: 2.1432\n",
            "epoch: 76, train Loss: 0.0407, test Loss: 2.1375\n",
            "epoch: 77, train Loss: 0.0393, test Loss: 2.1355\n",
            "epoch: 78, train Loss: 0.0379, test Loss: 2.1221\n",
            "epoch: 79, train Loss: 0.0365, test Loss: 2.1242\n",
            "epoch: 80, train Loss: 0.0354, test Loss: 2.1525\n",
            "epoch: 81, train Loss: 0.0341, test Loss: 2.1211\n",
            "epoch: 82, train Loss: 0.0327, test Loss: 2.1665\n",
            "epoch: 83, train Loss: 0.0314, test Loss: 2.1133\n",
            "epoch: 84, train Loss: 0.0303, test Loss: 2.1189\n",
            "epoch: 85, train Loss: 0.0293, test Loss: 2.1440\n",
            "epoch: 86, train Loss: 0.0283, test Loss: 2.1452\n",
            "epoch: 87, train Loss: 0.0272, test Loss: 2.1268\n",
            "epoch: 88, train Loss: 0.0264, test Loss: 2.1351\n",
            "epoch: 89, train Loss: 0.0253, test Loss: 2.1473\n",
            "epoch: 90, train Loss: 0.0246, test Loss: 2.1443\n",
            "epoch: 91, train Loss: 0.0238, test Loss: 2.1464\n",
            "epoch: 92, train Loss: 0.0230, test Loss: 2.1566\n",
            "epoch: 93, train Loss: 0.0222, test Loss: 2.1526\n",
            "epoch: 94, train Loss: 0.0216, test Loss: 2.1330\n",
            "epoch: 95, train Loss: 0.0208, test Loss: 2.1601\n",
            "epoch: 96, train Loss: 0.0201, test Loss: 2.1619\n",
            "epoch: 97, train Loss: 0.0194, test Loss: 2.1481\n",
            "epoch: 98, train Loss: 0.0189, test Loss: 2.1537\n",
            "epoch: 99, train Loss: 0.0182, test Loss: 2.1521\n",
            "epoch: 100, train Loss: 0.0177, test Loss: 2.1525\n"
          ]
        }
      ],
      "source": [
        "train_losses = []\n",
        "test_losses = []\n",
        "\n",
        "for epoch in range(num_epochs):\n",
        "    \n",
        "    train_loss = funcTrain(model, train_iter, criterion, optimizer, device)\n",
        "    test_loss = funcEval(model, test_iter, criterion, device)\n",
        "\n",
        "    train_losses.append(train_loss)\n",
        "    test_losses.append(test_loss)\n",
        "\n",
        "    print(f'epoch: {epoch + 1}, train Loss: {train_loss:.4f}, test Loss: {test_loss:.4f}')"
      ]
    },
    {
      "cell_type": "code",
      "execution_count": 13,
      "metadata": {
        "colab": {
          "base_uri": "https://localhost:8080/",
          "height": 458
        },
        "id": "cKzYeeiq9MU_",
        "outputId": "f72b9b9c-2748-4024-f6f5-c0ae5df42bbb"
      },
      "outputs": [
        {
          "data": {
            "image/png": "[encoded data removed]",
            "text/plain": [
              "<Figure size 864x504 with 1 Axes>"
            ]
          },
          "metadata": {
            "needs_background": "light"
          },
          "output_type": "display_data"
        }
      ],
      "source": [
        "fig, ax = plt.subplots(1, 1, figsize=(12, 7))\n",
        "\n",
        "x = [i for i in range(1, num_epochs + 1)]\n",
        "\n",
        "ax.plot(x, train_losses,\n",
        "          label='train loss')\n",
        "ax.plot(x, test_losses,\n",
        "          label='test_loss')\n",
        "\n",
        "ax.set_xlabel(\"epoch\")\n",
        "ax.set_ylabel(\"loss\")\n",
        "ax.set_title('MSE')\n",
        "ax.legend()\n",
        "\n",
        "ax.spines['top'].set_visible(False) # 위 테두리 안 보이게\n",
        "ax.spines['right'].set_visible(False) # 오른쪽 테두리 안 보이게\n",
        "\n",
        "plt.show()"
      ]
    },
    {
      "cell_type": "code",
      "execution_count": null,
      "metadata": {
        "id": "_fLFjbDmD3vc"
      },
      "outputs": [],
      "source": []
    }
  ],
  "metadata": {
    "accelerator": "GPU",
    "colab": {
      "collapsed_sections": [
        "nFLQdOQ-_YHl",
        "Q4qtTxjB9lfF"
      ],
      "include_colab_link": true,
      "name": "AutoRec: Autoencoders Meet Collaborative Filtering, 2015.ipynb",
      "provenance": []
    },
    "kernelspec": {
      "display_name": "Python 3.10.4 ('rec')",
      "language": "python",
      "name": "python3"
    },
    "language_info": {
      "codemirror_mode": {
        "name": "ipython",
        "version": 3
      },
      "file_extension": ".py",
      "mimetype": "text/x-python",
      "name": "python",
      "nbconvert_exporter": "python",
      "pygments_lexer": "ipython3",
      "version": "3.10.4"
    },
    "vscode": {
      "interpreter": {
        "hash": "60efa7c3638629d61431b9203dfa8f9279c63421872ae8c89d4ccb9fe16b5abe"
      }
    }
  },
  "nbformat": 4,
  "nbformat_minor": 0
}
