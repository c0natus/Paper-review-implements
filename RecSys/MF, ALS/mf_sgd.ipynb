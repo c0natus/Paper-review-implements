{
 "cells": [
  {
   "cell_type": "code",
   "execution_count": 1,
   "metadata": {},
   "outputs": [
    {
     "name": "stderr",
     "output_type": "stream",
     "text": [
      "c:\\Users\\temp\\miniconda3\\envs\\rec\\lib\\site-packages\\tqdm\\auto.py:22: TqdmWarning: IProgress not found. Please update jupyter and ipywidgets. See https://ipywidgets.readthedocs.io/en/stable/user_install.html\n",
      "  from .autonotebook import tqdm as notebook_tqdm\n"
     ]
    }
   ],
   "source": [
    "import os\n",
    "import pandas as pd\n",
    "\n",
    "from sklearn.preprocessing import LabelEncoder\n",
    "from sklearn.model_selection import train_test_split\n",
    "\n",
    "import torch\n",
    "import torch.nn as nn\n",
    "from torch.utils.data import Dataset\n",
    "from torch.utils.data import DataLoader\n",
    "\n",
    "from tqdm import tqdm\n",
    "\n",
    "import matplotlib.pyplot as plt\n",
    "\n",
    "DATA_DIR = os.path.join('..', 'Data')\n",
    "MOVIE_DATA = os.path.join(DATA_DIR, 'ml-latest-small', 'ratings.csv')"
   ]
  },
  {
   "cell_type": "markdown",
   "metadata": {},
   "source": [
    "# 1. Data Preprocessing"
   ]
  },
  {
   "cell_type": "code",
   "execution_count": 2,
   "metadata": {},
   "outputs": [],
   "source": [
    "def get_movie_df() -> pd.DataFrame:\n",
    "    \"\"\"\n",
    "    read movie data and return data frame\n",
    "        colmns: user, movie, rating\n",
    "    \"\"\"\n",
    "    movie_raw_df = pd.read_csv(MOVIE_DATA)\n",
    "    movie_raw_df.drop(labels='timestamp', axis=1, inplace=True)\n",
    "    movie_raw_df.rename(columns={'userId': 'user', 'movieId': 'movie'}, inplace=True)\n",
    "\n",
    "    return movie_raw_df"
   ]
  },
  {
   "cell_type": "code",
   "execution_count": 3,
   "metadata": {},
   "outputs": [],
   "source": [
    "def encode(df: pd.DataFrame) -> tuple[pd.DataFrame, LabelEncoder, LabelEncoder]:\n",
    "    \"\"\"\n",
    "    encode and return user and movie\n",
    "    \"\"\"\n",
    "\n",
    "    user_encoder = LabelEncoder()\n",
    "    movie_encoder = LabelEncoder()\n",
    "\n",
    "    df['user'] = user_encoder.fit_transform(df['user'].values)\n",
    "    df['movie'] = movie_encoder.fit_transform(df['movie'].values)\n",
    "\n",
    "    return df, user_encoder, movie_encoder"
   ]
  },
  {
   "cell_type": "markdown",
   "metadata": {},
   "source": [
    "# 2. Dataset"
   ]
  },
  {
   "cell_type": "code",
   "execution_count": 4,
   "metadata": {},
   "outputs": [],
   "source": [
    "class MFDataset(Dataset):\n",
    "    def __init__(self, df, train, train_size) -> None:\n",
    "        \n",
    "        self._all_df = df\n",
    "        self.num_user = len(self._all_df['user'].unique())\n",
    "        self.num_movie = len(self._all_df['movie'].unique())\n",
    "\n",
    "        self.data = self._data_split(train, train_size)\n",
    "\n",
    "    def _data_split(self, train, train_size):\n",
    "        train_data, test_data = train_test_split(\n",
    "            self._all_df, \n",
    "            test_size=1-train_size, \n",
    "            train_size=train_size, \n",
    "            stratify=self._all_df['user'].values, \n",
    "            random_state=42)\n",
    "\n",
    "        if train:\n",
    "            return train_data\n",
    "        else:\n",
    "            return test_data\n",
    "    \n",
    "    def __len__(self) -> int:\n",
    "        return len(self.data)\n",
    "\n",
    "    def __getitem__(self, index) -> tuple[torch.tensor, torch.tensor]:\n",
    "        user = torch.tensor(self.data.iloc[index].user).int()\n",
    "        movie = torch.tensor(self.data.iloc[index].movie).int()\n",
    "        rating = torch.tensor(self.data.iloc[index].rating).float()\n",
    "        return user, movie, rating\n",
    "\n",
    "\n",
    "def get_dataloader(df, train=True, train_size=0.8, batch_size=512):\n",
    "    \"\"\"\n",
    "    make dataset, dataloader and return dataloader\n",
    "    \"\"\"\n",
    "    dataset = MFDataset(df, train, train_size)\n",
    "    dataloader = DataLoader(dataset, batch_size=batch_size, shuffle=train, drop_last=False)\n",
    "\n",
    "    return dataloader"
   ]
  },
  {
   "cell_type": "markdown",
   "metadata": {},
   "source": [
    "# 3. Model"
   ]
  },
  {
   "cell_type": "code",
   "execution_count": 5,
   "metadata": {},
   "outputs": [],
   "source": [
    "class MF(nn.Module):\n",
    "    def __init__(self, num_user: int, num_movie: int, dim: int) -> None:\n",
    "        super(MF, self).__init__()\n",
    "        \n",
    "        self.user_embeddings = nn.Embedding(num_user, dim)\n",
    "        self.movie_embeddings = nn.Embedding(num_movie, dim)\n",
    "\n",
    "        self._init_weights()\n",
    "    \n",
    "    def _init_weights(self):\n",
    "        self.user_embeddings.weight.data.normal_(0, 1.0 / self.user_embeddings.embedding_dim)\n",
    "        self.movie_embeddings.weight.data.normal_(0, 1.0 / self.movie_embeddings.embedding_dim)\n",
    "    \n",
    "    def forward(self, user: int, movie: int) -> float:\n",
    "        user_embed = self.user_embeddings(user)\n",
    "        movie_embed = self.movie_embeddings(movie)\n",
    "\n",
    "        batch_size, dim = user_embed.shape\n",
    "        return torch.bmm(user_embed.view(batch_size, 1, dim), movie_embed.view(batch_size, dim, 1)).squeeze()"
   ]
  },
  {
   "cell_type": "markdown",
   "metadata": {},
   "source": [
    "# 4. train, test, plot func"
   ]
  },
  {
   "cell_type": "code",
   "execution_count": 6,
   "metadata": {},
   "outputs": [],
   "source": [
    "def train(model, train_loader, criterion, optimizer, device):\n",
    "    model.to(device)\n",
    "    criterion.to(device)\n",
    "\n",
    "    model.train()\n",
    "    total_train_loss = 0\n",
    "\n",
    "    for user, movie, rating in tqdm(train_loader):\n",
    "        user = user.to(device)\n",
    "        movie = movie.to(device)\n",
    "        rating = rating.to(device)\n",
    "\n",
    "        predict = model(user, movie)\n",
    "\n",
    "        train_loss = criterion(predict, rating)\n",
    "\n",
    "        optimizer.zero_grad()\n",
    "        train_loss.backward()\n",
    "        optimizer.step()\n",
    "\n",
    "        total_train_loss += train_loss.item()\n",
    "    \n",
    "    loss_avg = total_train_loss / len(train_loader)\n",
    "\n",
    "    return loss_avg"
   ]
  },
  {
   "cell_type": "code",
   "execution_count": 7,
   "metadata": {},
   "outputs": [],
   "source": [
    "def test(model, test_loader, criterion, device):\n",
    "    model.to(device)\n",
    "    criterion.to(device)\n",
    "    model.eval()\n",
    "\n",
    "    total_test_loss = 0\n",
    "    with torch.no_grad():\n",
    "        for user, movie, rating in tqdm(test_loader):\n",
    "            user = user.to(device)\n",
    "            movie = movie.to(device)\n",
    "            rating = rating.to(device)\n",
    "\n",
    "            predict = model(user, movie)\n",
    "            test_loss = criterion(predict, rating)\n",
    "\n",
    "            total_test_loss += test_loss.item()\n",
    "\n",
    "    return total_test_loss / len(test_loader)"
   ]
  },
  {
   "cell_type": "code",
   "execution_count": 8,
   "metadata": {},
   "outputs": [],
   "source": [
    "def plot_loss(epochs, train_losses, test_losses, model_name):\n",
    "    fig, ax = plt.subplots(1, 1, figsize=(10, 7))\n",
    "    fig.suptitle(model_name, fontsize=30)\n",
    "    x = [i for i in range(1, epochs+1)]\n",
    "\n",
    "    ax.plot(x, train_losses,\n",
    "          label='train loss')\n",
    "    ax.plot(x, test_losses,\n",
    "            label='test_loss')\n",
    "\n",
    "    ax.set_xlabel(\"epoch\")\n",
    "    ax.set_ylabel(\"loss\")\n",
    "    ax.set_title('MSE')\n",
    "    ax.legend()\n",
    "\n",
    "    ax.spines['top'].set_visible(False) # 위 테두리 안 보이게\n",
    "    ax.spines['right'].set_visible(False) # 오른쪽 테두리 안 보이게\n",
    "\n",
    "    plt.show()"
   ]
  },
  {
   "cell_type": "markdown",
   "metadata": {},
   "source": [
    "# 5. Set config"
   ]
  },
  {
   "cell_type": "code",
   "execution_count": 9,
   "metadata": {},
   "outputs": [
    {
     "name": "stdout",
     "output_type": "stream",
     "text": [
      "user cuda:0\n"
     ]
    }
   ],
   "source": [
    "device = torch.device('cuda:0' if torch.cuda.is_available() else 'cpu')\n",
    "print(f\"user {device}\")\n",
    "\n",
    "movie_df = get_movie_df()\n",
    "movie_df, user_encoder, movie_encoder = encode(movie_df)\n",
    "\n",
    "train_loader = get_dataloader(movie_df, train=True)\n",
    "test_loader = get_dataloader(movie_df, train=False)\n",
    "\n",
    "num_user = movie_df['user'].nunique()\n",
    "num_movie = movie_df['movie'].nunique()\n",
    "dim = 10\n",
    "\n",
    "num_epoch = 25\n",
    "model = MF(num_user, num_movie, dim)\n",
    "\n",
    "learning_rate = 1e-3 # gamma in paper\n",
    "weight_decay = 1e-6 # regularization in paper\n",
    "optimizer = torch.optim.Adam(model.parameters(), lr=learning_rate, weight_decay=weight_decay)\n",
    "criterion = nn.MSELoss()"
   ]
  },
  {
   "cell_type": "markdown",
   "metadata": {},
   "source": [
    "# 6. Do train, test, plot"
   ]
  },
  {
   "cell_type": "code",
   "execution_count": 10,
   "metadata": {},
   "outputs": [
    {
     "name": "stderr",
     "output_type": "stream",
     "text": [
      "100%|██████████| 158/158 [00:27<00:00,  5.77it/s]\n",
      "100%|██████████| 40/40 [00:06<00:00,  6.31it/s]\n"
     ]
    },
    {
     "name": "stdout",
     "output_type": "stream",
     "text": [
      "epoch: 1, train Loss: 13.3431, test Loss: 13.3265\n"
     ]
    },
    {
     "name": "stderr",
     "output_type": "stream",
     "text": [
      "100%|██████████| 158/158 [00:25<00:00,  6.11it/s]\n",
      "100%|██████████| 40/40 [00:06<00:00,  6.29it/s]\n"
     ]
    },
    {
     "name": "stdout",
     "output_type": "stream",
     "text": [
      "epoch: 2, train Loss: 13.2564, test Loss: 13.1766\n"
     ]
    },
    {
     "name": "stderr",
     "output_type": "stream",
     "text": [
      "100%|██████████| 158/158 [00:30<00:00,  5.12it/s]\n",
      "100%|██████████| 40/40 [00:08<00:00,  4.87it/s]\n"
     ]
    },
    {
     "name": "stdout",
     "output_type": "stream",
     "text": [
      "epoch: 3, train Loss: 12.8169, test Loss: 12.3831\n"
     ]
    },
    {
     "name": "stderr",
     "output_type": "stream",
     "text": [
      "100%|██████████| 158/158 [00:33<00:00,  4.70it/s]\n",
      "100%|██████████| 40/40 [00:08<00:00,  4.77it/s]\n"
     ]
    },
    {
     "name": "stdout",
     "output_type": "stream",
     "text": [
      "epoch: 4, train Loss: 11.3695, test Loss: 10.3354\n"
     ]
    },
    {
     "name": "stderr",
     "output_type": "stream",
     "text": [
      "100%|██████████| 158/158 [00:29<00:00,  5.27it/s]\n",
      "100%|██████████| 40/40 [00:07<00:00,  5.04it/s]\n"
     ]
    },
    {
     "name": "stdout",
     "output_type": "stream",
     "text": [
      "epoch: 5, train Loss: 8.7608, test Loss: 7.4855\n"
     ]
    },
    {
     "name": "stderr",
     "output_type": "stream",
     "text": [
      "100%|██████████| 158/158 [00:31<00:00,  4.95it/s]\n",
      "100%|██████████| 40/40 [00:07<00:00,  5.32it/s]\n"
     ]
    },
    {
     "name": "stdout",
     "output_type": "stream",
     "text": [
      "epoch: 6, train Loss: 5.9438, test Loss: 5.0370\n"
     ]
    },
    {
     "name": "stderr",
     "output_type": "stream",
     "text": [
      "100%|██████████| 158/158 [00:26<00:00,  5.87it/s]\n",
      "100%|██████████| 40/40 [00:06<00:00,  6.35it/s]\n"
     ]
    },
    {
     "name": "stdout",
     "output_type": "stream",
     "text": [
      "epoch: 7, train Loss: 3.9272, test Loss: 3.5795\n"
     ]
    },
    {
     "name": "stderr",
     "output_type": "stream",
     "text": [
      "100%|██████████| 158/158 [00:25<00:00,  6.21it/s]\n",
      "100%|██████████| 40/40 [00:06<00:00,  6.37it/s]\n"
     ]
    },
    {
     "name": "stdout",
     "output_type": "stream",
     "text": [
      "epoch: 8, train Loss: 2.8102, test Loss: 2.8225\n"
     ]
    },
    {
     "name": "stderr",
     "output_type": "stream",
     "text": [
      "100%|██████████| 158/158 [00:25<00:00,  6.18it/s]\n",
      "100%|██████████| 40/40 [00:06<00:00,  6.06it/s]\n"
     ]
    },
    {
     "name": "stdout",
     "output_type": "stream",
     "text": [
      "epoch: 9, train Loss: 2.1934, test Loss: 2.3873\n"
     ]
    },
    {
     "name": "stderr",
     "output_type": "stream",
     "text": [
      "100%|██████████| 158/158 [00:25<00:00,  6.14it/s]\n",
      "100%|██████████| 40/40 [00:06<00:00,  6.24it/s]\n"
     ]
    },
    {
     "name": "stdout",
     "output_type": "stream",
     "text": [
      "epoch: 10, train Loss: 1.8064, test Loss: 2.1027\n"
     ]
    },
    {
     "name": "stderr",
     "output_type": "stream",
     "text": [
      "100%|██████████| 158/158 [00:25<00:00,  6.14it/s]\n",
      "100%|██████████| 40/40 [00:06<00:00,  6.30it/s]\n"
     ]
    },
    {
     "name": "stdout",
     "output_type": "stream",
     "text": [
      "epoch: 11, train Loss: 1.5383, test Loss: 1.9050\n"
     ]
    },
    {
     "name": "stderr",
     "output_type": "stream",
     "text": [
      "100%|██████████| 158/158 [00:25<00:00,  6.14it/s]\n",
      "100%|██████████| 40/40 [00:06<00:00,  6.34it/s]\n"
     ]
    },
    {
     "name": "stdout",
     "output_type": "stream",
     "text": [
      "epoch: 12, train Loss: 1.3421, test Loss: 1.7615\n"
     ]
    },
    {
     "name": "stderr",
     "output_type": "stream",
     "text": [
      "100%|██████████| 158/158 [00:25<00:00,  6.09it/s]\n",
      "100%|██████████| 40/40 [00:06<00:00,  6.29it/s]\n"
     ]
    },
    {
     "name": "stdout",
     "output_type": "stream",
     "text": [
      "epoch: 13, train Loss: 1.1960, test Loss: 1.6556\n"
     ]
    },
    {
     "name": "stderr",
     "output_type": "stream",
     "text": [
      "100%|██████████| 158/158 [00:25<00:00,  6.15it/s]\n",
      "100%|██████████| 40/40 [00:06<00:00,  6.34it/s]\n"
     ]
    },
    {
     "name": "stdout",
     "output_type": "stream",
     "text": [
      "epoch: 14, train Loss: 1.0821, test Loss: 1.5758\n"
     ]
    },
    {
     "name": "stderr",
     "output_type": "stream",
     "text": [
      "100%|██████████| 158/158 [00:26<00:00,  6.04it/s]\n",
      "100%|██████████| 40/40 [00:06<00:00,  6.35it/s]\n"
     ]
    },
    {
     "name": "stdout",
     "output_type": "stream",
     "text": [
      "epoch: 15, train Loss: 0.9926, test Loss: 1.5144\n"
     ]
    },
    {
     "name": "stderr",
     "output_type": "stream",
     "text": [
      "100%|██████████| 158/158 [00:25<00:00,  6.09it/s]\n",
      "100%|██████████| 40/40 [00:06<00:00,  6.34it/s]\n"
     ]
    },
    {
     "name": "stdout",
     "output_type": "stream",
     "text": [
      "epoch: 16, train Loss: 0.9209, test Loss: 1.4665\n"
     ]
    },
    {
     "name": "stderr",
     "output_type": "stream",
     "text": [
      "100%|██████████| 158/158 [00:25<00:00,  6.08it/s]\n",
      "100%|██████████| 40/40 [00:06<00:00,  6.36it/s]\n"
     ]
    },
    {
     "name": "stdout",
     "output_type": "stream",
     "text": [
      "epoch: 17, train Loss: 0.8613, test Loss: 1.4282\n"
     ]
    },
    {
     "name": "stderr",
     "output_type": "stream",
     "text": [
      "100%|██████████| 158/158 [00:25<00:00,  6.09it/s]\n",
      "100%|██████████| 40/40 [00:06<00:00,  6.35it/s]\n"
     ]
    },
    {
     "name": "stdout",
     "output_type": "stream",
     "text": [
      "epoch: 18, train Loss: 0.8127, test Loss: 1.3986\n"
     ]
    },
    {
     "name": "stderr",
     "output_type": "stream",
     "text": [
      "100%|██████████| 158/158 [00:25<00:00,  6.10it/s]\n",
      "100%|██████████| 40/40 [00:06<00:00,  6.29it/s]\n"
     ]
    },
    {
     "name": "stdout",
     "output_type": "stream",
     "text": [
      "epoch: 19, train Loss: 0.7724, test Loss: 1.3753\n"
     ]
    },
    {
     "name": "stderr",
     "output_type": "stream",
     "text": [
      "100%|██████████| 158/158 [00:25<00:00,  6.13it/s]\n",
      "100%|██████████| 40/40 [00:06<00:00,  6.35it/s]\n"
     ]
    },
    {
     "name": "stdout",
     "output_type": "stream",
     "text": [
      "epoch: 20, train Loss: 0.7384, test Loss: 1.3565\n"
     ]
    },
    {
     "name": "stderr",
     "output_type": "stream",
     "text": [
      "100%|██████████| 158/158 [00:25<00:00,  6.12it/s]\n",
      "100%|██████████| 40/40 [00:06<00:00,  6.34it/s]\n"
     ]
    },
    {
     "name": "stdout",
     "output_type": "stream",
     "text": [
      "epoch: 21, train Loss: 0.7095, test Loss: 1.3417\n"
     ]
    },
    {
     "name": "stderr",
     "output_type": "stream",
     "text": [
      "100%|██████████| 158/158 [00:25<00:00,  6.10it/s]\n",
      "100%|██████████| 40/40 [00:06<00:00,  6.35it/s]\n"
     ]
    },
    {
     "name": "stdout",
     "output_type": "stream",
     "text": [
      "epoch: 22, train Loss: 0.6845, test Loss: 1.3305\n"
     ]
    },
    {
     "name": "stderr",
     "output_type": "stream",
     "text": [
      "100%|██████████| 158/158 [00:25<00:00,  6.10it/s]\n",
      "100%|██████████| 40/40 [00:06<00:00,  6.34it/s]\n"
     ]
    },
    {
     "name": "stdout",
     "output_type": "stream",
     "text": [
      "epoch: 23, train Loss: 0.6635, test Loss: 1.3209\n"
     ]
    },
    {
     "name": "stderr",
     "output_type": "stream",
     "text": [
      "100%|██████████| 158/158 [00:25<00:00,  6.12it/s]\n",
      "100%|██████████| 40/40 [00:06<00:00,  6.35it/s]\n"
     ]
    },
    {
     "name": "stdout",
     "output_type": "stream",
     "text": [
      "epoch: 24, train Loss: 0.6446, test Loss: 1.3142\n"
     ]
    },
    {
     "name": "stderr",
     "output_type": "stream",
     "text": [
      "100%|██████████| 158/158 [00:26<00:00,  6.07it/s]\n",
      "100%|██████████| 40/40 [00:06<00:00,  6.34it/s]"
     ]
    },
    {
     "name": "stdout",
     "output_type": "stream",
     "text": [
      "epoch: 25, train Loss: 0.6284, test Loss: 1.3088\n"
     ]
    },
    {
     "name": "stderr",
     "output_type": "stream",
     "text": [
      "\n"
     ]
    }
   ],
   "source": [
    "train_losses = []\n",
    "test_losses = []\n",
    "\n",
    "for epoch in range(num_epoch):\n",
    "    train_loss = train(model, train_loader, criterion, optimizer, device)\n",
    "    train_losses.append(train_loss)\n",
    "\n",
    "    test_loss = test(model, test_loader, criterion, device)\n",
    "    test_losses.append(test_loss)\n",
    "\n",
    "    print(f'epoch: {epoch + 1}, train Loss: {train_loss:.4f}, test Loss: {test_loss:.4f}')"
   ]
  },
  {
   "cell_type": "code",
   "execution_count": 11,
   "metadata": {},
   "outputs": [
    {
     "data": {
      "image/png": "[encoded data removed]",
      "text/plain": [
       "<Figure size 720x504 with 1 Axes>"
      ]
     },
     "metadata": {
      "needs_background": "light"
     },
     "output_type": "display_data"
    }
   ],
   "source": [
    "plot_loss(num_epoch, train_losses, test_losses, 'MF')"
   ]
  }
 ],
 "metadata": {
  "kernelspec": {
   "display_name": "Python 3.10.4 ('rec')",
   "language": "python",
   "name": "python3"
  },
  "language_info": {
   "codemirror_mode": {
    "name": "ipython",
    "version": 3
   },
   "file_extension": ".py",
   "mimetype": "text/x-python",
   "name": "python",
   "nbconvert_exporter": "python",
   "pygments_lexer": "ipython3",
   "version": "3.10.4"
  },
  "orig_nbformat": 4,
  "vscode": {
   "interpreter": {
    "hash": "60efa7c3638629d61431b9203dfa8f9279c63421872ae8c89d4ccb9fe16b5abe"
   }
  }
 },
 "nbformat": 4,
 "nbformat_minor": 2
}
